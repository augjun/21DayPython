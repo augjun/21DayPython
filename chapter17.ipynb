{
 "cells": [
  {
   "cell_type": "markdown",
   "metadata": {},
   "source": [
    "# 使用re库做正则匹配"
   ]
  },
  {
   "cell_type": "code",
   "execution_count": 1,
   "metadata": {},
   "outputs": [],
   "source": [
    "import re"
   ]
  },
  {
   "cell_type": "code",
   "execution_count": 2,
   "metadata": {},
   "outputs": [
    {
     "name": "stdout",
     "output_type": "stream",
     "text": [
      "<_sre.SRE_Match object; span=(0, 5), match='hello'>\n"
     ]
    }
   ],
   "source": [
    "# match函数 - 从字符串的起始位置开始匹配\n",
    "# 匹配成功返回一个匹配的对象，否则返回None\n",
    "# 字符串前的r表示不转义\n",
    "matched = re.match(r'hello', 'hellopy')\n",
    "print(matched)"
   ]
  },
  {
   "cell_type": "code",
   "execution_count": 3,
   "metadata": {},
   "outputs": [
    {
     "name": "stdout",
     "output_type": "stream",
     "text": [
      "None\n"
     ]
    }
   ],
   "source": [
    "matched = re.match(r'hello', 'hi hello')\n",
    "print(matched)"
   ]
  },
  {
   "cell_type": "code",
   "execution_count": 4,
   "metadata": {},
   "outputs": [
    {
     "name": "stdout",
     "output_type": "stream",
     "text": [
      "<_sre.SRE_Match object; span=(0, 3), match='abc'>\n"
     ]
    }
   ],
   "source": [
    "matched = re.match(r'[^0-9]+', 'abc012')\n",
    "print(matched)"
   ]
  },
  {
   "cell_type": "code",
   "execution_count": 5,
   "metadata": {},
   "outputs": [
    {
     "name": "stdout",
     "output_type": "stream",
     "text": [
      "None\n"
     ]
    }
   ],
   "source": [
    "matched = re.match(r'[^0-9]+', '012')\n",
    "print(matched)"
   ]
  },
  {
   "cell_type": "code",
   "execution_count": 6,
   "metadata": {},
   "outputs": [
    {
     "name": "stdout",
     "output_type": "stream",
     "text": [
      "900\n"
     ]
    }
   ],
   "source": [
    "# group方法 - 返回匹配的子组\n",
    "# 子组编号从1开始，从左向右，每次加1\n",
    "matched = re.match(r'\\$([0-9]+)', \"$900\")\n",
    "print(matched.group(1))"
   ]
  },
  {
   "cell_type": "code",
   "execution_count": 7,
   "metadata": {},
   "outputs": [
    {
     "name": "stdout",
     "output_type": "stream",
     "text": [
      "john 25\n"
     ]
    }
   ],
   "source": [
    "matched = re.match(r'name: ([a-z]+), age: ([0-9]+)', \"name: john, age: 25\")\n",
    "print(matched.group(1), matched.group(2))"
   ]
  },
  {
   "cell_type": "code",
   "execution_count": 8,
   "metadata": {},
   "outputs": [
    {
     "name": "stdout",
     "output_type": "stream",
     "text": [
      "<_sre.SRE_Match object; span=(0, 10), match='2020-01-01'>\n"
     ]
    }
   ],
   "source": [
    "# search函数 - 从字符串的任意位置开始匹配\n",
    "# 匹配成功返回一个匹配对象，否则返回None\n",
    "\n",
    "matched = re.search(r\"[0-9]+\\-[0-9]+\\-[0-9]+\", \"2020-01-01\")\n",
    "print(matched)"
   ]
  },
  {
   "cell_type": "code",
   "execution_count": 9,
   "metadata": {},
   "outputs": [
    {
     "name": "stdout",
     "output_type": "stream",
     "text": [
      "<_sre.SRE_Match object; span=(0, 4), match='a123'>\n"
     ]
    }
   ],
   "source": [
    "matched = re.search(r\"[a-z]+[a-z0-9]*\", \"a123\")\n",
    "print(matched)"
   ]
  },
  {
   "cell_type": "code",
   "execution_count": 10,
   "metadata": {},
   "outputs": [
    {
     "name": "stdout",
     "output_type": "stream",
     "text": [
      "<_sre.SRE_Match object; span=(6, 12), match='python'>\n"
     ]
    }
   ],
   "source": [
    "matched = re.search(r\"python\", \"hello python\")\n",
    "print(matched)"
   ]
  },
  {
   "cell_type": "code",
   "execution_count": 11,
   "metadata": {},
   "outputs": [
    {
     "data": {
      "text/plain": [
       "'a</div><div>b'"
      ]
     },
     "execution_count": 11,
     "metadata": {},
     "output_type": "execute_result"
    }
   ],
   "source": [
    "# 贪婪匹配\n",
    "html = \"<div>a</div><div>b</div>\"\n",
    "matched = re.search(r\"<div>(.*)</div>\", html)\n",
    "matched.group(1)"
   ]
  },
  {
   "cell_type": "code",
   "execution_count": 12,
   "metadata": {},
   "outputs": [
    {
     "data": {
      "text/plain": [
       "'a'"
      ]
     },
     "execution_count": 12,
     "metadata": {},
     "output_type": "execute_result"
    }
   ],
   "source": [
    "# 非贪婪匹配\n",
    "html = \"<div>a</div><div>b</div>\"\n",
    "matched = re.search(r\"<div>(.*?)</div>\", html)\n",
    "matched.group(1)"
   ]
  },
  {
   "cell_type": "code",
   "execution_count": 13,
   "metadata": {},
   "outputs": [
    {
     "name": "stdout",
     "output_type": "stream",
     "text": [
      "None\n",
      "<_sre.SRE_Match object; span=(14, 18), match='best'>\n"
     ]
    }
   ],
   "source": [
    "# match与search的区别\n",
    "# match只匹配字符串的开始，如果字符串开始不符合正则表达式，则匹配失败，函数返回None\n",
    "# 而search匹配整个字符串，直到找到一个匹配\n",
    "line = \"Python is the best programming language\";\n",
    " \n",
    "matched = re.match( r'best', line)\n",
    "print(matched)\n",
    "matched = re.search( r'best', line)\n",
    "print(matched)"
   ]
  },
  {
   "cell_type": "markdown",
   "metadata": {},
   "source": [
    "# 实战项目 - 见PPT"
   ]
  },
  {
   "cell_type": "code",
   "execution_count": 14,
   "metadata": {},
   "outputs": [
    {
     "name": "stdout",
     "output_type": "stream",
     "text": [
      "name: 业主诚心出售，有钥匙，看房方便。, xiaoqu: 飞虹北村 , total: 105.0, unit price: 11291.0\n",
      "name: 国家会展 徐泾地铁站诸光路地铁站小区环境好有钥匙, xiaoqu: 玉兰清苑 , total: 300.0, unit price: 43479.0\n",
      "name: 花园位置，1梯2户，不靠高架，看房方便，93年样板小区, xiaoqu: 康强坊 , total: 368.0, unit price: 61181.0\n",
      "name: 沪亭北路精装大两房 满五年 前后无遮挡 随签随看, xiaoqu: 知雅汇(公寓) , total: 340.0, unit price: 34854.0\n",
      "name: 动迁房 精装修  中间位置 采光无遮挡 税费少, xiaoqu: 绿地新江桥城三期 , total: 318.0, unit price: 41466.0\n",
      "name: 沿地铁南北通房源，小区环境好房龄新，业主诚意出售, xiaoqu: 金硕河畔景园西区 , total: 228.0, unit price: 31672.0\n",
      "name: 一梯两户，双南两房，楼层好，位置好。, xiaoqu: 龙南六村 , total: 403.0, unit price: 57953.0\n",
      "name: 房东底价.五一前有效。采光好.满五唯一.没有个税, xiaoqu: 东方花园(一期) , total: 558.0, unit price: 51325.0\n",
      "name: 动迁满五税费少  中高楼层，全天采光 视野开阔, xiaoqu: 金沙鼎苑 , total: 295.0, unit price: 38862.0\n",
      "name: 小区极少房源+户型方正+厅南北通全明+附带80平双露台, xiaoqu: 上海豪园 , total: 738.0, unit price: 47854.0\n",
      "name: 店长推荐 高品质小区 开元物业，近体育公园, xiaoqu: 东方花园二期 , total: 719.0, unit price: 71104.0\n",
      "name: 格局好，南北通户型，装修保养得好, xiaoqu: 中虹华苑 , total: 307.0, unit price: 42021.0\n",
      "name: 底楼复式带花园  大天井采光好  满五唯一税费少装修好, xiaoqu: 保利湖畔阳光苑 , total: 600.0, unit price: 24914.0\n",
      "name: 两房，双南采光好，产权清晰，户型很好，房东诚心卖。, xiaoqu: 海尚逸苑 , total: 455.0, unit price: 57039.0\n",
      "name: 满五唯一税少，南北通风全明，优质户型视野开阔有钥匙, xiaoqu: 绿地崴廉公寓 , total: 495.0, unit price: 50791.0\n",
      "name: 此房满五唯一，无个税，边套全明户型。, xiaoqu: 三门路510弄 , total: 278.0, unit price: 46303.0\n",
      "name: 双南两房 满两年 总价低   价格能聊 看房方便, xiaoqu: 新城金郡 , total: 270.0, unit price: 33793.0\n",
      "name: 中间楼层，无个税，唯一，诚意出售, xiaoqu: 三门路358弄 , total: 250.0, unit price: 45646.0\n",
      "name: 09年花园小区，税少，交通方便，采光好，车位很宽松, xiaoqu: 知雅园 , total: 675.0, unit price: 87720.0\n",
      "name: 01年小区 好楼层，南北通风，小区位置安静带租赁车位, xiaoqu: 叠加苑 , total: 560.0, unit price: 66454.0\n",
      "name: 内环内电梯三房两梯五户+产权清晰+3/8号线地铁, xiaoqu: 恒业公寓 , total: 615.0, unit price: 51259.0\n",
      "name: 店长推荐！主推房源！精装全配，拎包入住!, xiaoqu: 和源名城 , total: 399.0, unit price: 58028.0\n",
      "name: 粤秀名邸 2室2厅 510万, xiaoqu: 粤秀名邸 , total: 510.0, unit price: 63982.0\n",
      "name: 小三房，临河位置好，房东诚意出售，看房约起来！, xiaoqu: 海尚东苑 , total: 350.0, unit price: 39706.0\n",
      "name: 品质小区 一楼全天有阳光 精装两房 南北通透 产权清晰, xiaoqu: 欧五小区 , total: 326.0, unit price: 66941.0\n",
      "name: 全明户型 人车分流 空中花园小区 房东诚售 重新装修过, xiaoqu: 精文城上城 , total: 543.0, unit price: 76826.0\n",
      "name: 总价低 朝南一室户 精装修 满五唯一 近地铁, xiaoqu: 长风二村风荷园 , total: 179.0, unit price: 62348.0\n",
      "name: 市光三村南北两室 看房随时方便 诚心出售总价低楼层好, xiaoqu: 市光三村 , total: 237.0, unit price: 49811.0\n",
      "name: 南北通一室户，高得房率，位置好，无个税，看房有钥匙, xiaoqu: 汇秀景苑三街坊 , total: 166.0, unit price: 32550.0\n",
      "name: 满五年唯一 南北通   采光好 房东诚意出售, xiaoqu: 静安新城二区 , total: 269.0, unit price: 53597.0\n"
     ]
    }
   ],
   "source": [
    "import requests\n",
    "from lxml import etree\n",
    "headers = {\n",
    "    \"User-Agent\": \"Mozilla/5.0 (Windows NT 10.0; Win64; x64) AppleWebKit/537.36 (KHTML, like Gecko) Chrome/78.0.3904.97 Safari/537.36\"\n",
    "}\n",
    "\n",
    "url = \"https://sh.lianjia.com/ershoufang/\"\n",
    "# 发送请求获取该页的HTML\n",
    "r = requests.get(url, headers=headers)\n",
    "content = r.content.decode(\"utf-8\")\n",
    "\n",
    "# 开始解析HTML\n",
    "root = etree.HTML(content)\n",
    "li_nodes = root.xpath('//ul[@class=\"sellListContent\"]/li[@data-lj_view_evtid]')\n",
    "for li_node in li_nodes:\n",
    "    # 获取房源的描述\n",
    "    title = li_node.xpath('.//div[@class=\"title\"]/a')[0].text\n",
    "    xiaoqu_nodes = li_node.xpath('.//div[@class=\"flood\"]/div[@class=\"positionInfo\"]/a')\n",
    "    price_nodes = li_node.xpath('.//div[@class=\"priceInfo\"]/div[@class=\"totalPrice\"]/span')\n",
    "    up_nodes = li_node.xpath('.//div[@class=\"priceInfo\"]/div[@class=\"unitPrice\"]/span')\n",
    "    \n",
    "    xiaoqu = xiaoqu_nodes[0].text\n",
    "    price = float(price_nodes[0].text)\n",
    "    up_text = up_nodes[0].text\n",
    "    \n",
    "    # 正则匹配获取数字部分\n",
    "    matched = re.search(r'单价(.*)元/平米', up_text)\n",
    "    up_price = 0\n",
    "    if matched:\n",
    "    # 将字符串形式的单价转成浮点数类型\n",
    "        up_price = float(matched.group(1))\n",
    "    print(\"name: {}, xiaoqu: {}, total: {}, unit price: {}\".format(title, xiaoqu, price, up_price))"
   ]
  },
  {
   "cell_type": "code",
   "execution_count": null,
   "metadata": {},
   "outputs": [],
   "source": []
  },
  {
   "cell_type": "code",
   "execution_count": null,
   "metadata": {},
   "outputs": [],
   "source": []
  }
 ],
 "metadata": {
  "kernelspec": {
   "display_name": "Python 3",
   "language": "python",
   "name": "python3"
  },
  "language_info": {
   "codemirror_mode": {
    "name": "ipython",
    "version": 3
   },
   "file_extension": ".py",
   "mimetype": "text/x-python",
   "name": "python",
   "nbconvert_exporter": "python",
   "pygments_lexer": "ipython3",
   "version": "3.6.9"
  }
 },
 "nbformat": 4,
 "nbformat_minor": 2
}
