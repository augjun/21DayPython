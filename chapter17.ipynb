{
 "cells": [
  {
   "cell_type": "markdown",
   "metadata": {},
   "source": [
    "# 使用re库做正则匹配"
   ]
  },
  {
   "cell_type": "code",
   "execution_count": 1,
   "metadata": {},
   "outputs": [],
   "source": [
    "import re"
   ]
  },
  {
   "cell_type": "code",
   "execution_count": 2,
   "metadata": {},
   "outputs": [
    {
     "name": "stdout",
     "output_type": "stream",
     "text": [
      "<re.Match object; span=(0, 5), match='hello'>\n"
     ]
    }
   ],
   "source": [
    "# match函数 - 从字符串的起始位置开始匹配\n",
    "# 匹配成功返回一个匹配的对象，否则返回None\n",
    "# 字符串前的r表示不转义\n",
    "matched = re.match(r'hello', 'hellopy')\n",
    "print(matched)"
   ]
  },
  {
   "cell_type": "code",
   "execution_count": 3,
   "metadata": {},
   "outputs": [
    {
     "name": "stdout",
     "output_type": "stream",
     "text": [
      "None\n"
     ]
    }
   ],
   "source": [
    "matched = re.match(r'hello', 'hi hello')\n",
    "print(matched)"
   ]
  },
  {
   "cell_type": "code",
   "execution_count": 4,
   "metadata": {},
   "outputs": [
    {
     "name": "stdout",
     "output_type": "stream",
     "text": [
      "<re.Match object; span=(0, 3), match='abc'>\n"
     ]
    }
   ],
   "source": [
    "matched = re.match(r'[^0-9]+', 'abc012')\n",
    "print(matched)"
   ]
  },
  {
   "cell_type": "code",
   "execution_count": 5,
   "metadata": {},
   "outputs": [
    {
     "name": "stdout",
     "output_type": "stream",
     "text": [
      "None\n"
     ]
    }
   ],
   "source": [
    "matched = re.match(r'[^0-9]+', '012')\n",
    "print(matched)"
   ]
  },
  {
   "cell_type": "code",
   "execution_count": 6,
   "metadata": {},
   "outputs": [
    {
     "name": "stdout",
     "output_type": "stream",
     "text": [
      "900\n"
     ]
    }
   ],
   "source": [
    "# group方法 - 返回匹配的子组\n",
    "# 子组编号从1开始，从左向右，每次加1\n",
    "matched = re.match(r'\\$([0-9]+)', \"$900\")\n",
    "print(matched.group(1))"
   ]
  },
  {
   "cell_type": "code",
   "execution_count": 7,
   "metadata": {},
   "outputs": [
    {
     "name": "stdout",
     "output_type": "stream",
     "text": [
      "john 25\n"
     ]
    }
   ],
   "source": [
    "matched = re.match(r'name: ([a-z]+), age: ([0-9]+)', \"name: john, age: 25\")\n",
    "print(matched.group(1), matched.group(2))"
   ]
  },
  {
   "cell_type": "code",
   "execution_count": 8,
   "metadata": {},
   "outputs": [
    {
     "name": "stdout",
     "output_type": "stream",
     "text": [
      "<re.Match object; span=(0, 10), match='2020-01-01'>\n"
     ]
    }
   ],
   "source": [
    "# search函数 - 从字符串的任意位置开始匹配\n",
    "# 匹配成功返回一个匹配对象，否则返回None\n",
    "\n",
    "matched = re.search(r\"[0-9]+\\-[0-9]+\\-[0-9]+\", \"2020-01-01\")\n",
    "print(matched)"
   ]
  },
  {
   "cell_type": "code",
   "execution_count": 9,
   "metadata": {},
   "outputs": [
    {
     "name": "stdout",
     "output_type": "stream",
     "text": [
      "<re.Match object; span=(0, 4), match='a123'>\n"
     ]
    }
   ],
   "source": [
    "matched = re.search(r\"[a-z]+[a-z0-9]*\", \"a123\")\n",
    "print(matched)"
   ]
  },
  {
   "cell_type": "code",
   "execution_count": 10,
   "metadata": {},
   "outputs": [
    {
     "name": "stdout",
     "output_type": "stream",
     "text": [
      "<re.Match object; span=(6, 12), match='python'>\n"
     ]
    }
   ],
   "source": [
    "matched = re.search(r\"python\", \"hello python\")\n",
    "print(matched)"
   ]
  },
  {
   "cell_type": "code",
   "execution_count": 11,
   "metadata": {},
   "outputs": [
    {
     "data": {
      "text/plain": [
       "'a</div><div>b'"
      ]
     },
     "execution_count": 11,
     "metadata": {},
     "output_type": "execute_result"
    }
   ],
   "source": [
    "# 贪婪匹配\n",
    "html = \"<div>a</div><div>b</div>\"\n",
    "matched = re.search(r\"<div>(.*)</div>\", html)\n",
    "matched.group(1)"
   ]
  },
  {
   "cell_type": "code",
   "execution_count": 12,
   "metadata": {},
   "outputs": [
    {
     "data": {
      "text/plain": [
       "'a'"
      ]
     },
     "execution_count": 12,
     "metadata": {},
     "output_type": "execute_result"
    }
   ],
   "source": [
    "# 非贪婪匹配\n",
    "html = \"<div>a</div><div>b</div>\"\n",
    "matched = re.search(r\"<div>(.*?)</div>\", html)\n",
    "matched.group(1)"
   ]
  },
  {
   "cell_type": "code",
   "execution_count": 13,
   "metadata": {},
   "outputs": [
    {
     "name": "stdout",
     "output_type": "stream",
     "text": [
      "None\n",
      "<re.Match object; span=(14, 18), match='best'>\n"
     ]
    }
   ],
   "source": [
    "# match与search的区别\n",
    "# match只匹配字符串的开始，如果字符串开始不符合正则表达式，则匹配失败，函数返回None\n",
    "# 而search匹配整个字符串，直到找到一个匹配\n",
    "line = \"Python is the best programming language\";\n",
    " \n",
    "matched = re.match( r'best', line)\n",
    "print(matched)\n",
    "matched = re.search( r'best', line)\n",
    "print(matched)"
   ]
  },
  {
   "cell_type": "markdown",
   "metadata": {},
   "source": [
    "# 实战项目 - 见PPT"
   ]
  },
  {
   "cell_type": "code",
   "execution_count": 14,
   "metadata": {},
   "outputs": [
    {
     "name": "stdout",
     "output_type": "stream",
     "text": [
      "name: 新出房源+不靠马路+满五唯一+近地铁+诚意出售, xiaoqu: 佳龙花园 , total: 970.0, unit price: 80239.0\n",
      "name: 嘉富小区，经典一室户，一楼带天井，满五年税少, xiaoqu: 嘉富小区 , total: 146.0, unit price: 28132.0\n",
      "name: 公捷苑小区正气稀que三房，中间楼层，品质高，总价低, xiaoqu: 公捷苑 , total: 316.0, unit price: 31842.0\n",
      "name: 精装修  业主诚意出售  楼层好  配套齐全 采光好, xiaoqu: 金都花好悦园 , total: 349.0, unit price: 45532.0\n",
      "name: 精装修+拎包入住+生活配套完善, xiaoqu: 益丰新村 , total: 470.0, unit price: 46397.0\n",
      "name: 朝南房间采光好，交通便利，业主诚心, xiaoqu: 密山二村 , total: 129.0, unit price: 36287.0\n",
      "name: 五角场精装带地暖+满五唯一+中楼层+配套齐全交通方便, xiaoqu: 政民路150弄 , total: 273.0, unit price: 61445.0\n",
      "name: 满五年+小区央座楼层好+简单装修+业主诚售+拎包入住, xiaoqu: 城西小区 , total: 146.0, unit price: 37465.0\n",
      "name: 新出地铁口双南两房+精装修+第二梯队+位置优越, xiaoqu: 曲阳路491号 , total: 315.0, unit price: 60870.0\n",
      "name: 经典小户型，开发商统一装修，看房随时, xiaoqu: 维罗纳贵都 , total: 120.0, unit price: 31958.0\n",
      "name: 新静安一室户，临汾街道，视野宽阔，采光充足, xiaoqu: 闻喜路251弄 , total: 156.0, unit price: 40988.0\n",
      "name: 店长推荐 高品质小区 开元物业，近体育公园, xiaoqu: 东方花园二期 , total: 719.0, unit price: 71104.0\n",
      "name: 独栋厨卫全明，四楼，双南户型，面朝花园无遮挡, xiaoqu: 威宁小区 , total: 395.0, unit price: 71766.0\n",
      "name: 边套全明，离地铁一号线700米，拎包入住，中间楼层, xiaoqu: 泉灵小区 , total: 195.0, unit price: 45883.0\n",
      "name: 高层一房，景观楼层，税费少，诚心出售，近17号线, xiaoqu: 崧泽华城佳福雅苑（四区） , total: 165.6, unit price: 29233.0\n",
      "name: 曲阳中楼层 南北两房 精装修 业主喊话可看房, xiaoqu: 东体小区 , total: 335.0, unit price: 63652.0\n",
      "name: 低楼层带天井，满五年唯一税费少，一梯两户总价低, xiaoqu: 运光小区 , total: 208.0, unit price: 54280.0\n",
      "name: 此房（满五年唯一）+产权清晰无风险+楼层好+户型正气, xiaoqu: 美树铭家 , total: 403.0, unit price: 46921.0\n",
      "name: 光鸿苑 2室2厅 680万, xiaoqu: 光鸿苑 , total: 680.0, unit price: 70227.0\n",
      "name: 小户型 总价低 精装修 楼层佳 业主诚意出售, xiaoqu: 开鲁路382弄 , total: 185.0, unit price: 43975.0\n",
      "name: 低总价小两房，业主诚意出售，看房随时, xiaoqu: 法华镇路720弄 , total: 284.0, unit price: 68204.0\n",
      "name: 四楼楼层好 居家装修 看房随时 业主诚意出售, xiaoqu: 通河一村 , total: 275.0, unit price: 47927.0\n",
      "name: 东体一楼带花园两房，近地铁200米, xiaoqu: 东体小区 , total: 312.0, unit price: 61225.0\n",
      "name: 近地铁 全明户型大三房 居家装修 看房随时联系小董, xiaoqu: 黄山新村 , total: 660.0, unit price: 69255.0\n",
      "name: 高区南北通户型，已满2年，税少，空置未住人，有钥匙, xiaoqu: 瑞虹新城璟庭 , total: 1398.0, unit price: 99333.0\n",
      "name: 临港新片区 精装大2房，户型正气税费少，交通便利！, xiaoqu: 丽泽兰馨苑 , total: 153.0, unit price: 19083.0\n",
      "name: 莘城苑原始一房户型，妙手改成南北2房，业主诚意出售, xiaoqu: 莘城苑 , total: 255.0, unit price: 37325.0\n",
      "name: 小区里面位置，豪，华装修100万，二手买进税费低。, xiaoqu: 瑞虹新城二期(优贤生活) , total: 700.0, unit price: 90230.0\n",
      "name: 通河二村，满五唯一，交通方便。采光好。房型好, xiaoqu: 通河二村 , total: 319.0, unit price: 41689.0\n",
      "name: （满五唯一免个税），户型方正，位置安静，业主自住, xiaoqu: 金台三居 , total: 360.0, unit price: 42756.0\n"
     ]
    }
   ],
   "source": [
    "import requests\n",
    "from lxml import etree\n",
    "headers = {\n",
    "    \"User-Agent\": \"Mozilla/5.0 (Windows NT 10.0; Win64; x64) AppleWebKit/537.36 (KHTML, like Gecko) Chrome/78.0.3904.97 Safari/537.36\"\n",
    "}\n",
    "\n",
    "url = \"https://sh.lianjia.com/ershoufang/\"\n",
    "# 发送请求获取该页的HTML\n",
    "r = requests.get(url, headers=headers)\n",
    "content = r.content.decode(\"utf-8\")\n",
    "\n",
    "# 开始解析HTML\n",
    "root = etree.HTML(content)\n",
    "li_nodes = root.xpath('//ul[@class=\"sellListContent\"]/li[@data-lj_view_evtid]')\n",
    "for li_node in li_nodes:\n",
    "    # 获取房源的描述\n",
    "    title = li_node.xpath('.//div[@class=\"title\"]/a')[0].text\n",
    "    xiaoqu_nodes = li_node.xpath('.//div[@class=\"flood\"]/div[@class=\"positionInfo\"]/a')\n",
    "    price_nodes = li_node.xpath('.//div[@class=\"priceInfo\"]/div[@class=\"totalPrice\"]/span')\n",
    "    up_nodes = li_node.xpath('.//div[@class=\"priceInfo\"]/div[@class=\"unitPrice\"]/span')\n",
    "    \n",
    "    xiaoqu = xiaoqu_nodes[0].text\n",
    "    price = float(price_nodes[0].text)\n",
    "    up_text = up_nodes[0].text\n",
    "    \n",
    "    # 正则匹配获取数字部分\n",
    "    matched = re.search(r'单价(.*)元/平米', up_text)\n",
    "    up_price = 0\n",
    "    if matched:\n",
    "    # 将字符串形式的单价转成浮点数类型\n",
    "        up_price = float(matched.group(1))\n",
    "    print(\"name: {}, xiaoqu: {}, total: {}, unit price: {}\".format(title, xiaoqu, price, up_price))"
   ]
  },
  {
   "cell_type": "code",
   "execution_count": null,
   "metadata": {},
   "outputs": [],
   "source": []
  },
  {
   "cell_type": "code",
   "execution_count": null,
   "metadata": {},
   "outputs": [],
   "source": []
  }
 ],
 "metadata": {
  "kernelspec": {
   "display_name": "Python 3",
   "language": "python",
   "name": "python3"
  },
  "language_info": {
   "codemirror_mode": {
    "name": "ipython",
    "version": 3
   },
   "file_extension": ".py",
   "mimetype": "text/x-python",
   "name": "python",
   "nbconvert_exporter": "python",
   "pygments_lexer": "ipython3",
   "version": "3.7.4"
  }
 },
 "nbformat": 4,
 "nbformat_minor": 2
}
