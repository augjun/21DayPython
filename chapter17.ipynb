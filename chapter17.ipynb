{
 "cells": [
  {
   "cell_type": "markdown",
   "metadata": {},
   "source": [
    "# 使用re库做正则匹配"
   ]
  },
  {
   "cell_type": "code",
   "execution_count": null,
   "metadata": {},
   "outputs": [],
   "source": [
    "import re"
   ]
  },
  {
   "cell_type": "code",
   "execution_count": null,
   "metadata": {},
   "outputs": [],
   "source": [
    "# match函数 - 从字符串的起始位置开始匹配\n",
    "# 匹配成功返回一个匹配的对象，否则返回None\n",
    "# 字符串前的r表示不转义\n",
    "matched = re.match(r'hello', 'hellopy')\n",
    "print(matched)\n",
    "matched = re.match(r'hello', 'hi hello')\n",
    "print(matched)\n",
    "\n",
    "matched = re.match(r'[^0-9]+', 'abc012')\n",
    "print(matched)\n",
    "matched = re.match(r'[^0-9]+', '012')\n",
    "print(matched)"
   ]
  },
  {
   "cell_type": "code",
   "execution_count": null,
   "metadata": {},
   "outputs": [],
   "source": [
    "# group方法 - 返回匹配的子组\n",
    "# 子组编号从1开始，从左向右，每次加1\n",
    "matched = re.match(r'\\$([0-9]+)', \"$900\")\n",
    "print(matched.group(1))\n",
    "matched = re.match(r'name: ([a-z]+), age: ([0-9]+)', \"name: john, age: 25\")\n",
    "print(matched.group(1), matched.group(2))\n"
   ]
  },
  {
   "cell_type": "code",
   "execution_count": null,
   "metadata": {},
   "outputs": [],
   "source": [
    "# search函数 - 从字符串的任意位置开始匹配\n",
    "# 匹配成功返回一个匹配对象，否则返回None\n",
    "\n",
    "matched = re.search(r\"[0-9]+\\-[0-9]+\\-[0-9]+\", \"2020-01-01\")\n",
    "print(matched)\n",
    "matched = re.search(r\"[a-z]+[a-z0-9]*\", \"a123\")\n",
    "print(matched)\n",
    "matched = re.search(r\"python\", \"hello python\")\n",
    "print(matched)"
   ]
  },
  {
   "cell_type": "code",
   "execution_count": null,
   "metadata": {},
   "outputs": [],
   "source": [
    "# 贪婪匹配\n",
    "html = \"<div>a</div><div>b</div>\"\n",
    "matched = re.search(r\"<div>(.*)</div>\", html)\n",
    "matched.group(1)"
   ]
  },
  {
   "cell_type": "code",
   "execution_count": null,
   "metadata": {},
   "outputs": [],
   "source": [
    "# 非贪婪匹配\n",
    "html = \"<div>a</div><div>b</div>\"\n",
    "matched = re.search(r\"<div>(.*?)</div>\", html)\n",
    "matched.group(1)"
   ]
  },
  {
   "cell_type": "code",
   "execution_count": null,
   "metadata": {},
   "outputs": [],
   "source": [
    "# match与search的区别\n",
    "# match只匹配字符串的开始，如果字符串开始不符合正则表达式，则匹配失败，函数返回None\n",
    "# 而search匹配整个字符串，直到找到一个匹配\n",
    "line = \"Python is the best programming language\";\n",
    " \n",
    "matched = re.match( r'best', line)\n",
    "print(matched)\n",
    "matched = re.search( r'best', line)\n",
    "print(matched)"
   ]
  },
  {
   "cell_type": "markdown",
   "metadata": {},
   "source": [
    "# 实战项目 - 见PPT"
   ]
  },
  {
   "cell_type": "code",
   "execution_count": null,
   "metadata": {},
   "outputs": [],
   "source": [
    "import requests\n",
    "from lxml import etree\n",
    "headers = {\n",
    "    \"User-Agent\": \"Mozilla/5.0 (Windows NT 10.0; Win64; x64) AppleWebKit/537.36 (KHTML, like Gecko) Chrome/78.0.3904.97 Safari/537.36\"\n",
    "}\n",
    "\n",
    "url = \"https://sh.lianjia.com/ershoufang/\"\n",
    "# 发送请求获取该页的HTML\n",
    "r = requests.get(url, headers=headers)\n",
    "content = r.content.decode(\"utf-8\")\n",
    "\n",
    "# 开始解析HTML\n",
    "root = etree.HTML(content)\n",
    "li_nodes = root.xpath('//ul[@class=\"sellListContent\"]/li[@data-lj_view_evtid]')\n",
    "for li_node in li_nodes:\n",
    "    # 获取房源的描述\n",
    "    title = li_node.xpath('.//div[@class=\"title\"]/a')[0].text\n",
    "    xiaoqu_nodes = li_node.xpath('.//div[@class=\"flood\"]/div[@class=\"positionInfo\"]/a')\n",
    "    price_nodes = li_node.xpath('.//div[@class=\"priceInfo\"]/div[@class=\"totalPrice\"]/span')\n",
    "    up_nodes = li_node.xpath('.//div[@class=\"priceInfo\"]/div[@class=\"unitPrice\"]/span')\n",
    "    \n",
    "    xiaoqu = xiaoqu_nodes[0].text\n",
    "    price = float(price_nodes[0].text)\n",
    "    up_text = up_nodes[0].text\n",
    "    \n",
    "    # 正则匹配获取数字部分\n",
    "    matched = re.search(r'单价(.*)元/平米', up_text)\n",
    "    up_price = 0\n",
    "    if matched:\n",
    "    # 将字符串形式的单价转成浮点数类型\n",
    "        up_price = float(matched.group(1))\n",
    "    print(\"name: {}, xiaoqu: {}, total: {}, unit price: {}\".format(title, xiaoqu, price, up_price))"
   ]
  },
  {
   "cell_type": "code",
   "execution_count": null,
   "metadata": {},
   "outputs": [],
   "source": []
  },
  {
   "cell_type": "code",
   "execution_count": null,
   "metadata": {},
   "outputs": [],
   "source": []
  }
 ],
 "metadata": {
  "kernelspec": {
   "display_name": "Python 3",
   "language": "python",
   "name": "python3"
  },
  "language_info": {
   "codemirror_mode": {
    "name": "ipython",
    "version": 3
   },
   "file_extension": ".py",
   "mimetype": "text/x-python",
   "name": "python",
   "nbconvert_exporter": "python",
   "pygments_lexer": "ipython3",
   "version": "3.7.5"
  }
 },
 "nbformat": 4,
 "nbformat_minor": 2
}
