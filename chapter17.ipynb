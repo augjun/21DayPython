{
 "cells": [
  {
   "cell_type": "markdown",
   "metadata": {},
   "source": [
    "# 使用re库做正则匹配"
   ]
  },
  {
   "cell_type": "code",
   "execution_count": 1,
   "metadata": {},
   "outputs": [],
   "source": [
    "import re"
   ]
  },
  {
   "cell_type": "code",
   "execution_count": 20,
   "metadata": {},
   "outputs": [
    {
     "name": "stdout",
     "output_type": "stream",
     "text": [
      "<re.Match object; span=(0, 5), match='hello'>\n",
      "None\n",
      "<re.Match object; span=(0, 3), match='abc'>\n",
      "None\n"
     ]
    }
   ],
   "source": [
    "# match函数 - 从字符串的起始位置开始匹配\n",
    "# 匹配成功返回一个匹配的对象，否则返回None\n",
    "# 字符串前的r表示不转义\n",
    "matched = re.match(r'hello', 'hellopy')\n",
    "print(matched)\n",
    "matched = re.match(r'hello', 'hi hello')\n",
    "print(matched)\n",
    "\n",
    "matched = re.match(r'[^0-9]+', 'abc012')\n",
    "print(matched)\n",
    "matched = re.match(r'[^0-9]+', '012')\n",
    "print(matched)"
   ]
  },
  {
   "cell_type": "code",
   "execution_count": 27,
   "metadata": {},
   "outputs": [
    {
     "name": "stdout",
     "output_type": "stream",
     "text": [
      "900\n",
      "john 25\n"
     ]
    }
   ],
   "source": [
    "# group方法 - 返回匹配的子组\n",
    "# 子组编号从1开始，从左向右，每次加1\n",
    "matched = re.match(r'\\$([0-9]+)', \"$900\")\n",
    "print(matched.group(1))\n",
    "matched = re.match(r'name: ([a-z]+), age: ([0-9]+)', \"name: john, age: 25\")\n",
    "print(matched.group(1), matched.group(2))\n"
   ]
  },
  {
   "cell_type": "code",
   "execution_count": 34,
   "metadata": {},
   "outputs": [
    {
     "name": "stdout",
     "output_type": "stream",
     "text": [
      "<re.Match object; span=(0, 10), match='2020-01-01'>\n",
      "<re.Match object; span=(0, 4), match='a123'>\n",
      "<re.Match object; span=(6, 12), match='python'>\n"
     ]
    }
   ],
   "source": [
    "# search函数 - 从字符串的任意位置开始匹配\n",
    "# 匹配成功返回一个匹配对象，否则返回None\n",
    "\n",
    "matched = re.search(r\"[0-9]+\\-[0-9]+\\-[0-9]+\", \"2020-01-01\")\n",
    "print(matched)\n",
    "matched = re.search(r\"[a-z]+[a-z0-9]*\", \"a123\")\n",
    "print(matched)\n",
    "matched = re.search(r\"python\", \"hello python\")\n",
    "print(matched)"
   ]
  },
  {
   "cell_type": "code",
   "execution_count": 38,
   "metadata": {},
   "outputs": [
    {
     "data": {
      "text/plain": [
       "'a</div><div>b'"
      ]
     },
     "execution_count": 38,
     "metadata": {},
     "output_type": "execute_result"
    }
   ],
   "source": [
    "# 贪婪匹配\n",
    "html = \"<div>a</div><div>b</div>\"\n",
    "matched = re.search(r\"<div>(.*)</div>\", html)\n",
    "matched.group(1)"
   ]
  },
  {
   "cell_type": "code",
   "execution_count": 39,
   "metadata": {},
   "outputs": [
    {
     "data": {
      "text/plain": [
       "'a'"
      ]
     },
     "execution_count": 39,
     "metadata": {},
     "output_type": "execute_result"
    }
   ],
   "source": [
    "# 非贪婪匹配\n",
    "html = \"<div>a</div><div>b</div>\"\n",
    "matched = re.search(r\"<div>(.*?)</div>\", html)\n",
    "matched.group(1)"
   ]
  },
  {
   "cell_type": "code",
   "execution_count": 28,
   "metadata": {},
   "outputs": [
    {
     "name": "stdout",
     "output_type": "stream",
     "text": [
      "None\n",
      "<re.Match object; span=(14, 18), match='best'>\n"
     ]
    }
   ],
   "source": [
    "# match与search的区别\n",
    "# match只匹配字符串的开始，如果字符串开始不符合正则表达式，则匹配失败，函数返回None\n",
    "# 而search匹配整个字符串，直到找到一个匹配\n",
    "line = \"Python is the best programming language\";\n",
    " \n",
    "matched = re.match( r'best', line)\n",
    "print(matched)\n",
    "matched = re.search( r'best', line)\n",
    "print(matched)"
   ]
  },
  {
   "cell_type": "markdown",
   "metadata": {},
   "source": [
    "# 实战项目 - 见PPT"
   ]
  },
  {
   "cell_type": "code",
   "execution_count": 45,
   "metadata": {},
   "outputs": [
    {
     "name": "stdout",
     "output_type": "stream",
     "text": [
      "name: 佳宝品质三房，中间楼层3楼，无增值税，近9号地铁, xiaoqu: 佳宝新村 , total: 399.0, unit price: 49260.0\n",
      "name: （7号线）（中区）（满五年）（南北通）（采光佳）, xiaoqu: 经纬观澜弘郡家园(三期) , total: 453.0, unit price: 53699.0\n",
      "name: 近地铁2016年次新房，开发商精装小两房，中楼采光好, xiaoqu: 远东君悦庭 , total: 403.8, unit price: 57059.0\n",
      "name: 绿梅一村 2室1厅 225万, xiaoqu: 绿梅一村 , total: 225.0, unit price: 55832.0\n",
      "name: 四期景观大一房，业主置换跟我买好房子，有钥匙随时看, xiaoqu: 中远两湾城 , total: 535.0, unit price: 76913.0\n",
      "name: 正气三房 业主置换 诚意出售  满五唯一 产权清晰, xiaoqu: 东方知音苑 , total: 992.0, unit price: 81984.0\n",
      "name: 财富海景前排中区大宅，景色无遮挡，境外业主诚意出售, xiaoqu: 财富海景花园 , total: 4500.0, unit price: 132361.0\n",
      "name: 新出高区，全南三房，阳光好，产权清晰，可随时签约, xiaoqu: 菊园 , total: 1150.0, unit price: 84777.0\n",
      "name: 美丽景观大三房 三房朝南带阳台 佰平阔气客厅！, xiaoqu: 翠湖天地隽荟 , total: 4858.0, unit price: 163950.0\n",
      "name: 自住装修，一线江景。满五唯一，看房方便, xiaoqu: 家化滨江苑 , total: 1540.0, unit price: 70906.0\n",
      "name: 两房满五唯一，业主诚意出售，拎包入住，, xiaoqu: 绿地玲珑寓 , total: 120.0, unit price: 16566.0\n",
      "name: 人车分流，园林小区 满五唯一 税费低 高区采光好, xiaoqu: 新家坡园景苑 , total: 765.0, unit price: 80612.0\n",
      "name: 南北通透 板式房型 闹中取静 东区稀有户型, xiaoqu: 汇龙新城 , total: 1360.0, unit price: 90216.0\n",
      "name: 小巧的户型，温馨的家，采光充足，居住舒适。, xiaoqu: 星颂家园 , total: 219.0, unit price: 38906.0\n",
      "name: 房屋格局好，户型方正，满两年，唯, xiaoqu: 新德三村 , total: 208.0, unit price: 34731.0\n",
      "name: 惠益新苑 3室2厅 263万, xiaoqu: 惠益新苑 , total: 263.0, unit price: 26390.0\n",
      "name: 有产权车位 全明户型，新装修，拎包入住  诚意出售, xiaoqu: 国际丽都城 , total: 1320.0, unit price: 99167.0\n",
      "name: 温馨华丽三居室，婚房装修尽显品位，户型方正, xiaoqu: 星金家园 , total: 420.0, unit price: 38210.0\n",
      "name: 满五唯一+致远+双南双阳台+3楼+三地铁（6+9+14）+边套, xiaoqu: 金杨新村四街坊 , total: 425.0, unit price: 60276.0\n",
      "name: 此房满五年 南北通正两房 自住装修 前后无遮挡, xiaoqu: 妙栏小区 , total: 295.0, unit price: 39662.0\n",
      "name: 8层电梯洋房带阁楼，买一层带一层，人车分流环境好, xiaoqu: 海上纳缇 , total: 310.0, unit price: 35088.0\n",
      "name: 2016年精装修的双南两房，非顶楼，月内卖掉概率达99%, xiaoqu: 田林十二村 , total: 400.0, unit price: 83858.0\n",
      "name: 南北两房，花园小区，闹中取静，精装拎包入住, xiaoqu: 嘉瑞花苑 , total: 875.0, unit price: 78300.0\n",
      "name: 晴川佳苑11年房龄 小区环境好 地铁近 业主诚心出售, xiaoqu: 晴川佳苑 , total: 235.0, unit price: 42666.0\n",
      "name: 总价低，美丽一房，中间楼层，采光充足，视野佳, xiaoqu: 塘和家园桂花锦苑 , total: 158.0, unit price: 29857.0\n",
      "name: 出门即是南京西路，全明大三房，让利百万诚售, xiaoqu: 静安四季苑 , total: 1680.0, unit price: 108402.0\n",
      "name: 楼梯房三楼，满五年唯一，小区中间位置, xiaoqu: 幸福小镇 , total: 500.0, unit price: 51021.0\n",
      "name: 花园小区婚房精装三房，带独立车库！, xiaoqu: 人生港湾南欧城 , total: 330.0, unit price: 28024.0\n",
      "name: 景观楼层，主卧朝南，户型好，采光通风好, xiaoqu: 金杨新村九街坊 , total: 275.0, unit price: 48212.0\n",
      "name: 满五唯一，大3房，诚意出售，有钥匙。, xiaoqu: 园西小区 , total: 265.0, unit price: 39880.0\n"
     ]
    }
   ],
   "source": [
    "import requests\n",
    "from lxml import etree\n",
    "headers = {\n",
    "    \"User-Agent\": \"Mozilla/5.0 (Windows NT 10.0; Win64; x64) AppleWebKit/537.36 (KHTML, like Gecko) Chrome/78.0.3904.97 Safari/537.36\"\n",
    "}\n",
    "\n",
    "url = \"https://sh.lianjia.com/ershoufang/\"\n",
    "# 发送请求获取该页的HTML\n",
    "r = requests.get(url, headers=headers)\n",
    "content = r.content.decode(\"utf-8\")\n",
    "\n",
    "# 开始解析HTML\n",
    "root = etree.HTML(content)\n",
    "li_nodes = root.xpath('//ul[@class=\"sellListContent\"]/li[@data-lj_view_evtid]')\n",
    "for li_node in li_nodes:\n",
    "    # 获取房源的描述\n",
    "    title = li_node.xpath('.//div[@class=\"title\"]/a')[0].text\n",
    "    xiaoqu_nodes = li_node.xpath('.//div[@class=\"flood\"]/div[@class=\"positionInfo\"]/a')\n",
    "    price_nodes = li_node.xpath('.//div[@class=\"priceInfo\"]/div[@class=\"totalPrice\"]/span')\n",
    "    up_nodes = li_node.xpath('.//div[@class=\"priceInfo\"]/div[@class=\"unitPrice\"]/span')\n",
    "    \n",
    "    xiaoqu = xiaoqu_nodes[0].text\n",
    "    price = float(price_nodes[0].text)\n",
    "    up_text = up_nodes[0].text\n",
    "    \n",
    "    # 正则匹配获取数字部分\n",
    "    matched = re.search(r'单价(.*)元/平米', up_text)\n",
    "    up_price = 0\n",
    "    if matched:\n",
    "    # 将字符串形式的单价转成浮点数类型\n",
    "        up_price = float(matched.group(1))\n",
    "    print(\"name: {}, xiaoqu: {}, total: {}, unit price: {}\".format(title, xiaoqu, price, up_price))"
   ]
  },
  {
   "cell_type": "code",
   "execution_count": null,
   "metadata": {},
   "outputs": [],
   "source": []
  }
 ],
 "metadata": {
  "kernelspec": {
   "display_name": "Python 3",
   "language": "python",
   "name": "python3"
  },
  "language_info": {
   "codemirror_mode": {
    "name": "ipython",
    "version": 3
   },
   "file_extension": ".py",
   "mimetype": "text/x-python",
   "name": "python",
   "nbconvert_exporter": "python",
   "pygments_lexer": "ipython3",
   "version": "3.7.5"
  }
 },
 "nbformat": 4,
 "nbformat_minor": 2
}
