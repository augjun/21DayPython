{
 "cells": [
  {
   "cell_type": "markdown",
   "metadata": {},
   "source": [
    "# 用json库处理JSON数据"
   ]
  },
  {
   "cell_type": "code",
   "execution_count": 1,
   "metadata": {},
   "outputs": [],
   "source": [
    "import json"
   ]
  },
  {
   "cell_type": "code",
   "execution_count": 2,
   "metadata": {},
   "outputs": [
    {
     "data": {
      "text/plain": [
       "'{\"name\": \"john\", \"age\": 25}'"
      ]
     },
     "execution_count": 2,
     "metadata": {},
     "output_type": "execute_result"
    }
   ],
   "source": [
    "# dumps函数 - 将Python对象编码成JSON字符串。\n",
    "\n",
    "person = {\"name\": \"john\", \"age\": 25}\n",
    "json.dumps(person)"
   ]
  },
  {
   "cell_type": "code",
   "execution_count": 3,
   "metadata": {},
   "outputs": [
    {
     "data": {
      "text/plain": [
       "'[\"a\", \"b\", \"c\"]'"
      ]
     },
     "execution_count": 3,
     "metadata": {},
     "output_type": "execute_result"
    }
   ],
   "source": [
    "array = [\"a\", \"b\", \"c\"]\n",
    "json.dumps(array)"
   ]
  },
  {
   "cell_type": "code",
   "execution_count": 4,
   "metadata": {},
   "outputs": [
    {
     "data": {
      "text/plain": [
       "'[{\"name\": \"john\", \"age\": 25}, {\"name\": \"henry\", \"age\": 35}]'"
      ]
     },
     "execution_count": 4,
     "metadata": {},
     "output_type": "execute_result"
    }
   ],
   "source": [
    "people = [{\"name\": \"john\", \"age\": 25}, {\"name\": \"henry\", \"age\": 35}]\n",
    "json.dumps(people)"
   ]
  },
  {
   "cell_type": "code",
   "execution_count": 5,
   "metadata": {},
   "outputs": [
    {
     "name": "stdout",
     "output_type": "stream",
     "text": [
      "{'name': 'john', 'age': 25}\n",
      "<class 'dict'>\n"
     ]
    }
   ],
   "source": [
    "# loads函数 - 将JSON数据解码成Python数据类型\n",
    "\n",
    "content = '{\"name\": \"john\", \"age\": 25}'\n",
    "data = json.loads(content)\n",
    "print(data)\n",
    "print(type(data))"
   ]
  },
  {
   "cell_type": "code",
   "execution_count": 6,
   "metadata": {},
   "outputs": [
    {
     "name": "stdout",
     "output_type": "stream",
     "text": [
      "['a', 'b', 'c']\n",
      "<class 'list'>\n"
     ]
    }
   ],
   "source": [
    "content = '[\"a\", \"b\", \"c\"]'\n",
    "data = json.loads(content)\n",
    "print(data)\n",
    "print(type(data))"
   ]
  },
  {
   "cell_type": "code",
   "execution_count": 7,
   "metadata": {},
   "outputs": [
    {
     "name": "stdout",
     "output_type": "stream",
     "text": [
      "[{'name': 'john', 'age': 25}, {'name': 'henry', 'age': 35}]\n",
      "<class 'list'>\n"
     ]
    }
   ],
   "source": [
    "content = '[{\"name\": \"john\", \"age\": 25}, {\"name\": \"henry\", \"age\": 35}]'\n",
    "data = json.loads(content)\n",
    "print(data)\n",
    "print(type(data))"
   ]
  },
  {
   "cell_type": "markdown",
   "metadata": {},
   "source": [
    "# 实战项目 - 见PPT"
   ]
  },
  {
   "cell_type": "code",
   "execution_count": 8,
   "metadata": {},
   "outputs": [
    {
     "name": "stdout",
     "output_type": "stream",
     "text": [
      "产品经理-小家电,上海双立人亨克斯有限公司,12000-20000,不限,本科\n",
      "销售顾问(双立人),上海双立人亨克斯有限公司,5000-8000,1-3年,中专,技校\n",
      "电子商务主管,上海双立人亨克斯有限公司,面议,不限,本科\n",
      "Legal Specialist(双立人),上海双立人亨克斯有限公司,8000-12000,1-3年,本科\n",
      "Product Supervisor(双立人),上海双立人亨克斯有限公司,面议,3-5年,本科\n",
      "Sales Support(双立人),上海双立人亨克斯有限公司,面议,不限,本科\n",
      "青岛分公司经理(双立人),上海双立人亨克斯有限公司,面议,5-10年,本科\n",
      "初级研发工程师(双立人),上海双立人亨克斯有限公司,5000-8000,1-3年,本科\n",
      "Assistant to General Manager(双立人),上海双立人亨克斯有限公司,面议,1-3年,本科\n",
      "电子商务副经理,上海双立人亨克斯有限公司,面议,不限,本科\n"
     ]
    }
   ],
   "source": [
    "import json\n",
    "import requests\n",
    "\n",
    "url = \"http://zhaopin.baidu.com/api/qzasync?query=%E6%95%B0%E6%8D%AE%E5%88%86%E6%9E%90%E5%B8%88&city=%E5%8C%97%E4%BA%AC&is_adq=1&pcmod=1&token=%3D%3DglPva1W6d1WNVbrZGmw1GZqx2YJqlZnx2lolGmtVZm&pn=20&rn=20\"\n",
    "r = requests.get(url)\n",
    "content = r.content.decode(\"utf-8\")\n",
    "data = json.loads(content)\n",
    "jobs = data[\"data\"][\"disp_data\"]\n",
    "\n",
    "for job in jobs:\n",
    "    job_name = job.get(\"name\", \"\")\n",
    "    company_name = job.get(\"company\", \"\")\n",
    "    salary = job.get(\"salary\", \"\")\n",
    "    experience = job.get(\"experience\", \"\")\n",
    "    education = job.get(\"education\", \"\")\n",
    "    print(\"{},{},{},{},{}\".format(job_name,\n",
    "        company_name, salary, experience, education))"
   ]
  },
  {
   "cell_type": "code",
   "execution_count": null,
   "metadata": {},
   "outputs": [],
   "source": []
  },
  {
   "cell_type": "code",
   "execution_count": null,
   "metadata": {},
   "outputs": [],
   "source": []
  }
 ],
 "metadata": {
  "kernelspec": {
   "display_name": "Python 3",
   "language": "python",
   "name": "python3"
  },
  "language_info": {
   "codemirror_mode": {
    "name": "ipython",
    "version": 3
   },
   "file_extension": ".py",
   "mimetype": "text/x-python",
   "name": "python",
   "nbconvert_exporter": "python",
   "pygments_lexer": "ipython3",
   "version": "3.6.9"
  }
 },
 "nbformat": 4,
 "nbformat_minor": 2
}
