{
 "cells": [
  {
   "cell_type": "markdown",
   "metadata": {},
   "source": [
    "# 用json库处理JSON数据"
   ]
  },
  {
   "cell_type": "code",
   "execution_count": 1,
   "metadata": {},
   "outputs": [],
   "source": [
    "import json"
   ]
  },
  {
   "cell_type": "code",
   "execution_count": 2,
   "metadata": {},
   "outputs": [
    {
     "data": {
      "text/plain": [
       "'{\"name\": \"john\", \"age\": 25}'"
      ]
     },
     "execution_count": 2,
     "metadata": {},
     "output_type": "execute_result"
    }
   ],
   "source": [
    "# dumps函数 - 将Python对象编码成JSON字符串。\n",
    "\n",
    "person = {\"name\": \"john\", \"age\": 25}\n",
    "json.dumps(person)"
   ]
  },
  {
   "cell_type": "code",
   "execution_count": 3,
   "metadata": {},
   "outputs": [
    {
     "data": {
      "text/plain": [
       "'[\"a\", \"b\", \"c\"]'"
      ]
     },
     "execution_count": 3,
     "metadata": {},
     "output_type": "execute_result"
    }
   ],
   "source": [
    "array = [\"a\", \"b\", \"c\"]\n",
    "json.dumps(array)"
   ]
  },
  {
   "cell_type": "code",
   "execution_count": 4,
   "metadata": {},
   "outputs": [
    {
     "data": {
      "text/plain": [
       "'[{\"name\": \"john\", \"age\": 25}, {\"name\": \"henry\", \"age\": 35}]'"
      ]
     },
     "execution_count": 4,
     "metadata": {},
     "output_type": "execute_result"
    }
   ],
   "source": [
    "people = [{\"name\": \"john\", \"age\": 25}, {\"name\": \"henry\", \"age\": 35}]\n",
    "json.dumps(people)"
   ]
  },
  {
   "cell_type": "code",
   "execution_count": 5,
   "metadata": {},
   "outputs": [
    {
     "name": "stdout",
     "output_type": "stream",
     "text": [
      "{'name': 'john', 'age': 25}\n",
      "<class 'dict'>\n"
     ]
    }
   ],
   "source": [
    "# loads函数 - 将JSON数据解码成Python数据类型\n",
    "\n",
    "content = '{\"name\": \"john\", \"age\": 25}'\n",
    "data = json.loads(content)\n",
    "print(data)\n",
    "print(type(data))"
   ]
  },
  {
   "cell_type": "code",
   "execution_count": 6,
   "metadata": {},
   "outputs": [
    {
     "name": "stdout",
     "output_type": "stream",
     "text": [
      "['a', 'b', 'c']\n",
      "<class 'list'>\n"
     ]
    }
   ],
   "source": [
    "content = '[\"a\", \"b\", \"c\"]'\n",
    "data = json.loads(content)\n",
    "print(data)\n",
    "print(type(data))"
   ]
  },
  {
   "cell_type": "code",
   "execution_count": 7,
   "metadata": {},
   "outputs": [
    {
     "name": "stdout",
     "output_type": "stream",
     "text": [
      "[{'name': 'john', 'age': 25}, {'name': 'henry', 'age': 35}]\n",
      "<class 'list'>\n"
     ]
    }
   ],
   "source": [
    "content = '[{\"name\": \"john\", \"age\": 25}, {\"name\": \"henry\", \"age\": 35}]'\n",
    "data = json.loads(content)\n",
    "print(data)\n",
    "print(type(data))"
   ]
  },
  {
   "cell_type": "markdown",
   "metadata": {},
   "source": [
    "# 实战项目 - 见PPT"
   ]
  },
  {
   "cell_type": "code",
   "execution_count": 3,
   "metadata": {},
   "outputs": [
    {
     "name": "stdout",
     "output_type": "stream",
     "text": [
      "数据分析师(北京三快在线科技有限公司),北京三快在线科技有限公司,15000-23000,3-5年,本科\n",
      "数据分析师,北京晶众智慧交通科技股份有限公司,5000-8000,不限,不限\n",
      "高级数据分析工程师-成本方向,金风风电产业集团—客户服务中心,20000-25000,3-5年,硕士\n",
      "数据分析师(炫一下(北京)科技有限公司),分享一下(北京)科技有限公司,12000-20000,1-3年,本科\n",
      "短视频数据分析师(北京字节跳动科技有限公司),北京字节跳动科技有限公司,20000-40000,3-5年,本科\n",
      "数据分析师,北京多彩互动广告有限公司,8000-12000,不限,不限\n",
      "质控中心-数据分析高级工程师,金风风电产业集团—客户服务中心,20000-25000,3-5年,本科\n",
      "数据分析师(北京易点淘网络技术有限公司),北京易点淘网络技术有限公司,12000-20000,1-3年,本科\n",
      "数据分析师(达令心潮（北京）商贸有限公司),达令心潮（北京）商贸有限公司,8000-15000,1-3年,本科\n",
      "数据挖掘分析师,中国移动通信集团北京有限公司,面议,不限,不限\n",
      "数据分析师(北京玖红支付科技有限公司),北京玖红支付科技有限公司,面议,不限,本科\n",
      "BI 数据分析师(北京未来橙网络科技有限公司),北京未来橙网络科技有限公司,12000-20000,3-5年,本科\n",
      "数据分析师(北京天下秀科技股份有限公司),北京天下秀科技股份有限公司,15000-25000,3-5年,本科\n",
      "数据分析师,广州市原象广告有限公司北京分公司,8000-12000,不限,不限\n",
      "产业规划助理分析师（大数据分析方向）,北京北达城市规划设计研究院,8000-12000,1-3年,本科\n",
      "数据分析师（零售创新业务部）(京东),北京京东世纪贸易有限公司,12000-20000,5-10年,本科\n",
      "23048-数据分析师(腾讯科技（深圳）有限公司),腾讯科技（深圳）有限公司,18000-36000,3-5年,本科\n",
      "数据分析师（环保）,北京易二零环境股份有限公司,5000-8000,不限,硕士\n",
      "LTE前台数据分析工程师-北京,北京电旗通讯技术股份有限公司,4000-8000,不限,不限\n",
      "数据分析师（监察）(贝壳找房(北京)科技有限公司),贝壳找房(北京)科技有限公司,25000以上,5-10年,本科\n"
     ]
    }
   ],
   "source": [
    "import json\n",
    "import requests\n",
    "\n",
    "url = \"http://zhaopin.baidu.com/api/qzasync?query=%E6%95%B0%E6%8D%AE%E5%88%86%E6%9E%90%E5%B8%88&city=%E5%8C%97%E4%BA%AC&is_adq=1&pcmod=1&token=%3D%3DglPva1W6d1WNVbrZGmw1GZqx2YJqlZnx2lolGmtVZm&pn=20&rn=20\"\n",
    "r = requests.get(url)\n",
    "content = r.content.decode(\"utf-8\")\n",
    "data = json.loads(content)\n",
    "jobs = data[\"data\"][\"disp_data\"]\n",
    "\n",
    "for job in jobs:\n",
    "    job_name = job.get(\"name\", \"\")\n",
    "    company_name = job.get(\"company\", \"\")\n",
    "    salary = job.get(\"salary\", \"\")\n",
    "    experience = job.get(\"experience\", \"\")\n",
    "    education = job.get(\"education\", \"\")\n",
    "    print(\"{},{},{},{},{}\".format(job_name,\n",
    "        company_name, salary, experience, education))"
   ]
  },
  {
   "cell_type": "code",
   "execution_count": null,
   "metadata": {},
   "outputs": [],
   "source": []
  },
  {
   "cell_type": "code",
   "execution_count": null,
   "metadata": {},
   "outputs": [],
   "source": []
  }
 ],
 "metadata": {
  "kernelspec": {
   "display_name": "Python 3",
   "language": "python",
   "name": "python3"
  },
  "language_info": {
   "codemirror_mode": {
    "name": "ipython",
    "version": 3
   },
   "file_extension": ".py",
   "mimetype": "text/x-python",
   "name": "python",
   "nbconvert_exporter": "python",
   "pygments_lexer": "ipython3",
   "version": "3.7.4"
  }
 },
 "nbformat": 4,
 "nbformat_minor": 2
}
