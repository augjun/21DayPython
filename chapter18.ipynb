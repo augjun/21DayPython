{
 "cells": [
  {
   "cell_type": "markdown",
   "metadata": {},
   "source": [
    "# 用json库处理JSON数据"
   ]
  },
  {
   "cell_type": "code",
   "execution_count": 1,
   "metadata": {},
   "outputs": [],
   "source": [
    "import json"
   ]
  },
  {
   "cell_type": "code",
   "execution_count": 2,
   "metadata": {},
   "outputs": [
    {
     "data": {
      "text/plain": [
       "'{\"name\": \"john\", \"age\": 25}'"
      ]
     },
     "execution_count": 2,
     "metadata": {},
     "output_type": "execute_result"
    }
   ],
   "source": [
    "# dumps函数 - 将Python对象编码成JSON字符串。\n",
    "\n",
    "person = {\"name\": \"john\", \"age\": 25}\n",
    "json.dumps(person)"
   ]
  },
  {
   "cell_type": "code",
   "execution_count": 3,
   "metadata": {},
   "outputs": [
    {
     "data": {
      "text/plain": [
       "'[\"a\", \"b\", \"c\"]'"
      ]
     },
     "execution_count": 3,
     "metadata": {},
     "output_type": "execute_result"
    }
   ],
   "source": [
    "array = [\"a\", \"b\", \"c\"]\n",
    "json.dumps(array)"
   ]
  },
  {
   "cell_type": "code",
   "execution_count": 4,
   "metadata": {},
   "outputs": [
    {
     "data": {
      "text/plain": [
       "'[{\"name\": \"john\", \"age\": 25}, {\"name\": \"henry\", \"age\": 35}]'"
      ]
     },
     "execution_count": 4,
     "metadata": {},
     "output_type": "execute_result"
    }
   ],
   "source": [
    "people = [{\"name\": \"john\", \"age\": 25}, {\"name\": \"henry\", \"age\": 35}]\n",
    "json.dumps(people)"
   ]
  },
  {
   "cell_type": "code",
   "execution_count": 6,
   "metadata": {},
   "outputs": [
    {
     "name": "stdout",
     "output_type": "stream",
     "text": [
      "{'name': 'john', 'age': 25}\n",
      "<class 'dict'>\n"
     ]
    }
   ],
   "source": [
    "# loads函数 - 将JSON数据解码成Python数据类型\n",
    "\n",
    "content = '{\"name\": \"john\", \"age\": 25}'\n",
    "data = json.loads(content)\n",
    "print(data)\n",
    "print(type(data))"
   ]
  },
  {
   "cell_type": "code",
   "execution_count": 7,
   "metadata": {},
   "outputs": [
    {
     "name": "stdout",
     "output_type": "stream",
     "text": [
      "['a', 'b', 'c']\n",
      "<class 'list'>\n"
     ]
    }
   ],
   "source": [
    "content = '[\"a\", \"b\", \"c\"]'\n",
    "data = json.loads(content)\n",
    "print(data)\n",
    "print(type(data))"
   ]
  },
  {
   "cell_type": "code",
   "execution_count": 8,
   "metadata": {},
   "outputs": [
    {
     "name": "stdout",
     "output_type": "stream",
     "text": [
      "[{'name': 'john', 'age': 25}, {'name': 'henry', 'age': 35}]\n",
      "<class 'list'>\n"
     ]
    }
   ],
   "source": [
    "content = '[{\"name\": \"john\", \"age\": 25}, {\"name\": \"henry\", \"age\": 35}]'\n",
    "data = json.loads(content)\n",
    "print(data)\n",
    "print(type(data))"
   ]
  },
  {
   "cell_type": "markdown",
   "metadata": {},
   "source": [
    "# 实战项目 - 见PPT"
   ]
  },
  {
   "cell_type": "code",
   "execution_count": 18,
   "metadata": {},
   "outputs": [
    {
     "name": "stdout",
     "output_type": "stream",
     "text": [
      "诚聘预备团队经理,中国人民人寿保险股份有限公司张家口市中心支公司,8000-12000,不限,不限\n",
      "储备经理人,中国人民人寿保险股份有限公司合肥中心支公司,面议,应届生,大专\n",
      "总监助理(中国人民人寿保险股份有限公司深圳市分公司),中国人民人寿保险股份有限公司深圳市分公司,20000-25000,1-3年,本科\n",
      "人事助理(中国人民人寿保险股份有限公司广州市分公司),中国人民人寿保险股份有限公司广州市分公司,2000-4000,1年以下,本科\n",
      "管培生储备干部,中国人民人寿保险股份有限公司广州市分公司,面议,不限,不限\n",
      "储备干部(中国人民人寿保险股份有限公司广州市分公司),中国人民人寿保险股份有限公司广州市分公司,5000-10000,不限,大专\n",
      "分支机构负责人(中国人民人寿保险股份有限公司天津市分公司),中国人民人寿保险股份有限公司天津市分公司,8000-12000,5-10年,大专\n",
      "区域总监,中国人寿保险股份有限公司玉林市人民东路支公司银行渠道部,10001-15000,1-3年,不限\n",
      "销售,中国人民人寿保险股份有限公司河源市分公司,3000-5000,不限,高中\n",
      "运营管理部 理赔审核岗(中国人民人寿保险股份有限公司青岛市分公司),中国人民人寿保险股份有限公司青岛市分公司,3000-5000,1-3年,本科\n"
     ]
    }
   ],
   "source": [
    "import requests\n",
    "url = \"https://zhaopin.baidu.com/api/qzasync?query=%E6%95%B0%E6%8D%AE%E5%88%86%E6%9E%90%E5%B8%88&city=%E5%8C%97%E4%BA%AC&is_adq=1&pcmod=1&pn=0&rn=20\"\n",
    "r = requests.get(url)\n",
    "content = r.content.decode(\"utf-8\")\n",
    "data = json.loads(content)\n",
    "jobs = data[\"data\"][\"disp_data\"]\n",
    "\n",
    "for job in jobs:\n",
    "    job_name = job.get(\"name\", \"\")\n",
    "    company_name = job.get(\"company\", \"\")\n",
    "    salary = job.get(\"salary\", \"\")\n",
    "    experience = job.get(\"experience\", \"\")\n",
    "    education = job.get(\"education\", \"\")\n",
    "    print(\"{},{},{},{},{}\".format(job_name,\n",
    "        company_name, salary, experience, education))"
   ]
  },
  {
   "cell_type": "code",
   "execution_count": null,
   "metadata": {},
   "outputs": [],
   "source": []
  }
 ],
 "metadata": {
  "kernelspec": {
   "display_name": "Python 3",
   "language": "python",
   "name": "python3"
  },
  "language_info": {
   "codemirror_mode": {
    "name": "ipython",
    "version": 3
   },
   "file_extension": ".py",
   "mimetype": "text/x-python",
   "name": "python",
   "nbconvert_exporter": "python",
   "pygments_lexer": "ipython3",
   "version": "3.7.5"
  }
 },
 "nbformat": 4,
 "nbformat_minor": 2
}
