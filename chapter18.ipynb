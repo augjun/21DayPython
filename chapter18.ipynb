{
 "cells": [
  {
   "cell_type": "markdown",
   "metadata": {},
   "source": [
    "# 用json库处理JSON数据"
   ]
  },
  {
   "cell_type": "code",
   "execution_count": 1,
   "metadata": {},
   "outputs": [],
   "source": [
    "import json"
   ]
  },
  {
   "cell_type": "code",
   "execution_count": 2,
   "metadata": {},
   "outputs": [
    {
     "data": {
      "text/plain": [
       "'{\"name\": \"john\", \"age\": 25}'"
      ]
     },
     "execution_count": 2,
     "metadata": {},
     "output_type": "execute_result"
    }
   ],
   "source": [
    "# dumps函数 - 将Python对象编码成JSON字符串。\n",
    "\n",
    "person = {\"name\": \"john\", \"age\": 25}\n",
    "json.dumps(person)"
   ]
  },
  {
   "cell_type": "code",
   "execution_count": 3,
   "metadata": {},
   "outputs": [
    {
     "data": {
      "text/plain": [
       "'[\"a\", \"b\", \"c\"]'"
      ]
     },
     "execution_count": 3,
     "metadata": {},
     "output_type": "execute_result"
    }
   ],
   "source": [
    "array = [\"a\", \"b\", \"c\"]\n",
    "json.dumps(array)"
   ]
  },
  {
   "cell_type": "code",
   "execution_count": 4,
   "metadata": {},
   "outputs": [
    {
     "data": {
      "text/plain": [
       "'[{\"name\": \"john\", \"age\": 25}, {\"name\": \"henry\", \"age\": 35}]'"
      ]
     },
     "execution_count": 4,
     "metadata": {},
     "output_type": "execute_result"
    }
   ],
   "source": [
    "people = [{\"name\": \"john\", \"age\": 25}, {\"name\": \"henry\", \"age\": 35}]\n",
    "json.dumps(people)"
   ]
  },
  {
   "cell_type": "code",
   "execution_count": 5,
   "metadata": {},
   "outputs": [
    {
     "name": "stdout",
     "output_type": "stream",
     "text": [
      "{'name': 'john', 'age': 25}\n",
      "<class 'dict'>\n"
     ]
    }
   ],
   "source": [
    "# loads函数 - 将JSON数据解码成Python数据类型\n",
    "\n",
    "content = '{\"name\": \"john\", \"age\": 25}'\n",
    "data = json.loads(content)\n",
    "print(data)\n",
    "print(type(data))"
   ]
  },
  {
   "cell_type": "code",
   "execution_count": 6,
   "metadata": {},
   "outputs": [
    {
     "name": "stdout",
     "output_type": "stream",
     "text": [
      "['a', 'b', 'c']\n",
      "<class 'list'>\n"
     ]
    }
   ],
   "source": [
    "content = '[\"a\", \"b\", \"c\"]'\n",
    "data = json.loads(content)\n",
    "print(data)\n",
    "print(type(data))"
   ]
  },
  {
   "cell_type": "code",
   "execution_count": 7,
   "metadata": {},
   "outputs": [
    {
     "name": "stdout",
     "output_type": "stream",
     "text": [
      "[{'name': 'john', 'age': 25}, {'name': 'henry', 'age': 35}]\n",
      "<class 'list'>\n"
     ]
    }
   ],
   "source": [
    "content = '[{\"name\": \"john\", \"age\": 25}, {\"name\": \"henry\", \"age\": 35}]'\n",
    "data = json.loads(content)\n",
    "print(data)\n",
    "print(type(data))"
   ]
  },
  {
   "cell_type": "markdown",
   "metadata": {},
   "source": [
    "# 实战项目 - 见PPT"
   ]
  },
  {
   "cell_type": "code",
   "execution_count": 4,
   "metadata": {},
   "outputs": [
    {
     "name": "stdout",
     "output_type": "stream",
     "text": [
      "济宁市设备技术经理招聘,山东江山娇农产品有限公司,5000以上,3-5年,大专\n",
      "济宁市生产经理招聘,山东江山娇农产品有限公司,5000以上,3-5年,大专\n",
      "环保检测实验室负责人(江山人才产业集团 ),江山人才产业集团,8000-12000,5-10年,本科\n",
      "预算员(福建江山丽建筑工程有限公司),福建江山丽建筑工程有限公司,3000-5000,1-3年,大专\n",
      "东营市招聘维修工3-5人,山东江山高分子材料有限公司,面议,1-3年,初中\n",
      "泰安市招聘营销人员6-10人,泰安市江山园林有限公司,面议,不限,大专\n",
      "济宁市质量经理招聘,山东江山娇农产品有限公司,5000以上,3-5年,大专\n",
      "招生顾问(衢州市),江山市花开的声音艺术培训有限公司,5000-8000,不限,不限\n",
      "机电总工(江山人才产业集团 ),江山人才产业集团,12000-20000,5-10年,不限\n",
      "济宁市招聘内勤人员3-5人,济宁江山经贸有限公司,面议,不限,初中\n",
      "收银员(重庆市),魏魏江山酒店,2000-3000,不限,不限\n",
      "前台/接待(柳州市),江山宾馆,2000-3000,不限,不限\n",
      "泰安市招聘电话销售人员3-5人,泰安市江山园林有限公司,3000-5000,不限,不限\n",
      "技术员(福建江山丽建筑工程有限公司),福建江山丽建筑工程有限公司,5000-8000,3-5年,大专\n",
      "人力资源主管开封,江山欧派门业股份有限公司,5001-6000,不限,本科\n",
      "德州市招聘业务经理3-5人,山东江山纤维科技有限公司,2000-3000,不限,大专\n",
      "人力资源经理,江山欧派门业股份有限公司,8001-10000,不限,本科\n",
      "北京市常务副总经理招聘,北京制源江山咨询有限责任公司,2001-4000,5-10年,本科\n",
      "环保检测实验室负责人(江山人才产业集团),江山人才产业集团,8000-12000,5-10年,本科\n",
      "技工,江山睿智电气有限公司,5000-8000,1-3年,初中\n"
     ]
    }
   ],
   "source": [
    "import json\n",
    "import requests\n",
    "\n",
    "url = \"https://zhaopin.baidu.com/api/qzasync?query=%E6%95%B0%E6%8D%AE%E5%88%86%E6%9E%90%E5%B8%88&city=%E5%8C%97%E4%BA%AC&is_adq=1&pcmod=1&pn=0&rn=20\"\n",
    "r = requests.get(url)\n",
    "content = r.content.decode(\"utf-8\")\n",
    "data = json.loads(content)\n",
    "jobs = data[\"data\"][\"disp_data\"]\n",
    "\n",
    "for job in jobs:\n",
    "    job_name = job.get(\"name\", \"\")\n",
    "    company_name = job.get(\"company\", \"\")\n",
    "    salary = job.get(\"salary\", \"\")\n",
    "    experience = job.get(\"experience\", \"\")\n",
    "    education = job.get(\"education\", \"\")\n",
    "    print(\"{},{},{},{},{}\".format(job_name,\n",
    "        company_name, salary, experience, education))"
   ]
  },
  {
   "cell_type": "code",
   "execution_count": null,
   "metadata": {},
   "outputs": [],
   "source": []
  },
  {
   "cell_type": "code",
   "execution_count": null,
   "metadata": {},
   "outputs": [],
   "source": []
  }
 ],
 "metadata": {
  "kernelspec": {
   "display_name": "Python 3",
   "language": "python",
   "name": "python3"
  },
  "language_info": {
   "codemirror_mode": {
    "name": "ipython",
    "version": 3
   },
   "file_extension": ".py",
   "mimetype": "text/x-python",
   "name": "python",
   "nbconvert_exporter": "python",
   "pygments_lexer": "ipython3",
   "version": "3.7.4"
  }
 },
 "nbformat": 4,
 "nbformat_minor": 2
}
