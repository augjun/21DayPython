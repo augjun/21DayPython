{
 "cells": [
  {
   "cell_type": "markdown",
   "metadata": {},
   "source": [
    "# 用json库处理JSON数据"
   ]
  },
  {
   "cell_type": "code",
   "execution_count": 1,
   "metadata": {},
   "outputs": [],
   "source": [
    "import json"
   ]
  },
  {
   "cell_type": "code",
   "execution_count": 2,
   "metadata": {},
   "outputs": [
    {
     "data": {
      "text/plain": [
       "'{\"name\": \"john\", \"age\": 25}'"
      ]
     },
     "execution_count": 2,
     "metadata": {},
     "output_type": "execute_result"
    }
   ],
   "source": [
    "# dumps函数 - 将Python对象编码成JSON字符串。\n",
    "\n",
    "person = {\"name\": \"john\", \"age\": 25}\n",
    "json.dumps(person)"
   ]
  },
  {
   "cell_type": "code",
   "execution_count": 3,
   "metadata": {},
   "outputs": [
    {
     "data": {
      "text/plain": [
       "'[\"a\", \"b\", \"c\"]'"
      ]
     },
     "execution_count": 3,
     "metadata": {},
     "output_type": "execute_result"
    }
   ],
   "source": [
    "array = [\"a\", \"b\", \"c\"]\n",
    "json.dumps(array)"
   ]
  },
  {
   "cell_type": "code",
   "execution_count": 4,
   "metadata": {},
   "outputs": [
    {
     "data": {
      "text/plain": [
       "'[{\"name\": \"john\", \"age\": 25}, {\"name\": \"henry\", \"age\": 35}]'"
      ]
     },
     "execution_count": 4,
     "metadata": {},
     "output_type": "execute_result"
    }
   ],
   "source": [
    "people = [{\"name\": \"john\", \"age\": 25}, {\"name\": \"henry\", \"age\": 35}]\n",
    "json.dumps(people)"
   ]
  },
  {
   "cell_type": "code",
   "execution_count": 5,
   "metadata": {},
   "outputs": [
    {
     "name": "stdout",
     "output_type": "stream",
     "text": [
      "{'name': 'john', 'age': 25}\n",
      "<class 'dict'>\n"
     ]
    }
   ],
   "source": [
    "# loads函数 - 将JSON数据解码成Python数据类型\n",
    "\n",
    "content = '{\"name\": \"john\", \"age\": 25}'\n",
    "data = json.loads(content)\n",
    "print(data)\n",
    "print(type(data))"
   ]
  },
  {
   "cell_type": "code",
   "execution_count": 6,
   "metadata": {},
   "outputs": [
    {
     "name": "stdout",
     "output_type": "stream",
     "text": [
      "['a', 'b', 'c']\n",
      "<class 'list'>\n"
     ]
    }
   ],
   "source": [
    "content = '[\"a\", \"b\", \"c\"]'\n",
    "data = json.loads(content)\n",
    "print(data)\n",
    "print(type(data))"
   ]
  },
  {
   "cell_type": "code",
   "execution_count": 7,
   "metadata": {},
   "outputs": [
    {
     "name": "stdout",
     "output_type": "stream",
     "text": [
      "[{'name': 'john', 'age': 25}, {'name': 'henry', 'age': 35}]\n",
      "<class 'list'>\n"
     ]
    }
   ],
   "source": [
    "content = '[{\"name\": \"john\", \"age\": 25}, {\"name\": \"henry\", \"age\": 35}]'\n",
    "data = json.loads(content)\n",
    "print(data)\n",
    "print(type(data))"
   ]
  },
  {
   "cell_type": "markdown",
   "metadata": {},
   "source": [
    "# 实战项目 - 见PPT"
   ]
  },
  {
   "cell_type": "code",
   "execution_count": 20,
   "metadata": {},
   "outputs": [
    {
     "name": "stdout",
     "output_type": "stream",
     "text": [
      "游戏广告投放(广州微客网络科技有限公司),广州微客网络科技有限公司,10000-15000,1-3年,大专\n",
      "广告策划(广州凡岛网络科技有限公司),广州凡岛网络科技有限公司,4000-8000,不限,大专\n",
      "广告投放专员(广州白泽网络科技有限公司),广州白泽网络科技有限公司,5000-10000,1年以下,不限\n",
      "广告投放专员(广州同玩科技有限公司),广州同玩科技有限公司,8000-15000,3-5年,本科\n",
      "广州凡岛广告投放,广州凡岛网络科技有限公司,3000-5000,不限,不限\n",
      "家居广告销售经理(广州盛成妈妈网络科技股份有限公司),广州盛成妈妈网络科技股份有限公司,6000-10000,1-3年,本科\n",
      "广告优化师（抖音广告投放）(广州无添加主义化妆品有限公司),广州无添加主义化妆品有限公司,12000-15000,1-3年,本科\n",
      "广告平面设计,广州鸿源广告制作有限公司,3000-5000,不限,不限\n",
      "广告设计主管(广州易幻网络科技有限公司),广州易幻网络科技有限公司,13000-20000,3-5年,大专\n",
      "Google/谷歌广告投放(广州拓特网络科技有限公司),广州拓特网络科技有限公司,8000-15000,不限,大专\n",
      "广告设计师(广州沐思信息科技有限公司),广州沐思信息科技有限公司,8000-13000,3-5年,本科\n",
      "Facebook广告投放(广州拓特网络科技有限公司),广州拓特网络科技有限公司,8000-15000,不限,大专\n",
      "Facebook/Adwords广告投放师(广州卓牛信息科技有限公司),广州卓牛信息科技有限公司,11000-22000,3-5年,本科\n",
      "大客户广告销售(广州太平洋电脑信息咨询有限公司),广州太平洋电脑信息咨询有限公司,7000-14000,1-3年,大专\n",
      "广告导演(广州三七互娱科技有限公司),广州三七互娱科技有限公司,20000-30000,3-5年,本科\n",
      "广告创意策划(广州三七互娱科技有限公司),广州三七互娱科技有限公司,10000-20000,1-3年,本科\n",
      "广告设计师(广州三七互娱科技有限公司),广州三七互娱科技有限公司,8000-16000,不限,大专\n",
      "Facebook广告投放(广州联曼信息科技有限公司),广州联曼信息科技有限公司,10000-20000,1-3年,本科\n",
      "广告设计,广州花都区星晨广告设计有限公司,面议,不限,不限\n",
      "手游广告优化师(广州三七互娱科技有限公司),广州三七互娱科技有限公司,6000-10000,1年以下,大专\n"
     ]
    }
   ],
   "source": [
    "import requests\n",
    "\n",
    "url = \"https://zhaopin.baidu.com/api/qzasync?query=%E6%95%B0%E6%8D%AE%E5%88%86%E6%9E%90%E5%B8%88&city=%E5%8C%97%E4%BA%AC&is_adq=1&pcmod=1&pn=0&rn=20\"\n",
    "r = requests.get(url)\n",
    "content = r.content.decode(\"utf-8\")\n",
    "data = json.loads(content)\n",
    "jobs = data[\"data\"][\"disp_data\"]\n",
    "\n",
    "for job in jobs:\n",
    "    job_name = job.get(\"name\", \"\")\n",
    "    company_name = job.get(\"company\", \"\")\n",
    "    salary = job.get(\"salary\", \"\")\n",
    "    experience = job.get(\"experience\", \"\")\n",
    "    education = job.get(\"education\", \"\")\n",
    "    print(\"{},{},{},{},{}\".format(job_name,\n",
    "        company_name, salary, experience, education))"
   ]
  },
  {
   "cell_type": "code",
   "execution_count": null,
   "metadata": {},
   "outputs": [],
   "source": []
  },
  {
   "cell_type": "code",
   "execution_count": null,
   "metadata": {},
   "outputs": [],
   "source": []
  }
 ],
 "metadata": {
  "kernelspec": {
   "display_name": "Python 3",
   "language": "python",
   "name": "python3"
  },
  "language_info": {
   "codemirror_mode": {
    "name": "ipython",
    "version": 3
   },
   "file_extension": ".py",
   "mimetype": "text/x-python",
   "name": "python",
   "nbconvert_exporter": "python",
   "pygments_lexer": "ipython3",
   "version": "3.7.4"
  }
 },
 "nbformat": 4,
 "nbformat_minor": 2
}
