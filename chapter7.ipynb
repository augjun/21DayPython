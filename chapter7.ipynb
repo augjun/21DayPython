{
 "cells": [
  {
   "cell_type": "code",
   "execution_count": 1,
   "metadata": {},
   "outputs": [],
   "source": [
    "# 本章节读写的所有文件都在用户目录下\n",
    "# 对于windows，C:\\Users\\<Your username>\n",
    "# 对于mac，/Users/<Your username>"
   ]
  },
  {
   "cell_type": "markdown",
   "metadata": {},
   "source": [
    "# 准备工作\n",
    "\n",
    "在用户目录下，创建一个文件words.txt，随便输入一些文字，比如\n",
    "\n",
    "python\n",
    "\n",
    "is\n",
    "\n",
    "beautiful\n"
   ]
  },
  {
   "cell_type": "markdown",
   "metadata": {},
   "source": [
    "# 打开文件和关闭文件"
   ]
  },
  {
   "cell_type": "code",
   "execution_count": 2,
   "metadata": {},
   "outputs": [
    {
     "ename": "FileNotFoundError",
     "evalue": "[Errno 2] No such file or directory: 'words.txt'",
     "output_type": "error",
     "traceback": [
      "\u001b[0;31m---------------------------------------------------------------------------\u001b[0m",
      "\u001b[0;31mFileNotFoundError\u001b[0m                         Traceback (most recent call last)",
      "\u001b[0;32m<ipython-input-2-7dd3d6a2454b>\u001b[0m in \u001b[0;36m<module>\u001b[0;34m\u001b[0m\n\u001b[1;32m      1\u001b[0m \u001b[0;31m# 打开文件\u001b[0m\u001b[0;34m\u001b[0m\u001b[0;34m\u001b[0m\u001b[0;34m\u001b[0m\u001b[0m\n\u001b[0;32m----> 2\u001b[0;31m \u001b[0mf\u001b[0m \u001b[0;34m=\u001b[0m \u001b[0mopen\u001b[0m\u001b[0;34m(\u001b[0m\u001b[0;34m\"words.txt\"\u001b[0m\u001b[0;34m)\u001b[0m\u001b[0;34m\u001b[0m\u001b[0;34m\u001b[0m\u001b[0m\n\u001b[0m",
      "\u001b[0;31mFileNotFoundError\u001b[0m: [Errno 2] No such file or directory: 'words.txt'"
     ]
    }
   ],
   "source": [
    "# 打开文件\n",
    "f = open(\"words.txt\")"
   ]
  },
  {
   "cell_type": "code",
   "execution_count": 3,
   "metadata": {},
   "outputs": [],
   "source": [
    "# 常用的打开模式\n",
    "# r - 读取模式（默认）\n",
    "# w - 写入模式\n",
    "# a - 附加模式\n",
    "# b - 二进制模式（与其他模式结合）\n",
    "# rb - 二进制模式读取\n",
    "# wb - 二进制模式写入\n",
    "f = open(\"words.txt\", \"w\")\n",
    "f = open(\"words.txt\", \"rb\")"
   ]
  },
  {
   "cell_type": "code",
   "execution_count": 7,
   "metadata": {},
   "outputs": [],
   "source": [
    "# 关闭文件\n",
    "f.close()"
   ]
  },
  {
   "cell_type": "markdown",
   "metadata": {},
   "source": [
    "# 读取内容"
   ]
  },
  {
   "cell_type": "code",
   "execution_count": 8,
   "metadata": {},
   "outputs": [
    {
     "name": "stdout",
     "output_type": "stream",
     "text": [
      "\n"
     ]
    }
   ],
   "source": [
    "# 一次读取所有内容\n",
    "f = open(\"words.txt\")\n",
    "content = f.read()\n",
    "print(content)\n",
    "f.close()"
   ]
  },
  {
   "cell_type": "code",
   "execution_count": 14,
   "metadata": {},
   "outputs": [
    {
     "name": "stdout",
     "output_type": "stream",
     "text": [
      "hello world\n",
      "\n"
     ]
    }
   ],
   "source": [
    "# 一次读取一行\n",
    "f = open(\"words.txt\")\n",
    "content = f.readline()\n",
    "print(content)\n",
    "f.close()"
   ]
  },
  {
   "cell_type": "markdown",
   "metadata": {},
   "source": [
    "# 写入内容"
   ]
  },
  {
   "cell_type": "code",
   "execution_count": 12,
   "metadata": {},
   "outputs": [],
   "source": [
    "# w模式会删除已有内容\n",
    "f = open(\"words.txt\", \"w\")\n",
    "f.write(\"hello world\\n\")\n",
    "f.close()"
   ]
  },
  {
   "cell_type": "code",
   "execution_count": 13,
   "metadata": {},
   "outputs": [],
   "source": [
    "# a模式追加内容\n",
    "f = open(\"words.txt\", \"a\")\n",
    "f.write(\"another line\\n\")\n",
    "f.close()"
   ]
  },
  {
   "cell_type": "markdown",
   "metadata": {},
   "source": [
    "# 使用with语句简化代码"
   ]
  },
  {
   "cell_type": "code",
   "execution_count": 16,
   "metadata": {},
   "outputs": [
    {
     "name": "stdout",
     "output_type": "stream",
     "text": [
      "hello world\n",
      "another line\n",
      "\n"
     ]
    }
   ],
   "source": [
    "# 使用with关键字，不用写close代码\n",
    "with open(\"words.txt\", \"r\") as f:\n",
    "    content = f.read()\n",
    "    print(content)"
   ]
  },
  {
   "cell_type": "markdown",
   "metadata": {},
   "source": [
    "# 实战项目 - 见PPT"
   ]
  },
  {
   "cell_type": "code",
   "execution_count": 23,
   "metadata": {},
   "outputs": [
    {
     "name": "stdout",
     "output_type": "stream",
     "text": [
      "['Each', 'spring', 'brings', 'a', 'new', 'blossom', 'of', 'wildflowers', 'in', 'the', 'ditches', 'along', 'the', 'highway', 'I', 'travel', 'daily', 'to', 'work.', 'There', 'is', 'one', 'particular', 'blue', 'flower', 'that', 'has', 'always', 'caught', 'my', 'eyes.', \"I've\", 'noticed', 'that', 'it', 'blooms', 'only', 'in', 'the', 'morning', 'hours,', 'the', 'afternoon', 'sun', 'is', 'too', 'warm', 'for', 'it.', 'Every', 'day', 'for', 'approximately', 'two', 'weeks,', 'I', 'see', 'those', 'beautiful', 'flowers.', 'This', 'spring,', 'I', 'started', 'a', 'wildflower', 'garden', 'in', 'our', 'yard.', 'I', 'can', 'look', 'out', 'of', 'the', 'kitchen', 'window', 'while', 'doing', 'the', 'dishes', 'and', 'see', 'the', 'flowers.', \"I've\", 'often', 'thought', 'that', 'those', 'lovely', 'blue', 'flowers', 'from', 'the', 'ditches', 'would', 'look', 'great', 'in', 'that', 'bed', 'alongside', 'other', 'wildflowers.', 'Everyday', 'I', 'drove', 'past', 'the', 'flowers', 'thinking,', \"“I'll\", 'stop', 'on', 'my', 'way', 'home', 'and', 'dig', 'them.”', '“Gee,', 'I', \"don't\", 'want', 'to', 'get', 'my', 'good', 'clothes', 'dirty...”', 'Whatever', 'the', 'reason,', 'I', 'never', 'stopped', 'to', 'dig', 'them.', 'My', 'husband', 'even', 'gave', 'me', 'a', 'folding', 'shovel', 'one', 'year', 'for', 'my', 'trunk', 'to', 'be', 'used', 'for', 'that', 'expressed', 'purpose.', 'One', 'day', 'on', 'my', 'way', 'home', 'from', 'work,', 'I', 'was', 'saddened', 'to', 'see', 'that', 'the', 'highway', 'department', 'had', 'mowed', 'the', 'ditches', 'and', 'the', 'pretty', 'blue', 'flowers', 'were', 'gone.', 'I', 'thought', 'to', 'myself,', '“Way', 'to', 'go,', 'you', 'waited', 'too', 'long.', 'You', 'should', 'have', 'done', 'it', 'when', 'you', 'first', 'saw', 'them', 'blooming', 'this', 'spring.”', 'A', 'week', 'ago', 'we', 'were', 'shocked', 'and', 'saddened', 'to', 'learn', 'that', 'my', 'oldest', 'sister-in-law', 'has', 'a', 'terminal', 'brain', 'tumor.', 'She', 'is', '20', 'years', 'older', 'than', 'my', 'husband', 'and', 'unfortunately,', 'because', 'of', 'age', 'and', 'distance,', 'we', 'haven’t', 'been', 'as', 'close', 'as', 'we', 'all', 'would', 'have', 'liked.', 'I', 'couldn’t', 'help', 'but', 'see', 'the', 'connection', 'between', 'the', 'pretty', 'blue', 'flowers', 'and', 'the', 'relationship', 'between', 'my', \"husband's\", 'sister', 'and', 'us.', 'I', 'do', 'believe', 'that', 'God', 'has', 'given', 'us', 'some', 'time', 'left', 'to', 'plant', 'some', 'wonderful', 'memories', 'that', 'will', 'bloom', 'every', 'year', 'for', 'us.', 'And', 'yes,', 'if', 'I', 'see', 'the', 'blue', 'flowers', 'again,', 'you', 'can', 'bet', \"I'll\", 'stop', 'and', 'transplant', 'them', 'to', 'my', 'wildflower', 'garden.']\n",
      "323\n",
      "Each 1\n",
      "spring 1\n",
      "brings 1\n",
      "a 4\n",
      "new 1\n",
      "blossom 1\n",
      "of 3\n",
      "wildflowers 1\n",
      "in 4\n",
      "the 17\n",
      "ditches 3\n",
      "along 1\n",
      "highway 2\n",
      "I 12\n",
      "travel 1\n",
      "daily 1\n",
      "to 10\n",
      "work. 1\n",
      "There 1\n",
      "is 3\n",
      "one 2\n",
      "particular 1\n",
      "blue 5\n",
      "flower 1\n",
      "that 9\n",
      "has 3\n",
      "always 1\n",
      "caught 1\n",
      "my 9\n",
      "eyes. 1\n",
      "I've 2\n",
      "noticed 1\n",
      "it 2\n",
      "blooms 1\n",
      "only 1\n",
      "morning 1\n",
      "hours, 1\n",
      "afternoon 1\n",
      "sun 1\n",
      "too 2\n",
      "warm 1\n",
      "for 5\n",
      "it. 1\n",
      "Every 1\n",
      "day 2\n",
      "approximately 1\n",
      "two 1\n",
      "weeks, 1\n",
      "see 5\n",
      "those 2\n",
      "beautiful 1\n",
      "flowers. 2\n",
      "This 1\n",
      "spring, 1\n",
      "started 1\n",
      "wildflower 2\n",
      "garden 1\n",
      "our 1\n",
      "yard. 1\n",
      "can 2\n",
      "look 2\n",
      "out 1\n",
      "kitchen 1\n",
      "window 1\n",
      "while 1\n",
      "doing 1\n",
      "dishes 1\n",
      "and 9\n",
      "often 1\n",
      "thought 2\n",
      "lovely 1\n",
      "flowers 5\n",
      "from 2\n",
      "would 2\n",
      "great 1\n",
      "bed 1\n",
      "alongside 1\n",
      "other 1\n",
      "wildflowers. 1\n",
      "Everyday 1\n",
      "drove 1\n",
      "past 1\n",
      "thinking, 1\n",
      "“I'll 1\n",
      "stop 2\n",
      "on 2\n",
      "way 2\n",
      "home 2\n",
      "dig 2\n",
      "them.” 1\n",
      "“Gee, 1\n",
      "don't 1\n",
      "want 1\n",
      "get 1\n",
      "good 1\n",
      "clothes 1\n",
      "dirty...” 1\n",
      "Whatever 1\n",
      "reason, 1\n",
      "never 1\n",
      "stopped 1\n",
      "them. 1\n",
      "My 1\n",
      "husband 2\n",
      "even 1\n",
      "gave 1\n",
      "me 1\n",
      "folding 1\n",
      "shovel 1\n",
      "year 2\n",
      "trunk 1\n",
      "be 1\n",
      "used 1\n",
      "expressed 1\n",
      "purpose. 1\n",
      "One 1\n",
      "work, 1\n",
      "was 1\n",
      "saddened 2\n",
      "department 1\n",
      "had 1\n",
      "mowed 1\n",
      "pretty 2\n",
      "were 2\n",
      "gone. 1\n",
      "myself, 1\n",
      "“Way 1\n",
      "go, 1\n",
      "you 3\n",
      "waited 1\n",
      "long. 1\n",
      "You 1\n",
      "should 1\n",
      "have 2\n",
      "done 1\n",
      "when 1\n",
      "first 1\n",
      "saw 1\n",
      "them 2\n",
      "blooming 1\n",
      "this 1\n",
      "spring.” 1\n",
      "A 1\n",
      "week 1\n",
      "ago 1\n",
      "we 3\n",
      "shocked 1\n",
      "learn 1\n",
      "oldest 1\n",
      "sister-in-law 1\n",
      "terminal 1\n",
      "brain 1\n",
      "tumor. 1\n",
      "She 1\n",
      "20 1\n",
      "years 1\n",
      "older 1\n",
      "than 1\n",
      "unfortunately, 1\n",
      "because 1\n",
      "age 1\n",
      "distance, 1\n",
      "haven’t 1\n",
      "been 1\n",
      "as 2\n",
      "close 1\n",
      "all 1\n",
      "liked. 1\n",
      "couldn’t 1\n",
      "help 1\n",
      "but 1\n",
      "connection 1\n",
      "between 2\n",
      "relationship 1\n",
      "husband's 1\n",
      "sister 1\n",
      "us. 2\n",
      "do 1\n",
      "believe 1\n",
      "God 1\n",
      "given 1\n",
      "us 1\n",
      "some 2\n",
      "time 1\n",
      "left 1\n",
      "plant 1\n",
      "wonderful 1\n",
      "memories 1\n",
      "will 1\n",
      "bloom 1\n",
      "every 1\n",
      "And 1\n",
      "yes, 1\n",
      "if 1\n",
      "again, 1\n",
      "bet 1\n",
      "I'll 1\n",
      "transplant 1\n",
      "garden. 1\n"
     ]
    }
   ],
   "source": [
    "with open(\"chapter7_article.txt\", \"r\") as f:\n",
    "    content = f.read()\n",
    "    words = content.split()\n",
    "    print(words)\n",
    "    print(len(words))\n",
    "    word_count = {}\n",
    "    for word in words:\n",
    "        if word in word_count:\n",
    "            word_count[word] += 1\n",
    "        else:\n",
    "            word_count[word] = 1\n",
    "    for word, count in word_count.items():\n",
    "        print(word, count)\n",
    "        "
   ]
  },
  {
   "cell_type": "code",
   "execution_count": null,
   "metadata": {},
   "outputs": [],
   "source": []
  }
 ],
 "metadata": {
  "kernelspec": {
   "display_name": "Python 3",
   "language": "python",
   "name": "python3"
  },
  "language_info": {
   "codemirror_mode": {
    "name": "ipython",
    "version": 3
   },
   "file_extension": ".py",
   "mimetype": "text/x-python",
   "name": "python",
   "nbconvert_exporter": "python",
   "pygments_lexer": "ipython3",
   "version": "3.7.5"
  }
 },
 "nbformat": 4,
 "nbformat_minor": 2
}
