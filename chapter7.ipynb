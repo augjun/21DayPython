{
 "cells": [
  {
   "cell_type": "code",
   "execution_count": 5,
   "metadata": {},
   "outputs": [],
   "source": [
    "# 本章节读写的所有文件都在课件目录下\n",
    "# 对于windows，C:\\Users\\<Your username>\\21DayPython-master\n",
    "# 对于mac，/Users/<Your username>/21DayPython-master"
   ]
  },
  {
   "cell_type": "markdown",
   "metadata": {},
   "source": [
    "# 准备工作\n",
    "在课件目录下，创建一个文件words.txt，随便输入一些文字，比如\n",
    "\n",
    "python\n",
    "\n",
    "is\n",
    "\n",
    "beautiful\n"
   ]
  },
  {
   "cell_type": "markdown",
   "metadata": {},
   "source": [
    "# 打开文件和关闭文件"
   ]
  },
  {
   "cell_type": "code",
   "execution_count": 1,
   "metadata": {},
   "outputs": [],
   "source": [
    "# 打开文件\n",
    "f = open(\"words.txt\")"
   ]
  },
  {
   "cell_type": "code",
   "execution_count": 7,
   "metadata": {},
   "outputs": [],
   "source": [
    "# 常用的打开模式\n",
    "# r - 读取模式（默认）\n",
    "# w - 写入模式\n",
    "# a - 附加模式\n",
    "# b - 二进制模式（与其他模式结合）\n",
    "# rb - 二进制模式读取\n",
    "# wb - 二进制模式写入\n",
    "f = open(\"words.txt\", \"w\")\n",
    "f = open(\"words.txt\", \"rb\")"
   ]
  },
  {
   "cell_type": "code",
   "execution_count": 8,
   "metadata": {},
   "outputs": [],
   "source": [
    "# 关闭文件\n",
    "f.close()"
   ]
  },
  {
   "cell_type": "markdown",
   "metadata": {},
   "source": [
    "# 读取内容"
   ]
  },
  {
   "cell_type": "code",
   "execution_count": 2,
   "metadata": {},
   "outputs": [
    {
     "name": "stdout",
     "output_type": "stream",
     "text": [
      "hello world\n",
      "another line\n",
      "\n"
     ]
    }
   ],
   "source": [
    "# 一次读取所有内容\n",
    "f = open(\"words.txt\")\n",
    "content = f.read()\n",
    "print(content)\n",
    "f.close()"
   ]
  },
  {
   "cell_type": "code",
   "execution_count": 10,
   "metadata": {},
   "outputs": [
    {
     "name": "stdout",
     "output_type": "stream",
     "text": [
      "\n"
     ]
    }
   ],
   "source": [
    "# 一次读取一行\n",
    "f = open(\"words.txt\")\n",
    "content = f.readline()\n",
    "print(content)\n",
    "f.close()"
   ]
  },
  {
   "cell_type": "markdown",
   "metadata": {},
   "source": [
    "# 写入内容"
   ]
  },
  {
   "cell_type": "code",
   "execution_count": 11,
   "metadata": {},
   "outputs": [],
   "source": [
    "# w模式会删除已有内容\n",
    "f = open(\"words.txt\", \"w\")\n",
    "f.write(\"hello world\\n\")\n",
    "f.close()"
   ]
  },
  {
   "cell_type": "code",
   "execution_count": 12,
   "metadata": {},
   "outputs": [],
   "source": [
    "# a模式追加内容\n",
    "f = open(\"words.txt\", \"a\")\n",
    "f.write(\"another line\\n\")\n",
    "f.close()"
   ]
  },
  {
   "cell_type": "markdown",
   "metadata": {},
   "source": [
    "# 使用with语句简化代码"
   ]
  },
  {
   "cell_type": "code",
   "execution_count": 13,
   "metadata": {},
   "outputs": [
    {
     "name": "stdout",
     "output_type": "stream",
     "text": [
      "hello world\n",
      "another line\n",
      "\n"
     ]
    }
   ],
   "source": [
    "# 使用with关键字，不用写close代码\n",
    "with open(\"words.txt\", \"r\") as f:\n",
    "    content = f.read()\n",
    "    print(content)"
   ]
  },
  {
   "cell_type": "markdown",
   "metadata": {},
   "source": [
    "# 实战项目 - 见PPT"
   ]
  },
  {
   "cell_type": "code",
   "execution_count": 14,
   "metadata": {},
   "outputs": [
    {
     "name": "stdout",
     "output_type": "stream",
     "text": [
      "['Its', 'producers', 'define', 'the', 'Python', 'language', 'as', '“…an', 'interpreted,', 'an', 'object-oriented,', 'high-level', 'programming', 'language', 'with', 'dynamic', 'semantics.', \"It's\", 'high-level', 'built-in', 'data', 'structures,', 'combined', 'with', 'dynamic', 'typing', 'and', 'dynamic', 'binding,', 'make', 'it', 'very', 'attractive', 'for', 'Rapid', 'Application', 'Development,', 'as', 'well', 'as', 'for', 'use', 'as', 'a', 'scripting', 'or', 'glue', 'language', 'to', 'connect', 'existing', 'components.”', 'Python', 'is', 'a', 'general-purpose', 'programming', 'language,', 'meaning', 'it', 'can', 'be', 'used', 'in', 'the', 'development', 'of', 'both', 'web', 'and', 'desktop', 'applications.', 'It’s', 'also', 'useful', 'in', 'the', 'development', 'of', 'complex', 'numeric', 'and', 'scientific', 'applications.', 'With', 'this', 'sort', 'of', 'versatility,', 'it', 'comes', 'as', 'no', 'surprise', 'that', 'Python', 'is', 'one', 'of', 'the', 'fastest-growing', 'programming', 'languages', 'in', 'the', 'world.']\n",
      "106\n",
      "Its 1\n",
      "producers 1\n",
      "define 1\n",
      "the 5\n",
      "Python 3\n",
      "language 3\n",
      "as 5\n",
      "“…an 1\n",
      "interpreted, 1\n",
      "an 1\n",
      "object-oriented, 1\n",
      "high-level 2\n",
      "programming 3\n",
      "with 2\n",
      "dynamic 3\n",
      "semantics. 1\n",
      "It's 1\n",
      "built-in 1\n",
      "data 1\n",
      "structures, 1\n",
      "combined 1\n",
      "typing 1\n",
      "and 3\n",
      "binding, 1\n",
      "make 1\n",
      "it 3\n",
      "very 1\n",
      "attractive 1\n",
      "for 2\n",
      "Rapid 1\n",
      "Application 1\n",
      "Development, 1\n",
      "well 1\n",
      "use 1\n",
      "a 2\n",
      "scripting 1\n",
      "or 1\n",
      "glue 1\n",
      "to 1\n",
      "connect 1\n",
      "existing 1\n",
      "components.” 1\n",
      "is 2\n",
      "general-purpose 1\n",
      "language, 1\n",
      "meaning 1\n",
      "can 1\n",
      "be 1\n",
      "used 1\n",
      "in 3\n",
      "development 2\n",
      "of 4\n",
      "both 1\n",
      "web 1\n",
      "desktop 1\n",
      "applications. 2\n",
      "It’s 1\n",
      "also 1\n",
      "useful 1\n",
      "complex 1\n",
      "numeric 1\n",
      "scientific 1\n",
      "With 1\n",
      "this 1\n",
      "sort 1\n",
      "versatility, 1\n",
      "comes 1\n",
      "no 1\n",
      "surprise 1\n",
      "that 1\n",
      "one 1\n",
      "fastest-growing 1\n",
      "languages 1\n",
      "world. 1\n"
     ]
    }
   ],
   "source": [
    "with open(\"chapter7_article.txt\", \"r\", encoding=\"utf-8\") as f:\n",
    "    content = f.read()\n",
    "    words = content.split()\n",
    "    print(words)\n",
    "    print(len(words))\n",
    "    word_count = {}\n",
    "    for word in words:\n",
    "        if word in word_count:\n",
    "            word_count[word] += 1\n",
    "        else:\n",
    "            word_count[word] = 1\n",
    "    for word, count in word_count.items():\n",
    "        print(word, count)\n",
    "        "
   ]
  },
  {
   "cell_type": "code",
   "execution_count": null,
   "metadata": {},
   "outputs": [],
   "source": []
  }
 ],
 "metadata": {
  "kernelspec": {
   "display_name": "Python 3",
   "language": "python",
   "name": "python3"
  },
  "language_info": {
   "codemirror_mode": {
    "name": "ipython",
    "version": 3
   },
   "file_extension": ".py",
   "mimetype": "text/x-python",
   "name": "python",
   "nbconvert_exporter": "python",
   "pygments_lexer": "ipython3",
   "version": "3.7.4"
  }
 },
 "nbformat": 4,
 "nbformat_minor": 2
}
