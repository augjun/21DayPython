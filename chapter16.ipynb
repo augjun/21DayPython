{
 "cells": [
  {
   "cell_type": "markdown",
   "metadata": {},
   "source": [
    "# 练习一 - 见PPT"
   ]
  },
  {
   "cell_type": "markdown",
   "metadata": {},
   "source": [
    "<html>\n",
    "<body>\n",
    "\n",
    "<h1>21天Python训练营</h1>\n",
    "\n",
    "<p>课件地址请点击<a href=\"https://github.com/shenzhongqiang/21DayPython\">这里</a></p>\n",
    "\n",
    "</body>\n",
    "</html>"
   ]
  },
  {
   "cell_type": "markdown",
   "metadata": {},
   "source": [
    "# 练习二 - 见PPT"
   ]
  },
  {
   "cell_type": "markdown",
   "metadata": {},
   "source": [
    "# 练习三 - 见PPT"
   ]
  },
  {
   "cell_type": "markdown",
   "metadata": {},
   "source": [
    "# 使用lxml库的xpath解析"
   ]
  },
  {
   "cell_type": "code",
   "execution_count": 1,
   "metadata": {},
   "outputs": [],
   "source": [
    "from lxml import etree"
   ]
  },
  {
   "cell_type": "code",
   "execution_count": 2,
   "metadata": {},
   "outputs": [
    {
     "name": "stdout",
     "output_type": "stream",
     "text": [
      "b'<html><body><div data-role=\"ershoufang\">     <div>         <a href=\"/ershoufang/pudong/\" title=\"&#19978;&#28023;&#28006;&#19996;&#22312;&#21806;&#20108;&#25163;&#25151; \">&#28006;&#19996;</a>         <a href=\"/ershoufang/minhang/\" title=\"&#19978;&#28023;&#38389;&#34892;&#22312;&#21806;&#20108;&#25163;&#25151; \">&#38389;&#34892;</a>         <a href=\"/ershoufang/baoshan/\" title=\"&#19978;&#28023;&#23453;&#23665;&#22312;&#21806;&#20108;&#25163;&#25151; \">&#23453;&#23665;</a>         <a href=\"/ershoufang/xuhui/\" title=\"&#19978;&#28023;&#24464;&#27719;&#22312;&#21806;&#20108;&#25163;&#25151; \">&#24464;&#27719;</a>     </div> </div></body></html>'\n"
     ]
    }
   ],
   "source": [
    "html = '<html><body><div data-role=\"ershoufang\"> \\\n",
    "    <div> \\\n",
    "        <a href=\"/ershoufang/pudong/\" title=\"上海浦东在售二手房 \">浦东</a> \\\n",
    "        <a href=\"/ershoufang/minhang/\" title=\"上海闵行在售二手房 \">闵行</a> \\\n",
    "        <a href=\"/ershoufang/baoshan/\" title=\"上海宝山在售二手房 \">宝山</a> \\\n",
    "        <a href=\"/ershoufang/xuhui/\" title=\"上海徐汇在售二手房 \">徐汇</a> \\\n",
    "    </div> \\\n",
    "</div></body></html> \\\n",
    "'\n",
    "\n",
    "# 初始化HTML解析对象\n",
    "root = etree.HTML(html)\n",
    "\n",
    "# 输出节点的HTML代码\n",
    "print(etree.tostring(root))"
   ]
  },
  {
   "cell_type": "code",
   "execution_count": 3,
   "metadata": {},
   "outputs": [
    {
     "name": "stdout",
     "output_type": "stream",
     "text": [
      "[<Element html at 0x19e7861b848>]\n",
      "b'<html><body><div data-role=\"ershoufang\">     <div>         <a href=\"/ershoufang/pudong/\" title=\"&#19978;&#28023;&#28006;&#19996;&#22312;&#21806;&#20108;&#25163;&#25151; \">&#28006;&#19996;</a>         <a href=\"/ershoufang/minhang/\" title=\"&#19978;&#28023;&#38389;&#34892;&#22312;&#21806;&#20108;&#25163;&#25151; \">&#38389;&#34892;</a>         <a href=\"/ershoufang/baoshan/\" title=\"&#19978;&#28023;&#23453;&#23665;&#22312;&#21806;&#20108;&#25163;&#25151; \">&#23453;&#23665;</a>         <a href=\"/ershoufang/xuhui/\" title=\"&#19978;&#28023;&#24464;&#27719;&#22312;&#21806;&#20108;&#25163;&#25151; \">&#24464;&#27719;</a>     </div> </div></body></html>'\n"
     ]
    }
   ],
   "source": [
    "# /html - 选择根节点html\n",
    "nodes = root.xpath('/html')\n",
    "print(nodes)\n",
    "print(etree.tostring(nodes[0]))"
   ]
  },
  {
   "cell_type": "code",
   "execution_count": 4,
   "metadata": {},
   "outputs": [
    {
     "name": "stdout",
     "output_type": "stream",
     "text": [
      "[<Element div at 0x19e78723888>]\n",
      "b'<div data-role=\"ershoufang\">     <div>         <a href=\"/ershoufang/pudong/\" title=\"&#19978;&#28023;&#28006;&#19996;&#22312;&#21806;&#20108;&#25163;&#25151; \">&#28006;&#19996;</a>         <a href=\"/ershoufang/minhang/\" title=\"&#19978;&#28023;&#38389;&#34892;&#22312;&#21806;&#20108;&#25163;&#25151; \">&#38389;&#34892;</a>         <a href=\"/ershoufang/baoshan/\" title=\"&#19978;&#28023;&#23453;&#23665;&#22312;&#21806;&#20108;&#25163;&#25151; \">&#23453;&#23665;</a>         <a href=\"/ershoufang/xuhui/\" title=\"&#19978;&#28023;&#24464;&#27719;&#22312;&#21806;&#20108;&#25163;&#25151; \">&#24464;&#27719;</a>     </div> </div>'\n"
     ]
    }
   ],
   "source": [
    "# /html/body/div - 选择html节点下的body下的div，都是直接后代\n",
    "nodes = root.xpath('/html/body/div')\n",
    "print(nodes)\n",
    "print(etree.tostring(nodes[0]))"
   ]
  },
  {
   "cell_type": "code",
   "execution_count": 5,
   "metadata": {},
   "outputs": [
    {
     "name": "stdout",
     "output_type": "stream",
     "text": [
      "[<Element a at 0x19e7861b608>, <Element a at 0x19e78723c08>, <Element a at 0x19e78723c48>, <Element a at 0x19e78723c88>]\n",
      "b'<a href=\"/ershoufang/pudong/\" title=\"&#x4E0A;&#x6D77;&#x6D66;&#x4E1C;&#x5728;&#x552E;&#x4E8C;&#x624B;&#x623F; \">&#28006;&#19996;</a>         '\n",
      "b'<a href=\"/ershoufang/minhang/\" title=\"&#x4E0A;&#x6D77;&#x95F5;&#x884C;&#x5728;&#x552E;&#x4E8C;&#x624B;&#x623F; \">&#38389;&#34892;</a>         '\n",
      "b'<a href=\"/ershoufang/baoshan/\" title=\"&#x4E0A;&#x6D77;&#x5B9D;&#x5C71;&#x5728;&#x552E;&#x4E8C;&#x624B;&#x623F; \">&#23453;&#23665;</a>         '\n",
      "b'<a href=\"/ershoufang/xuhui/\" title=\"&#x4E0A;&#x6D77;&#x5F90;&#x6C47;&#x5728;&#x552E;&#x4E8C;&#x624B;&#x623F; \">&#24464;&#27719;</a>     '\n"
     ]
    }
   ],
   "source": [
    "# /html//a - 选择html节点的后代的所有a节点，不管它们位于html之下的什么位置\n",
    "nodes = root.xpath('/html//a')\n",
    "print(nodes)\n",
    "for node in nodes:\n",
    "    print(etree.tostring(node))"
   ]
  },
  {
   "cell_type": "code",
   "execution_count": 6,
   "metadata": {},
   "outputs": [
    {
     "name": "stdout",
     "output_type": "stream",
     "text": [
      "[<Element a at 0x19e7861b608>, <Element a at 0x19e78723c08>, <Element a at 0x19e78723c48>, <Element a at 0x19e78723c88>]\n",
      "b'<a href=\"/ershoufang/pudong/\" title=\"&#x4E0A;&#x6D77;&#x6D66;&#x4E1C;&#x5728;&#x552E;&#x4E8C;&#x624B;&#x623F; \">&#28006;&#19996;</a>         '\n",
      "b'<a href=\"/ershoufang/minhang/\" title=\"&#x4E0A;&#x6D77;&#x95F5;&#x884C;&#x5728;&#x552E;&#x4E8C;&#x624B;&#x623F; \">&#38389;&#34892;</a>         '\n",
      "b'<a href=\"/ershoufang/baoshan/\" title=\"&#x4E0A;&#x6D77;&#x5B9D;&#x5C71;&#x5728;&#x552E;&#x4E8C;&#x624B;&#x623F; \">&#23453;&#23665;</a>         '\n",
      "b'<a href=\"/ershoufang/xuhui/\" title=\"&#x4E0A;&#x6D77;&#x5F90;&#x6C47;&#x5728;&#x552E;&#x4E8C;&#x624B;&#x623F; \">&#24464;&#27719;</a>     '\n"
     ]
    }
   ],
   "source": [
    "# //a - 选择所有的a节点，不管它们出现在什么位置\n",
    "nodes = root.xpath('//a')\n",
    "print(nodes)\n",
    "for node in nodes:\n",
    "    print(etree.tostring(node))"
   ]
  },
  {
   "cell_type": "code",
   "execution_count": 7,
   "metadata": {},
   "outputs": [
    {
     "name": "stdout",
     "output_type": "stream",
     "text": [
      "[<Element div at 0x19e78720788>, <Element div at 0x19e787207c8>]\n",
      "b'<div data-role=\"ershoufang\">     <div>         <a href=\"/ershoufang/pudong/\" title=\"&#19978;&#28023;&#28006;&#19996;&#22312;&#21806;&#20108;&#25163;&#25151; \">&#28006;&#19996;</a>         <a href=\"/ershoufang/minhang/\" title=\"&#19978;&#28023;&#38389;&#34892;&#22312;&#21806;&#20108;&#25163;&#25151; \">&#38389;&#34892;</a>         <a href=\"/ershoufang/baoshan/\" title=\"&#19978;&#28023;&#23453;&#23665;&#22312;&#21806;&#20108;&#25163;&#25151; \">&#23453;&#23665;</a>         <a href=\"/ershoufang/xuhui/\" title=\"&#19978;&#28023;&#24464;&#27719;&#22312;&#21806;&#20108;&#25163;&#25151; \">&#24464;&#27719;</a>     </div> </div>'\n",
      "b'<div>         <a href=\"/ershoufang/pudong/\" title=\"&#19978;&#28023;&#28006;&#19996;&#22312;&#21806;&#20108;&#25163;&#25151; \">&#28006;&#19996;</a>         <a href=\"/ershoufang/minhang/\" title=\"&#19978;&#28023;&#38389;&#34892;&#22312;&#21806;&#20108;&#25163;&#25151; \">&#38389;&#34892;</a>         <a href=\"/ershoufang/baoshan/\" title=\"&#19978;&#28023;&#23453;&#23665;&#22312;&#21806;&#20108;&#25163;&#25151; \">&#23453;&#23665;</a>         <a href=\"/ershoufang/xuhui/\" title=\"&#19978;&#28023;&#24464;&#27719;&#22312;&#21806;&#20108;&#25163;&#25151; \">&#24464;&#27719;</a>     </div> '\n"
     ]
    }
   ],
   "source": [
    "# //div - 选择所有的div节点，不管它们出现在什么位置\n",
    "nodes = root.xpath('//div')\n",
    "print(nodes)\n",
    "for node in nodes:\n",
    "    print(etree.tostring(node))"
   ]
  },
  {
   "cell_type": "code",
   "execution_count": 8,
   "metadata": {},
   "outputs": [
    {
     "name": "stdout",
     "output_type": "stream",
     "text": [
      "['上海浦东在售二手房 ', '上海闵行在售二手房 ', '上海宝山在售二手房 ', '上海徐汇在售二手房 ']\n"
     ]
    }
   ],
   "source": [
    "# //a/@title - 选择所有的a节点的title属性\n",
    "nodes = root.xpath('//a/@title')\n",
    "print(nodes)\n"
   ]
  },
  {
   "cell_type": "code",
   "execution_count": 9,
   "metadata": {},
   "outputs": [
    {
     "name": "stdout",
     "output_type": "stream",
     "text": [
      "['浦东', '闵行', '宝山', '徐汇']\n"
     ]
    }
   ],
   "source": [
    "# //a/text() - 选择所有的a节点的文本\n",
    "nodes = root.xpath('//a/text()')\n",
    "print(nodes)"
   ]
  },
  {
   "cell_type": "code",
   "execution_count": 10,
   "metadata": {},
   "outputs": [
    {
     "name": "stdout",
     "output_type": "stream",
     "text": [
      "[<Element a at 0x19e78720908>]\n",
      "b'<a href=\"/ershoufang/pudong/\" title=\"&#x4E0A;&#x6D77;&#x6D66;&#x4E1C;&#x5728;&#x552E;&#x4E8C;&#x624B;&#x623F; \">&#28006;&#19996;</a>         '\n"
     ]
    }
   ],
   "source": [
    "# //div/a[1] - 选择div子节点的第一个a节点\n",
    "nodes = root.xpath('//div/a[1]')\n",
    "print(nodes)\n",
    "print(etree.tostring(nodes[0]))"
   ]
  },
  {
   "cell_type": "code",
   "execution_count": 11,
   "metadata": {},
   "outputs": [
    {
     "name": "stdout",
     "output_type": "stream",
     "text": [
      "[<Element a at 0x19e78720e48>]\n",
      "b'<a href=\"/ershoufang/xuhui/\" title=\"&#x4E0A;&#x6D77;&#x5F90;&#x6C47;&#x5728;&#x552E;&#x4E8C;&#x624B;&#x623F; \">&#24464;&#27719;</a>     '\n"
     ]
    }
   ],
   "source": [
    "# //div/a[last()] - 选择div子节点的最后一个a节点\n",
    "nodes = root.xpath('//div/a[last()]')\n",
    "print(nodes)\n",
    "print(etree.tostring(nodes[0]))"
   ]
  },
  {
   "cell_type": "code",
   "execution_count": 12,
   "metadata": {},
   "outputs": [
    {
     "name": "stdout",
     "output_type": "stream",
     "text": [
      "[<Element a at 0x19e78720888>]\n",
      "b'<a href=\"/ershoufang/baoshan/\" title=\"&#x4E0A;&#x6D77;&#x5B9D;&#x5C71;&#x5728;&#x552E;&#x4E8C;&#x624B;&#x623F; \">&#23453;&#23665;</a>         '\n"
     ]
    }
   ],
   "source": [
    "# //div/a[last()-1] - 选择div子节点的倒数第二个a节点\n",
    "nodes = root.xpath('//div/a[last()-1]')\n",
    "print(nodes)\n",
    "print(etree.tostring(nodes[0]))"
   ]
  },
  {
   "cell_type": "code",
   "execution_count": 13,
   "metadata": {},
   "outputs": [
    {
     "name": "stdout",
     "output_type": "stream",
     "text": [
      "[<Element div at 0x19e787203c8>]\n",
      "b'<div data-role=\"ershoufang\">     <div>         <a href=\"/ershoufang/pudong/\" title=\"&#19978;&#28023;&#28006;&#19996;&#22312;&#21806;&#20108;&#25163;&#25151; \">&#28006;&#19996;</a>         <a href=\"/ershoufang/minhang/\" title=\"&#19978;&#28023;&#38389;&#34892;&#22312;&#21806;&#20108;&#25163;&#25151; \">&#38389;&#34892;</a>         <a href=\"/ershoufang/baoshan/\" title=\"&#19978;&#28023;&#23453;&#23665;&#22312;&#21806;&#20108;&#25163;&#25151; \">&#23453;&#23665;</a>         <a href=\"/ershoufang/xuhui/\" title=\"&#19978;&#28023;&#24464;&#27719;&#22312;&#21806;&#20108;&#25163;&#25151; \">&#24464;&#27719;</a>     </div> </div>'\n"
     ]
    }
   ],
   "source": [
    "# //div[@data-role] - 选择所有带data-role属性的div节点\n",
    "nodes = root.xpath('//div[@data-role]')\n",
    "print(nodes)\n",
    "print(etree.tostring(nodes[0]))"
   ]
  },
  {
   "cell_type": "code",
   "execution_count": 14,
   "metadata": {},
   "outputs": [
    {
     "name": "stdout",
     "output_type": "stream",
     "text": [
      "[<Element div at 0x19e787203c8>]\n",
      "b'<div data-role=\"ershoufang\">     <div>         <a href=\"/ershoufang/pudong/\" title=\"&#19978;&#28023;&#28006;&#19996;&#22312;&#21806;&#20108;&#25163;&#25151; \">&#28006;&#19996;</a>         <a href=\"/ershoufang/minhang/\" title=\"&#19978;&#28023;&#38389;&#34892;&#22312;&#21806;&#20108;&#25163;&#25151; \">&#38389;&#34892;</a>         <a href=\"/ershoufang/baoshan/\" title=\"&#19978;&#28023;&#23453;&#23665;&#22312;&#21806;&#20108;&#25163;&#25151; \">&#23453;&#23665;</a>         <a href=\"/ershoufang/xuhui/\" title=\"&#19978;&#28023;&#24464;&#27719;&#22312;&#21806;&#20108;&#25163;&#25151; \">&#24464;&#27719;</a>     </div> </div>'\n"
     ]
    }
   ],
   "source": [
    "# //div[@data-role=\"ershoufang\"] - 选择所有data-role属性等于ershoufang的div节点\n",
    "nodes = root.xpath('//div[@data-role=\"ershoufang\"]')\n",
    "print(nodes)\n",
    "print(etree.tostring(nodes[0]))\n"
   ]
  },
  {
   "cell_type": "code",
   "execution_count": 15,
   "metadata": {},
   "outputs": [
    {
     "name": "stdout",
     "output_type": "stream",
     "text": [
      "[<Element a at 0x19e78720bc8>, <Element a at 0x19e78720b08>, <Element a at 0x19e78720b48>, <Element a at 0x19e78720308>]\n",
      "b'<a href=\"/ershoufang/pudong/\" title=\"&#x4E0A;&#x6D77;&#x6D66;&#x4E1C;&#x5728;&#x552E;&#x4E8C;&#x624B;&#x623F; \">&#28006;&#19996;</a>         '\n",
      "b'<a href=\"/ershoufang/minhang/\" title=\"&#x4E0A;&#x6D77;&#x95F5;&#x884C;&#x5728;&#x552E;&#x4E8C;&#x624B;&#x623F; \">&#38389;&#34892;</a>         '\n",
      "b'<a href=\"/ershoufang/baoshan/\" title=\"&#x4E0A;&#x6D77;&#x5B9D;&#x5C71;&#x5728;&#x552E;&#x4E8C;&#x624B;&#x623F; \">&#23453;&#23665;</a>         '\n",
      "b'<a href=\"/ershoufang/xuhui/\" title=\"&#x4E0A;&#x6D77;&#x5F90;&#x6C47;&#x5728;&#x552E;&#x4E8C;&#x624B;&#x623F; \">&#24464;&#27719;</a>     '\n"
     ]
    }
   ],
   "source": [
    "# //div[@data-role=\"ershoufang\"]//a - 选择所有data-role属性等于ershoufang的div节点的后代的a节点，不管它们在div之下的什么位置\n",
    "nodes = root.xpath('//div[@data-role=\"ershoufang\"]//a')\n",
    "print(nodes)\n",
    "for node in nodes:\n",
    "    print(etree.tostring(node))\n"
   ]
  },
  {
   "cell_type": "code",
   "execution_count": 16,
   "metadata": {},
   "outputs": [
    {
     "name": "stdout",
     "output_type": "stream",
     "text": [
      "[<Element a at 0x19e78720bc8>]\n",
      "b'<a href=\"/ershoufang/pudong/\" title=\"&#x4E0A;&#x6D77;&#x6D66;&#x4E1C;&#x5728;&#x552E;&#x4E8C;&#x624B;&#x623F; \">&#28006;&#19996;</a>         '\n"
     ]
    }
   ],
   "source": [
    "# //a[text()=\"浦东\"] - 选择所有文本是\"浦东\"的a节点，不管它们出现在什么位置\n",
    "nodes = root.xpath('//a[text()=\"浦东\"]')\n",
    "print(nodes)\n",
    "print(etree.tostring(nodes[0]))"
   ]
  },
  {
   "cell_type": "code",
   "execution_count": 17,
   "metadata": {},
   "outputs": [
    {
     "name": "stdout",
     "output_type": "stream",
     "text": [
      "[<Element a at 0x19e78720888>, <Element a at 0x19e7871c0c8>, <Element a at 0x19e7871c108>, <Element a at 0x19e7871c148>]\n",
      "b'<a href=\"/ershoufang/pudong/\" title=\"&#x4E0A;&#x6D77;&#x6D66;&#x4E1C;&#x5728;&#x552E;&#x4E8C;&#x624B;&#x623F; \">&#28006;&#19996;</a>         '\n",
      "b'<a href=\"/ershoufang/minhang/\" title=\"&#x4E0A;&#x6D77;&#x95F5;&#x884C;&#x5728;&#x552E;&#x4E8C;&#x624B;&#x623F; \">&#38389;&#34892;</a>         '\n",
      "b'<a href=\"/ershoufang/baoshan/\" title=\"&#x4E0A;&#x6D77;&#x5B9D;&#x5C71;&#x5728;&#x552E;&#x4E8C;&#x624B;&#x623F; \">&#23453;&#23665;</a>         '\n",
      "b'<a href=\"/ershoufang/xuhui/\" title=\"&#x4E0A;&#x6D77;&#x5F90;&#x6C47;&#x5728;&#x552E;&#x4E8C;&#x624B;&#x623F; \">&#24464;&#27719;</a>     '\n"
     ]
    }
   ],
   "source": [
    "# //div[contains(@class, \"ershoufang\")]//a - 选择所有class属性包含ershoufang的div节点的后代的a节点，不管它们在div之下的什么位置\n",
    "html = '<html><body> \\\n",
    "<div class=\"ershoufang lianjia\"> \\\n",
    "    <div> \\\n",
    "        <a href=\"/ershoufang/pudong/\" title=\"上海浦东在售二手房 \">浦东</a> \\\n",
    "        <a href=\"/ershoufang/minhang/\" title=\"上海闵行在售二手房 \">闵行</a> \\\n",
    "        <a href=\"/ershoufang/baoshan/\" title=\"上海宝山在售二手房 \">宝山</a> \\\n",
    "        <a href=\"/ershoufang/xuhui/\" title=\"上海徐汇在售二手房 \">徐汇</a> \\\n",
    "    </div> \\\n",
    "</div> \\\n",
    "</body></html> \\\n",
    "'\n",
    "root2 = etree.HTML(html)\n",
    "nodes = root2.xpath('//div[contains(@class, \"ershoufang\")]//a')\n",
    "print(nodes)\n",
    "for node in nodes:\n",
    "    print(etree.tostring(node))"
   ]
  },
  {
   "cell_type": "code",
   "execution_count": null,
   "metadata": {},
   "outputs": [],
   "source": []
  },
  {
   "cell_type": "code",
   "execution_count": 18,
   "metadata": {},
   "outputs": [
    {
     "name": "stdout",
     "output_type": "stream",
     "text": [
      "[<Element a at 0x19e78720b08>, <Element a at 0x19e787209c8>, <Element a at 0x19e78720ec8>, <Element a at 0x19e78720c48>]\n",
      "浦东\n",
      "闵行\n",
      "宝山\n",
      "徐汇\n"
     ]
    }
   ],
   "source": [
    "# 获取节点的文本内容也可以通过节点的text方法\n",
    "nodes = root.xpath('//div[@data-role=\"ershoufang\"]//a')\n",
    "print(nodes)\n",
    "for node in nodes:\n",
    "    print(node.text)\n"
   ]
  },
  {
   "cell_type": "markdown",
   "metadata": {},
   "source": [
    "# 实战项目 - 见PPT"
   ]
  },
  {
   "cell_type": "code",
   "execution_count": 19,
   "metadata": {},
   "outputs": [
    {
     "name": "stdout",
     "output_type": "stream",
     "text": [
      "[['浦东', 'https://sh.lianjia.com/ershoufang/pudong/'], ['闵行', 'https://sh.lianjia.com/ershoufang/minhang/'], ['宝山', 'https://sh.lianjia.com/ershoufang/baoshan/'], ['徐汇', 'https://sh.lianjia.com/ershoufang/xuhui/'], ['普陀', 'https://sh.lianjia.com/ershoufang/putuo/'], ['杨浦', 'https://sh.lianjia.com/ershoufang/yangpu/'], ['长宁', 'https://sh.lianjia.com/ershoufang/changning/'], ['松江', 'https://sh.lianjia.com/ershoufang/songjiang/'], ['嘉定', 'https://sh.lianjia.com/ershoufang/jiading/'], ['黄浦', 'https://sh.lianjia.com/ershoufang/huangpu/'], ['静安', 'https://sh.lianjia.com/ershoufang/jingan/'], ['虹口', 'https://sh.lianjia.com/ershoufang/hongkou/'], ['青浦', 'https://sh.lianjia.com/ershoufang/qingpu/'], ['奉贤', 'https://sh.lianjia.com/ershoufang/fengxian/'], ['金山', 'https://sh.lianjia.com/ershoufang/jinshan/'], ['崇明', 'https://sh.lianjia.com/ershoufang/chongming/'], ['上海周边', 'https://sh.lianjia.com/ershoufang/shanghaizhoubian/']]\n"
     ]
    }
   ],
   "source": [
    "# 实战项目答案\n",
    "import requests\n",
    "headers = {\n",
    "    \"User-Agent\": \"Mozilla/5.0 (Windows NT 10.0; Win64; x64) AppleWebKit/537.36 (KHTML, like Gecko) Chrome/78.0.3904.97 Safari/537.36\"}\n",
    "\n",
    "\n",
    "url = \"https://sh.lianjia.com/ershoufang\"\n",
    "r = requests.get(url, headers=headers)\n",
    "content = r.content.decode(\"utf-8\")\n",
    "root = etree.HTML(content)\n",
    "# 获取所有区所在的div\n",
    "div_nodes = root.xpath('//div[@data-role=\"ershoufang\"]')\n",
    "# div_nodes中只有一个元素，将这个元素拿出来存到div_node中\n",
    "div_node = div_nodes[0]\n",
    "# 获取div_node下所有的a节点\n",
    "a_nodes = div_node.xpath('./div/a')\n",
    "# result用来存放结果\n",
    "result = []\n",
    "for a_node in a_nodes:\n",
    "    # 获取区的名字\n",
    "    district_name = a_node.text\n",
    "    # 获取区的URL\n",
    "    district_url = \"https://sh.lianjia.com\" + a_node.attrib[\"href\"]\n",
    "    # 讲区的名字和区的URL添加到result中\n",
    "    result.append([district_name, district_url])\n",
    "\n",
    "print(result)"
   ]
  },
  {
   "cell_type": "code",
   "execution_count": null,
   "metadata": {},
   "outputs": [],
   "source": []
  }
 ],
 "metadata": {
  "kernelspec": {
   "display_name": "Python 3",
   "language": "python",
   "name": "python3"
  },
  "language_info": {
   "codemirror_mode": {
    "name": "ipython",
    "version": 3
   },
   "file_extension": ".py",
   "mimetype": "text/x-python",
   "name": "python",
   "nbconvert_exporter": "python",
   "pygments_lexer": "ipython3",
   "version": "3.7.4"
  }
 },
 "nbformat": 4,
 "nbformat_minor": 2
}
