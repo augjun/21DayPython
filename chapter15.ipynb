{
 "cells": [
  {
   "cell_type": "markdown",
   "metadata": {},
   "source": [
    "# 用requests库实现爬虫"
   ]
  },
  {
   "cell_type": "code",
   "execution_count": 1,
   "metadata": {},
   "outputs": [],
   "source": [
    "import requests"
   ]
  },
  {
   "cell_type": "code",
   "execution_count": 8,
   "metadata": {},
   "outputs": [
    {
     "name": "stdout",
     "output_type": "stream",
     "text": [
      "200\n",
      "b'<!DOCTYPE html>\\r\\n<!--STATUS OK--><html> <head><meta http-equiv=content-type content=text/html;charset=utf-8><meta http-equiv=X-UA-Compatible content=IE=Edge><meta content=always name=referrer><link rel=stylesheet type=text/css href=https://ss1.bdstatic.com/5eN1bjq8AAUYm2zgoY3K/r/www/cache/bdorz/baidu.min.css><title>\\xe7\\x99\\xbe\\xe5\\xba\\xa6\\xe4\\xb8\\x80\\xe4\\xb8\\x8b\\xef\\xbc\\x8c\\xe4\\xbd\\xa0\\xe5\\xb0\\xb1\\xe7\\x9f\\xa5\\xe9\\x81\\x93</title></head> <body link=#0000cc> <div id=wrapper> <div id=head> <div class=head_wrapper> <div class=s_form> <div class=s_form_wrapper> <div id=lg> <img hidefocus=true src=//www.baidu.com/img/bd_logo1.png width=270 height=129> </div> <form id=form name=f action=//www.baidu.com/s class=fm> <input type=hidden name=bdorz_come value=1> <input type=hidden name=ie value=utf-8> <input type=hidden name=f value=8> <input type=hidden name=rsv_bp value=1> <input type=hidden name=rsv_idx value=1> <input type=hidden name=tn value=baidu><span class=\"bg s_ipt_wr\"><input id=kw name=wd class=s_ipt value maxlength=255 autocomplete=off autofocus=autofocus></span><span class=\"bg s_btn_wr\"><input type=submit id=su value=\\xe7\\x99\\xbe\\xe5\\xba\\xa6\\xe4\\xb8\\x80\\xe4\\xb8\\x8b class=\"bg s_btn\" autofocus></span> </form> </div> </div> <div id=u1> <a href=http://news.baidu.com name=tj_trnews class=mnav>\\xe6\\x96\\xb0\\xe9\\x97\\xbb</a> <a href=https://www.hao123.com name=tj_trhao123 class=mnav>hao123</a> <a href=http://map.baidu.com name=tj_trmap class=mnav>\\xe5\\x9c\\xb0\\xe5\\x9b\\xbe</a> <a href=http://v.baidu.com name=tj_trvideo class=mnav>\\xe8\\xa7\\x86\\xe9\\xa2\\x91</a> <a href=http://tieba.baidu.com name=tj_trtieba class=mnav>\\xe8\\xb4\\xb4\\xe5\\x90\\xa7</a> <noscript> <a href=http://www.baidu.com/bdorz/login.gif?login&amp;tpl=mn&amp;u=http%3A%2F%2Fwww.baidu.com%2f%3fbdorz_come%3d1 name=tj_login class=lb>\\xe7\\x99\\xbb\\xe5\\xbd\\x95</a> </noscript> <script>document.write(\\'<a href=\"http://www.baidu.com/bdorz/login.gif?login&tpl=mn&u=\\'+ encodeURIComponent(window.location.href+ (window.location.search === \"\" ? \"?\" : \"&\")+ \"bdorz_come=1\")+ \\'\" name=\"tj_login\" class=\"lb\">\\xe7\\x99\\xbb\\xe5\\xbd\\x95</a>\\');\\r\\n                </script> <a href=//www.baidu.com/more/ name=tj_briicon class=bri style=\"display: block;\">\\xe6\\x9b\\xb4\\xe5\\xa4\\x9a\\xe4\\xba\\xa7\\xe5\\x93\\x81</a> </div> </div> </div> <div id=ftCon> <div id=ftConw> <p id=lh> <a href=http://home.baidu.com>\\xe5\\x85\\xb3\\xe4\\xba\\x8e\\xe7\\x99\\xbe\\xe5\\xba\\xa6</a> <a href=http://ir.baidu.com>About Baidu</a> </p> <p id=cp>&copy;2017&nbsp;Baidu&nbsp;<a href=http://www.baidu.com/duty/>\\xe4\\xbd\\xbf\\xe7\\x94\\xa8\\xe7\\x99\\xbe\\xe5\\xba\\xa6\\xe5\\x89\\x8d\\xe5\\xbf\\x85\\xe8\\xaf\\xbb</a>&nbsp; <a href=http://jianyi.baidu.com/ class=cp-feedback>\\xe6\\x84\\x8f\\xe8\\xa7\\x81\\xe5\\x8f\\x8d\\xe9\\xa6\\x88</a>&nbsp;\\xe4\\xba\\xacICP\\xe8\\xaf\\x81030173\\xe5\\x8f\\xb7&nbsp; <img src=//www.baidu.com/img/gs.gif> </p> </div> </div> </div> </body> </html>\\r\\n'\n",
      "{'Cache-Control': 'private, no-cache, no-store, proxy-revalidate, no-transform', 'Connection': 'keep-alive', 'Content-Encoding': 'gzip', 'Content-Type': 'text/html', 'Date': 'Sun, 02 Feb 2020 06:03:31 GMT', 'Last-Modified': 'Mon, 23 Jan 2017 13:23:55 GMT', 'Pragma': 'no-cache', 'Server': 'bfe/1.0.8.18', 'Set-Cookie': 'BDORZ=27315; max-age=86400; domain=.baidu.com; path=/', 'Transfer-Encoding': 'chunked'}\n"
     ]
    }
   ],
   "source": [
    "# 发送get请求\n",
    "r = requests.get(\"https://www.baidu.com\")\n",
    "\n",
    "# 获取响应状态码\n",
    "print(r.status_code)\n",
    "\n",
    "# 获取响应内容\n",
    "print(r.content)\n",
    "\n",
    "# 获取响应头\n",
    "print(r.headers)"
   ]
  },
  {
   "cell_type": "code",
   "execution_count": 9,
   "metadata": {},
   "outputs": [],
   "source": [
    "# 设置请求头User-Agent\n",
    "headers = {\n",
    "    \"User-Agent\": \"Mozilla/5.0 (Windows NT 10.0; Win64; x64) AppleWebKit/537.36 (KHTML, like Gecko) Chrome/79.0.3945.130 Safari/537.36\"\n",
    "}\n",
    "r = requests.get(\"https://www.baidu.com\", headers=headers)\n"
   ]
  },
  {
   "cell_type": "code",
   "execution_count": 11,
   "metadata": {},
   "outputs": [
    {
     "name": "stdout",
     "output_type": "stream",
     "text": [
      "<class 'bytes'>\n",
      "<class 'str'>\n"
     ]
    }
   ],
   "source": [
    "# 解码响应内容\n",
    "print(type(r.content))\n",
    "content = r.content.decode(\"utf-8\")\n",
    "print(type(content))"
   ]
  },
  {
   "cell_type": "markdown",
   "metadata": {},
   "source": [
    "# 练习三 - 见PPT"
   ]
  },
  {
   "cell_type": "code",
   "execution_count": 21,
   "metadata": {},
   "outputs": [
    {
     "name": "stdout",
     "output_type": "stream",
     "text": [
      "b'<!DOCTYPE html>\\n<html lang=\"zh-cmn-Hans\">\\n<head>\\n    <meta http-equiv=\"Content-Type\" content=\"text/html; charset=UTF-8\">\\n    <meta name=\"viewport\" content=\"width=device-width, initial-scale=1.0\">\\n    <meta http-equiv=\"X-UA-Compatible\" content=\"ie=edge\">\\n    <title>\\xe4\\xba\\xba\\xe6\\x9c\\xba\\xe8\\xae\\xa4\\xe8\\xaf\\x81</title>\\n    <link href=\"https://s1.ljcdn.com/security_goblin/bootstrap-grid.min.css\" rel=\"stylesheet\">\\n    <script src=\"https://s1.ljcdn.com/captcha-js-sdk/captcha.js\"></script>\\n    <script src=\"https://s1.ljcdn.com/security_goblin/axios.min.js\"></script>\\n</head>\\n\\n<body>\\n<div class=\"container\" style=\"border-bottom: 1px solid #000;\">\\n    <div class=\"row\">\\n        <h1>\\xe4\\xba\\xba\\xe6\\x9c\\xba\\xe8\\xae\\xa4\\xe8\\xaf\\x81</h1>\\n    </div>\\n\\n    <div class=\"row\">\\n        <div style=\"width: 100%;background: #3072f6;color: #fff;padding: 0 20px 20px;\">\\n            <h3>\\xe6\\x82\\xa8\\xe6\\x97\\xa0\\xe6\\xb3\\x95\\xe8\\xae\\xbf\\xe9\\x97\\xae\\xe6\\xad\\xa4\\xe7\\xbd\\x91\\xe7\\xab\\x99</h3>\\n            <p>\\xe7\\xbd\\x91\\xe7\\xab\\x99\\xe5\\xbc\\x80\\xe5\\x90\\xaf\\xe4\\xba\\x86\\xe5\\xae\\x89\\xe5\\x85\\xa8\\xe9\\x98\\xb2\\xe6\\x8a\\xa4\\xe7\\xad\\x96\\xe7\\x95\\xa5\\xef\\xbc\\x8c\\xe6\\xa3\\x80\\xe6\\xb5\\x8b\\xe5\\x88\\xb0\\xe6\\x82\\xa8\\xe6\\x9c\\x80\\xe8\\xbf\\x91\\xe7\\x9a\\x84\\xe6\\x93\\x8d\\xe4\\xbd\\x9c\\xe5\\xbc\\x82\\xe5\\xb8\\xb8</p>\\n            <p>\\xe4\\xb8\\xba\\xe4\\xbf\\x9d\\xe8\\xaf\\x81\\xe6\\x82\\xa8\\xe7\\x9a\\x84\\xe6\\xad\\xa3\\xe5\\xb8\\xb8\\xe8\\xae\\xbf\\xe9\\x97\\xae\\xef\\xbc\\x8c\\xe8\\xaf\\xb7\\xe8\\xbf\\x9b\\xe8\\xa1\\x8c\\xe4\\xba\\xba\\xe6\\x9c\\xba\\xe8\\xba\\xab\\xe4\\xbb\\xbd\\xe8\\xae\\xa4\\xe8\\xaf\\x81</p>\\n            <div id=\"captcha\"></div>\\n        </div>\\n    </div>\\n    <div id=\"display\">\\n    </div>\\n    <div class=\"row\">\\n        <div class=\"col-6\" style=\"padding-left: 0;\">\\n            <h2>\\xe9\\x97\\xae\\xe9\\xa2\\x98\\xe5\\x8f\\x8d\\xe9\\xa6\\x88</h2>\\n            <p>\\xe8\\xaf\\xb7\\xe5\\x8f\\x91\\xe9\\x82\\xae\\xe4\\xbb\\xb6\\xe7\\xbb\\x99\\xe6\\x88\\x91\\xe4\\xbb\\xac\\xef\\xbc\\x8c\\xe6\\x8f\\x8f\\xe8\\xbf\\xb0\\xe6\\x82\\xa8\\xe7\\x9a\\x84\\xe9\\x97\\xae\\xe9\\xa2\\x98\\xef\\xbc\\x8c\\xe9\\x82\\xae\\xe4\\xbb\\xb6\\xe9\\x9c\\x80\\xe8\\xa6\\x81\\xe5\\x8c\\x85\\xe5\\x90\\xab\\xe6\\x82\\xa8\\xe5\\xbd\\x93\\xe5\\x89\\x8d\\xe7\\x9a\\x84\\xe6\\x93\\x8d\\xe4\\xbd\\x9c\\xe5\\x92\\x8c\\xe6\\x95\\xb0\\xe6\\x8d\\xae</p>\\n        </div>\\n        <div class=\"col-6\" style=\"padding-left: 0;\">\\n            <h2>\\xe8\\x81\\x94\\xe7\\xb3\\xbb\\xe6\\x88\\x91\\xe4\\xbb\\xac</h2>\\n            <p>\\xe9\\x82\\xae\\xe7\\xae\\xb1\\xef\\xbc\\x9asec_tech@ke.com</p>\\n        </div>\\n    </div>\\n</div>\\n</body>\\n\\n<script>\\n    function get_cookie(key) {\\n        var start = 0;\\n        if (document.cookie && document.cookie != \"\") {\\n            start = document.cookie.indexOf(key + \"=\")\\n            if (start != -1) {\\n                start = start + key.length + 1;\\n                var end = document.cookie.indexOf(\";\", start);\\n                if (end == -1) {\\n                    end = document.cookie.length;\\n                }\\n                return unescape(document.cookie.substring(start, end));\\n            }\\n        }\\n        return \"\";\\n    }\\n\\n    function interpolate(theString, argumentArray) {\\n        var regex = /%s/;\\n        var _r = function (p, c) {\\n            return p.replace(regex, c);\\n        };\\n        return argumentArray.reduce(_r, theString);\\n    }\\n\\n    window.onload = function () {\\n        var ip = get_cookie(\"User-Realip\");\\n        var uuid = get_cookie(\"lianjia_uuid\");\\n        var time = new Date().toISOString();\\n        var url = window.location.href;\\n\\n        var template = \\'<div class=\"row\"><span style=\"width: 50px;\">%s</span><span>%s</span></div>\\';\\n        var d = document.getElementById(\\'display\\');\\n\\n        var str = \\'\\';\\n        if (ip != \\'\\') {\\n            str += interpolate(template, [\\'IP\\', ip]);\\n        }\\n        if (uuid != \\'\\') {\\n            str += interpolate(template, [\\'UUID\\', uuid]);\\n        }\\n        str += interpolate(template, [\\'Time\\', time]);\\n        str += interpolate(template, [\\'URL\\', url]);\\n        console.log(str);\\n        d.innerHTML = str;\\n    };\\n</script>\\n<script src=\"https://s1.ljcdn.com/security_goblin/captchaV2.js\"></script>\\n\\n</html>\\n'\n"
     ]
    }
   ],
   "source": [
    "r = requests.get(\"https://sh.lianjia.com/\", headers=headers)\n",
    "print(r.content)"
   ]
  },
  {
   "cell_type": "code",
   "execution_count": null,
   "metadata": {},
   "outputs": [],
   "source": []
  }
 ],
 "metadata": {
  "kernelspec": {
   "display_name": "Python 3",
   "language": "python",
   "name": "python3"
  },
  "language_info": {
   "codemirror_mode": {
    "name": "ipython",
    "version": 3
   },
   "file_extension": ".py",
   "mimetype": "text/x-python",
   "name": "python",
   "nbconvert_exporter": "python",
   "pygments_lexer": "ipython3",
   "version": "3.7.5"
  }
 },
 "nbformat": 4,
 "nbformat_minor": 2
}
