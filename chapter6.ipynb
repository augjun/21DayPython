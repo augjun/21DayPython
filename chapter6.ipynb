{
 "cells": [
  {
   "cell_type": "markdown",
   "metadata": {},
   "source": [
    "# os库 - 操作系统接口"
   ]
  },
  {
   "cell_type": "code",
   "execution_count": 2,
   "metadata": {},
   "outputs": [
    {
     "data": {
      "text/plain": [
       "'/Users/shenzhongqiang/21DayPython'"
      ]
     },
     "execution_count": 2,
     "metadata": {},
     "output_type": "execute_result"
    }
   ],
   "source": [
    "# 获取当前的工作目录\n",
    "import os\n",
    "os.getcwd()"
   ]
  },
  {
   "cell_type": "code",
   "execution_count": 4,
   "metadata": {},
   "outputs": [
    {
     "data": {
      "text/plain": [
       "environ{'TERM_PROGRAM': 'iTerm.app',\n",
       "        'TERM': 'xterm-color',\n",
       "        'SHELL': '/bin/bash',\n",
       "        'TMPDIR': '/var/folders/mg/6nmjk6vx37z7y6yww9hr0swm0000gn/T/',\n",
       "        'CONDA_SHLVL': '1',\n",
       "        'Apple_PubSub_Socket_Render': '/private/tmp/com.apple.launchd.QNpFYG4jmB/Render',\n",
       "        'CONDA_PROMPT_MODIFIER': '(base) ',\n",
       "        'TERM_PROGRAM_VERSION': '3.3.3',\n",
       "        'OLDPWD': '/Users/shenzhongqiang/21DayPython',\n",
       "        'TERM_SESSION_ID': 'w0t0p0:407BBE8E-F393-43D0-8819-B892F1454CF7',\n",
       "        'USER': 'shenzhongqiang',\n",
       "        'CONDA_EXE': '/Users/shenzhongqiang/anaconda3/bin/conda',\n",
       "        'SSH_AUTH_SOCK': '/private/tmp/com.apple.launchd.K7jvKhxQDg/Listeners',\n",
       "        'HOMEBREW_NO_AUTO_UPDATE': '1',\n",
       "        '__CF_USER_TEXT_ENCODING': '0x0:25:52',\n",
       "        '_CE_CONDA': '',\n",
       "        'PATH': '/Users/shenzhongqiang/anaconda3/bin:/Users/shenzhongqiang/anaconda3/condabin:/Library/Frameworks/Python.framework/Versions/3.8/bin:/Library/Frameworks/Python.framework/Versions/3.6/bin:/usr/local/bin:/usr/bin:/bin:/usr/sbin:/sbin:/Library/Frameworks/Mono.framework/Versions/Current/Commands:/Users/shenzhongqiang/go-workspace/bin:/usr/local/opt/go/libexec/bin',\n",
       "        'CONDA_PREFIX': '/Users/shenzhongqiang/anaconda3',\n",
       "        'PWD': '/Users/shenzhongqiang',\n",
       "        'LANG': 'en_US.UTF-8',\n",
       "        'ITERM_PROFILE': 'Default',\n",
       "        'XPC_FLAGS': '0x0',\n",
       "        '_CE_M': '',\n",
       "        'XPC_SERVICE_NAME': '0',\n",
       "        'SHLVL': '1',\n",
       "        'HOME': '/Users/shenzhongqiang',\n",
       "        'COLORFGBG': '7;0',\n",
       "        'GOROOT': '/usr/local/opt/go/libexec',\n",
       "        'LC_TERMINAL_VERSION': '3.3.3',\n",
       "        'ITERM_SESSION_ID': 'w0t0p0:407BBE8E-F393-43D0-8819-B892F1454CF7',\n",
       "        'CONDA_PYTHON_EXE': '/Users/shenzhongqiang/anaconda3/bin/python',\n",
       "        'LOGNAME': 'shenzhongqiang',\n",
       "        'GOPATH': '/Users/shenzhongqiang/go-workspace',\n",
       "        'CONDA_DEFAULT_ENV': 'base',\n",
       "        'LC_TERMINAL': 'iTerm2',\n",
       "        'COLORTERM': 'truecolor',\n",
       "        '_': '/Users/shenzhongqiang/anaconda3/bin/jupyter',\n",
       "        'KERNEL_LAUNCH_TIMEOUT': '40',\n",
       "        'JPY_PARENT_PID': '66108',\n",
       "        'CLICOLOR': '1',\n",
       "        'PAGER': 'cat',\n",
       "        'GIT_PAGER': 'cat',\n",
       "        'MPLBACKEND': 'module://ipykernel.pylab.backend_inline'}"
      ]
     },
     "execution_count": 4,
     "metadata": {},
     "output_type": "execute_result"
    }
   ],
   "source": [
    "# 获取环境变量\n",
    "os.environ"
   ]
  },
  {
   "cell_type": "code",
   "execution_count": null,
   "metadata": {},
   "outputs": [],
   "source": []
  },
  {
   "cell_type": "markdown",
   "metadata": {},
   "source": [
    "# os.path库 - 常用路径操作"
   ]
  },
  {
   "cell_type": "code",
   "execution_count": 7,
   "metadata": {},
   "outputs": [
    {
     "data": {
      "text/plain": [
       "'C:\\\\Windows\\\\System32'"
      ]
     },
     "execution_count": 7,
     "metadata": {},
     "output_type": "execute_result"
    }
   ],
   "source": [
    "# 返回路径的基本名称\n",
    "# linux/mac\n",
    "os.path.basename(\"/usr/bin/python\")\n",
    "# windows\n",
    "os.path.basename(\"C:\\Windows\\System32\")"
   ]
  },
  {
   "cell_type": "code",
   "execution_count": 5,
   "metadata": {},
   "outputs": [
    {
     "data": {
      "text/plain": [
       "''"
      ]
     },
     "execution_count": 5,
     "metadata": {},
     "output_type": "execute_result"
    }
   ],
   "source": [
    "# 返回路径的目录名称\n",
    "# linux/mac\n",
    "os.path.dirname(\"/usr/bin/python\")\n",
    "# windows\n",
    "os.path.dirname(\"C:\\Windows\\System32\")"
   ]
  },
  {
   "cell_type": "code",
   "execution_count": 6,
   "metadata": {},
   "outputs": [
    {
     "data": {
      "text/plain": [
       "False"
      ]
     },
     "execution_count": 6,
     "metadata": {},
     "output_type": "execute_result"
    }
   ],
   "source": [
    "# 检查文件是否存在\n",
    "# linux/mac\n",
    "os.path.exists(\"/usr/bin/python\")\n",
    "# windows\n",
    "os.path.exists(\"C:\\Windows\\System32\")"
   ]
  },
  {
   "cell_type": "code",
   "execution_count": 7,
   "metadata": {},
   "outputs": [
    {
     "data": {
      "text/plain": [
       "False"
      ]
     },
     "execution_count": 7,
     "metadata": {},
     "output_type": "execute_result"
    }
   ],
   "source": [
    "# 检查路径是否是文件\n",
    "# linux/mac\n",
    "os.path.isfile(\"/usr/bin/python\")\n",
    "# windows\n",
    "os.path.isfile(\"C:\\Windows\\System32\")"
   ]
  },
  {
   "cell_type": "code",
   "execution_count": 8,
   "metadata": {},
   "outputs": [
    {
     "data": {
      "text/plain": [
       "False"
      ]
     },
     "execution_count": 8,
     "metadata": {},
     "output_type": "execute_result"
    }
   ],
   "source": [
    "# 检查路径是否是目录\n",
    "# linux/mac\n",
    "os.path.isdir(\"/usr/bin/python\")\n",
    "# windows\n",
    "os.path.isdir(\"C:\\Windows\\System32\")"
   ]
  },
  {
   "cell_type": "code",
   "execution_count": 9,
   "metadata": {},
   "outputs": [
    {
     "data": {
      "text/plain": [
       "'C:\\\\Windows/System32'"
      ]
     },
     "execution_count": 9,
     "metadata": {},
     "output_type": "execute_result"
    }
   ],
   "source": [
    "# 合并路径\n",
    "# linux/mac\n",
    "os.path.join(\"/usr\", \"bin\", \"python\")\n",
    "# windows\n",
    "os.path.join(\"C:\\Windows\", \"System32\")"
   ]
  },
  {
   "cell_type": "markdown",
   "metadata": {},
   "source": [
    "# math - 数学函数"
   ]
  },
  {
   "cell_type": "code",
   "execution_count": 10,
   "metadata": {},
   "outputs": [
    {
     "data": {
      "text/plain": [
       "3.141592653589793"
      ]
     },
     "execution_count": 10,
     "metadata": {},
     "output_type": "execute_result"
    }
   ],
   "source": [
    "import math\n",
    "math.pi"
   ]
  },
  {
   "cell_type": "code",
   "execution_count": 11,
   "metadata": {},
   "outputs": [
    {
     "data": {
      "text/plain": [
       "6.123233995736766e-17"
      ]
     },
     "execution_count": 11,
     "metadata": {},
     "output_type": "execute_result"
    }
   ],
   "source": [
    "# 计算cosine\n",
    "math.cos(math.pi/2)   "
   ]
  },
  {
   "cell_type": "code",
   "execution_count": 12,
   "metadata": {},
   "outputs": [
    {
     "data": {
      "text/plain": [
       "10.0"
      ]
     },
     "execution_count": 12,
     "metadata": {},
     "output_type": "execute_result"
    }
   ],
   "source": [
    "# 计算对数\n",
    "math.log(1024, 2)"
   ]
  },
  {
   "cell_type": "code",
   "execution_count": 13,
   "metadata": {},
   "outputs": [
    {
     "data": {
      "text/plain": [
       "3"
      ]
     },
     "execution_count": 13,
     "metadata": {},
     "output_type": "execute_result"
    }
   ],
   "source": [
    "# 向下取整\n",
    "math.floor(3.1)"
   ]
  },
  {
   "cell_type": "code",
   "execution_count": 14,
   "metadata": {},
   "outputs": [
    {
     "data": {
      "text/plain": [
       "4"
      ]
     },
     "execution_count": 14,
     "metadata": {},
     "output_type": "execute_result"
    }
   ],
   "source": [
    "# 向上取整\n",
    "math.ceil(3.1)"
   ]
  },
  {
   "cell_type": "code",
   "execution_count": 15,
   "metadata": {},
   "outputs": [
    {
     "data": {
      "text/plain": [
       "1024.0"
      ]
     },
     "execution_count": 15,
     "metadata": {},
     "output_type": "execute_result"
    }
   ],
   "source": [
    "# 指数运算\n",
    "math.pow(2, 10)"
   ]
  },
  {
   "cell_type": "code",
   "execution_count": 16,
   "metadata": {},
   "outputs": [
    {
     "data": {
      "text/plain": [
       "1.4142135623730951"
      ]
     },
     "execution_count": 16,
     "metadata": {},
     "output_type": "execute_result"
    }
   ],
   "source": [
    "# 平方根\n",
    "math.sqrt(2)"
   ]
  },
  {
   "cell_type": "markdown",
   "metadata": {},
   "source": [
    "# 练习一 - 见PPT"
   ]
  },
  {
   "cell_type": "code",
   "execution_count": 8,
   "metadata": {},
   "outputs": [
    {
     "data": {
      "text/plain": [
       "78.53981633974483"
      ]
     },
     "execution_count": 8,
     "metadata": {},
     "output_type": "execute_result"
    }
   ],
   "source": [
    "# 练习一答案\n",
    "import math\n",
    "def circle_area(radius):\n",
    "    return math.pi * radius * radius\n",
    "\n",
    "circle_area(5)\n"
   ]
  },
  {
   "cell_type": "markdown",
   "metadata": {},
   "source": [
    "# random库 - 生成随机数"
   ]
  },
  {
   "cell_type": "code",
   "execution_count": 11,
   "metadata": {},
   "outputs": [
    {
     "data": {
      "text/plain": [
       "'pear'"
      ]
     },
     "execution_count": 11,
     "metadata": {},
     "output_type": "execute_result"
    }
   ],
   "source": [
    "import random\n",
    "# 从非空序列返回一个随机元素\n",
    "random.choice(['apple', 'pear', 'banana'])"
   ]
  },
  {
   "cell_type": "code",
   "execution_count": 12,
   "metadata": {},
   "outputs": [
    {
     "data": {
      "text/plain": [
       "[2, 0, 6, 4, 5]"
      ]
     },
     "execution_count": 12,
     "metadata": {},
     "output_type": "execute_result"
    }
   ],
   "source": [
    "# 无重复的随机抽样\n",
    "# 第一参数指定序列，第二个参数指定长度\n",
    "random.sample(range(10), 5)"
   ]
  },
  {
   "cell_type": "code",
   "execution_count": 14,
   "metadata": {},
   "outputs": [
    {
     "data": {
      "text/plain": [
       "0.21444036334842242"
      ]
     },
     "execution_count": 14,
     "metadata": {},
     "output_type": "execute_result"
    }
   ],
   "source": [
    "# 返回 [0.0, 1.0) 范围内的随机浮点数\n",
    "random.random()"
   ]
  },
  {
   "cell_type": "code",
   "execution_count": 15,
   "metadata": {},
   "outputs": [
    {
     "name": "stdout",
     "output_type": "stream",
     "text": [
      "[1, 4, 2, 6, 9, 3, 5, 8, 7, 0]\n"
     ]
    }
   ],
   "source": [
    "# 将序列随机打乱位置。\n",
    "x = list(range(10))\n",
    "random.shuffle(x)\n",
    "print(x)"
   ]
  },
  {
   "cell_type": "code",
   "execution_count": 17,
   "metadata": {},
   "outputs": [
    {
     "data": {
      "text/plain": [
       "7"
      ]
     },
     "execution_count": 17,
     "metadata": {},
     "output_type": "execute_result"
    }
   ],
   "source": [
    "# 返回随机整数\n",
    "random.randint(1, 10)"
   ]
  },
  {
   "cell_type": "markdown",
   "metadata": {},
   "source": [
    "# 练习二 - 见PPT"
   ]
  },
  {
   "cell_type": "code",
   "execution_count": 18,
   "metadata": {},
   "outputs": [
    {
     "data": {
      "text/plain": [
       "['heart J', 'spade 7', 'heart A', 'spade 4']"
      ]
     },
     "execution_count": 18,
     "metadata": {},
     "output_type": "execute_result"
    }
   ],
   "source": [
    "# 练习二答案\n",
    "import random\n",
    "numbers = list(range(1, 11))\n",
    "faces = [str(x) for x in numbers]\n",
    "faces += ['J', 'Q', 'K', 'A']\n",
    "suits = ['spade', 'heart', 'club', 'diamond']\n",
    "cards = []\n",
    "for suit in suits:\n",
    "    for face in faces:\n",
    "        card = \"{} {}\".format(suit, face)\n",
    "        cards.append(card)\n",
    "random.sample(cards, 4)\n"
   ]
  },
  {
   "cell_type": "markdown",
   "metadata": {},
   "source": [
    "# time库 - 时间的访问和转换"
   ]
  },
  {
   "cell_type": "code",
   "execution_count": 22,
   "metadata": {},
   "outputs": [],
   "source": [
    "import time\n",
    "# 睡10秒\n",
    "time.sleep(10)"
   ]
  },
  {
   "cell_type": "code",
   "execution_count": 23,
   "metadata": {},
   "outputs": [
    {
     "data": {
      "text/plain": [
       "1581413181.673503"
      ]
     },
     "execution_count": 23,
     "metadata": {},
     "output_type": "execute_result"
    }
   ],
   "source": [
    "# 返回 seconds since the epoch \n",
    "# 什么是epoch？ epoch是1970年1月1日00:00:00（UTC）\n",
    "time.time()"
   ]
  },
  {
   "cell_type": "code",
   "execution_count": null,
   "metadata": {},
   "outputs": [],
   "source": []
  },
  {
   "cell_type": "markdown",
   "metadata": {},
   "source": [
    "# datetime库 - 日期和时间处理"
   ]
  },
  {
   "cell_type": "code",
   "execution_count": 29,
   "metadata": {},
   "outputs": [
    {
     "name": "stdout",
     "output_type": "stream",
     "text": [
      "2020-01-01\n",
      "2020-02-11\n",
      "1\n"
     ]
    }
   ],
   "source": [
    "import datetime\n",
    "# date类 - 表示日期\n",
    "# 创建date对象\n",
    "d = datetime.date(year=2020, month=1, day=1)\n",
    "print(d)\n",
    "# 获取今天的日期\n",
    "d = datetime.date.today()\n",
    "print(d)\n",
    "# 获取星期几，星期一为0，星期天为6\n",
    "print(d.weekday())"
   ]
  },
  {
   "cell_type": "code",
   "execution_count": 26,
   "metadata": {},
   "outputs": [
    {
     "name": "stdout",
     "output_type": "stream",
     "text": [
      "2020-01-01 09:00:00\n"
     ]
    }
   ],
   "source": [
    "# datetime类\n",
    "# 创建datetime对象\n",
    "dt = datetime.datetime(year=2020, month=1, day=1, hour=9, minute=0, second=0)\n",
    "print(dt)"
   ]
  },
  {
   "cell_type": "code",
   "execution_count": 30,
   "metadata": {},
   "outputs": [
    {
     "name": "stdout",
     "output_type": "stream",
     "text": [
      "2020-02-11 17:49:31.392154\n"
     ]
    }
   ],
   "source": [
    "# 获取当前时间\n",
    "dt = datetime.datetime.now()\n",
    "print(dt)"
   ]
  },
  {
   "cell_type": "code",
   "execution_count": 27,
   "metadata": {},
   "outputs": [
    {
     "name": "stdout",
     "output_type": "stream",
     "text": [
      "5 days, 0:00:00\n"
     ]
    }
   ],
   "source": [
    "# timedelta类 - 表示时间间隔\n",
    "# 创建timedelta对象\n",
    "delta = datetime.timedelta(days=5)\n",
    "print(delta)"
   ]
  },
  {
   "cell_type": "code",
   "execution_count": 31,
   "metadata": {},
   "outputs": [
    {
     "data": {
      "text/plain": [
       "datetime.datetime(2020, 2, 4, 17, 53, 31, 777588)"
      ]
     },
     "execution_count": 31,
     "metadata": {},
     "output_type": "execute_result"
    }
   ],
   "source": [
    "# 时间运算\n",
    "# 计算7天前的时间\n",
    "today = datetime.datetime.now()\n",
    "today - datetime.timedelta(days=7)"
   ]
  },
  {
   "cell_type": "code",
   "execution_count": 32,
   "metadata": {},
   "outputs": [
    {
     "data": {
      "text/plain": [
       "datetime.timedelta(days=41)"
      ]
     },
     "execution_count": 32,
     "metadata": {},
     "output_type": "execute_result"
    }
   ],
   "source": [
    "# 计算两个日期间隔了多少时间\n",
    "today = datetime.date.today()\n",
    "new_year_day = datetime.date(year=2020, month=1, day=1)\n",
    "today-new_year_day"
   ]
  },
  {
   "cell_type": "code",
   "execution_count": 33,
   "metadata": {},
   "outputs": [
    {
     "data": {
      "text/plain": [
       "'2020-02-11 17:56:13'"
      ]
     },
     "execution_count": 33,
     "metadata": {},
     "output_type": "execute_result"
    }
   ],
   "source": [
    "# 格式化时间\n",
    "today = datetime.datetime.now()\n",
    "today.strftime(\"%Y-%m-%d %H:%M:%S\")"
   ]
  },
  {
   "cell_type": "code",
   "execution_count": 31,
   "metadata": {},
   "outputs": [
    {
     "name": "stdout",
     "output_type": "stream",
     "text": [
      "<class 'datetime.datetime'>\n",
      "2020-01-01 09:00:00\n"
     ]
    }
   ],
   "source": [
    "# 解析时间字符串\n",
    "date_string = \"2020-01-01 09:00:00\"\n",
    "dt = datetime.datetime.strptime(date_string, \"%Y-%m-%d %H:%M:%S\")\n",
    "print(type(dt))\n",
    "print(dt)"
   ]
  },
  {
   "cell_type": "code",
   "execution_count": 32,
   "metadata": {},
   "outputs": [],
   "source": [
    "# 所有日期和时间的格式代码，可参考\n",
    "# https://docs.python.org/zh-cn/3/library/datetime.html#strftime-and-strptime-format-codes"
   ]
  },
  {
   "cell_type": "markdown",
   "metadata": {},
   "source": [
    "# 练习三 - 见PPT"
   ]
  },
  {
   "cell_type": "code",
   "execution_count": 34,
   "metadata": {},
   "outputs": [
    {
     "name": "stdout",
     "output_type": "stream",
     "text": [
      "2020-01-04\n",
      "2020-01-05\n",
      "2020-01-11\n",
      "2020-01-12\n",
      "2020-01-18\n",
      "2020-01-19\n",
      "2020-01-25\n",
      "2020-01-26\n",
      "2020-02-01\n",
      "2020-02-02\n",
      "2020-02-08\n",
      "2020-02-09\n",
      "2020-02-15\n",
      "2020-02-16\n",
      "2020-02-22\n",
      "2020-02-23\n",
      "2020-02-29\n",
      "2020-03-01\n",
      "2020-03-07\n",
      "2020-03-08\n",
      "2020-03-14\n",
      "2020-03-15\n",
      "2020-03-21\n",
      "2020-03-22\n",
      "2020-03-28\n",
      "2020-03-29\n",
      "2020-04-04\n",
      "2020-04-05\n",
      "2020-04-11\n",
      "2020-04-12\n",
      "2020-04-18\n",
      "2020-04-19\n",
      "2020-04-25\n",
      "2020-04-26\n",
      "2020-05-02\n",
      "2020-05-03\n",
      "2020-05-09\n",
      "2020-05-10\n",
      "2020-05-16\n",
      "2020-05-17\n",
      "2020-05-23\n",
      "2020-05-24\n",
      "2020-05-30\n",
      "2020-05-31\n",
      "2020-06-06\n",
      "2020-06-07\n",
      "2020-06-13\n",
      "2020-06-14\n",
      "2020-06-20\n",
      "2020-06-21\n",
      "2020-06-27\n",
      "2020-06-28\n",
      "2020-07-04\n",
      "2020-07-05\n",
      "2020-07-11\n",
      "2020-07-12\n",
      "2020-07-18\n",
      "2020-07-19\n",
      "2020-07-25\n",
      "2020-07-26\n",
      "2020-08-01\n",
      "2020-08-02\n",
      "2020-08-08\n",
      "2020-08-09\n",
      "2020-08-15\n",
      "2020-08-16\n",
      "2020-08-22\n",
      "2020-08-23\n",
      "2020-08-29\n",
      "2020-08-30\n",
      "2020-09-05\n",
      "2020-09-06\n",
      "2020-09-12\n",
      "2020-09-13\n",
      "2020-09-19\n",
      "2020-09-20\n",
      "2020-09-26\n",
      "2020-09-27\n",
      "2020-10-03\n",
      "2020-10-04\n",
      "2020-10-10\n",
      "2020-10-11\n",
      "2020-10-17\n",
      "2020-10-18\n",
      "2020-10-24\n",
      "2020-10-25\n",
      "2020-10-31\n",
      "2020-11-01\n",
      "2020-11-07\n",
      "2020-11-08\n",
      "2020-11-14\n",
      "2020-11-15\n",
      "2020-11-21\n",
      "2020-11-22\n",
      "2020-11-28\n",
      "2020-11-29\n",
      "2020-12-05\n",
      "2020-12-06\n",
      "2020-12-12\n",
      "2020-12-13\n",
      "2020-12-19\n",
      "2020-12-20\n",
      "2020-12-26\n",
      "2020-12-27\n"
     ]
    }
   ],
   "source": [
    "# 练习三答案\n",
    "import datetime\n",
    "date = datetime.date(year=2020, month=1, day=1)\n",
    "while date.year == 2020:\n",
    "    if date.weekday() == 5 or date.weekday() == 6:\n",
    "        date_string = date.strftime(\"%Y-%m-%d\")\n",
    "        print(date_string)\n",
    "    date = date + datetime.timedelta(days=1)\n"
   ]
  },
  {
   "cell_type": "markdown",
   "metadata": {},
   "source": [
    "# 练习四 - 见PPT"
   ]
  },
  {
   "cell_type": "code",
   "execution_count": 36,
   "metadata": {},
   "outputs": [
    {
     "name": "stdout",
     "output_type": "stream",
     "text": [
      "Please input a date: 2020-01-24\n",
      "5\n"
     ]
    }
   ],
   "source": [
    "# 练习四答案\n",
    "import datetime\n",
    "date_string = input(\"Please input a date: \")\n",
    "dt = datetime.datetime.strptime(date_string, \"%Y-%m-%d\")\n",
    "day = dt.weekday() + 1\n",
    "print(day)\n"
   ]
  },
  {
   "cell_type": "code",
   "execution_count": null,
   "metadata": {},
   "outputs": [],
   "source": []
  }
 ],
 "metadata": {
  "kernelspec": {
   "display_name": "Python 3",
   "language": "python",
   "name": "python3"
  },
  "language_info": {
   "codemirror_mode": {
    "name": "ipython",
    "version": 3
   },
   "file_extension": ".py",
   "mimetype": "text/x-python",
   "name": "python",
   "nbconvert_exporter": "python",
   "pygments_lexer": "ipython3",
   "version": "3.7.6"
  }
 },
 "nbformat": 4,
 "nbformat_minor": 2
}
