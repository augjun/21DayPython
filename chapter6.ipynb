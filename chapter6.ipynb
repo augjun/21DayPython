{
 "cells": [
  {
   "cell_type": "markdown",
   "metadata": {},
   "source": [
    "# os库 - 操作系统接口"
   ]
  },
  {
   "cell_type": "code",
   "execution_count": 1,
   "metadata": {},
   "outputs": [
    {
     "data": {
      "text/plain": [
       "'/root/21DayPython'"
      ]
     },
     "execution_count": 1,
     "metadata": {},
     "output_type": "execute_result"
    }
   ],
   "source": [
    "# 获取当前的工作目录\n",
    "import os\n",
    "os.getcwd()"
   ]
  },
  {
   "cell_type": "code",
   "execution_count": 2,
   "metadata": {},
   "outputs": [
    {
     "data": {
      "text/plain": [
       "environ({'LS_COLORS': 'rs=0:di=01;34:ln=01;36:mh=00:pi=40;33:so=01;35:do=01;35:bd=40;33;01:cd=40;33;01:or=40;31;01:mi=00:su=37;41:sg=30;43:ca=30;41:tw=30;42:ow=34;42:st=37;44:ex=01;32:*.tar=01;31:*.tgz=01;31:*.arc=01;31:*.arj=01;31:*.taz=01;31:*.lha=01;31:*.lz4=01;31:*.lzh=01;31:*.lzma=01;31:*.tlz=01;31:*.txz=01;31:*.tzo=01;31:*.t7z=01;31:*.zip=01;31:*.z=01;31:*.Z=01;31:*.dz=01;31:*.gz=01;31:*.lrz=01;31:*.lz=01;31:*.lzo=01;31:*.xz=01;31:*.zst=01;31:*.tzst=01;31:*.bz2=01;31:*.bz=01;31:*.tbz=01;31:*.tbz2=01;31:*.tz=01;31:*.deb=01;31:*.rpm=01;31:*.jar=01;31:*.war=01;31:*.ear=01;31:*.sar=01;31:*.rar=01;31:*.alz=01;31:*.ace=01;31:*.zoo=01;31:*.cpio=01;31:*.7z=01;31:*.rz=01;31:*.cab=01;31:*.wim=01;31:*.swm=01;31:*.dwm=01;31:*.esd=01;31:*.jpg=01;35:*.jpeg=01;35:*.mjpg=01;35:*.mjpeg=01;35:*.gif=01;35:*.bmp=01;35:*.pbm=01;35:*.pgm=01;35:*.ppm=01;35:*.tga=01;35:*.xbm=01;35:*.xpm=01;35:*.tif=01;35:*.tiff=01;35:*.png=01;35:*.svg=01;35:*.svgz=01;35:*.mng=01;35:*.pcx=01;35:*.mov=01;35:*.mpg=01;35:*.mpeg=01;35:*.m2v=01;35:*.mkv=01;35:*.webm=01;35:*.ogm=01;35:*.mp4=01;35:*.m4v=01;35:*.mp4v=01;35:*.vob=01;35:*.qt=01;35:*.nuv=01;35:*.wmv=01;35:*.asf=01;35:*.rm=01;35:*.rmvb=01;35:*.flc=01;35:*.avi=01;35:*.fli=01;35:*.flv=01;35:*.gl=01;35:*.dl=01;35:*.xcf=01;35:*.xwd=01;35:*.yuv=01;35:*.cgm=01;35:*.emf=01;35:*.ogv=01;35:*.ogx=01;35:*.aac=00;36:*.au=00;36:*.flac=00;36:*.m4a=00;36:*.mid=00;36:*.midi=00;36:*.mka=00;36:*.mp3=00;36:*.mpc=00;36:*.ogg=00;36:*.ra=00;36:*.wav=00;36:*.oga=00;36:*.opus=00;36:*.spx=00;36:*.xspf=00;36:', 'LESSCLOSE': '/usr/bin/lesspipe %s %s', 'LANG': 'en_US.UTF-8', 'SUDO_GID': '1000', 'USERNAME': 'root', 'SUDO_COMMAND': '/bin/bash', 'USER': 'root', 'PWD': '/root/21DayPython', 'HOME': '/home/shenzhongqiang', 'SUDO_USER': 'shenzhongqiang', 'SUDO_UID': '1000', 'MAIL': '/var/mail/root', 'TERM': 'xterm-color', 'SHELL': '/bin/bash', 'SHLVL': '1', 'LOGNAME': 'root', 'PATH': '/usr/local/sbin:/usr/local/bin:/usr/sbin:/usr/bin:/sbin:/bin:/snap/bin', 'LESSOPEN': '| /usr/bin/lesspipe %s', 'OLDPWD': '/root', '_': '/usr/local/bin/jupyter', 'KERNEL_LAUNCH_TIMEOUT': '40', 'JPY_PARENT_PID': '8078', 'CLICOLOR': '1', 'PAGER': 'cat', 'GIT_PAGER': 'cat', 'MPLBACKEND': 'module://ipykernel.pylab.backend_inline'})"
      ]
     },
     "execution_count": 2,
     "metadata": {},
     "output_type": "execute_result"
    }
   ],
   "source": [
    "# 获取环境变量\n",
    "os.environ"
   ]
  },
  {
   "cell_type": "code",
   "execution_count": null,
   "metadata": {},
   "outputs": [],
   "source": []
  },
  {
   "cell_type": "markdown",
   "metadata": {},
   "source": [
    "# os.path库 - 常用路径操作"
   ]
  },
  {
   "cell_type": "code",
   "execution_count": 3,
   "metadata": {},
   "outputs": [
    {
     "data": {
      "text/plain": [
       "'C:\\\\Windows\\\\System32'"
      ]
     },
     "execution_count": 3,
     "metadata": {},
     "output_type": "execute_result"
    }
   ],
   "source": [
    "# 返回路径的基本名称\n",
    "# linux/mac\n",
    "os.path.basename(\"/usr/bin/python\")\n",
    "# windows\n",
    "os.path.basename(\"C:\\Windows\\System32\")"
   ]
  },
  {
   "cell_type": "code",
   "execution_count": 4,
   "metadata": {},
   "outputs": [
    {
     "data": {
      "text/plain": [
       "''"
      ]
     },
     "execution_count": 4,
     "metadata": {},
     "output_type": "execute_result"
    }
   ],
   "source": [
    "# 返回路径的目录名称\n",
    "# linux/mac\n",
    "os.path.dirname(\"/usr/bin/python\")\n",
    "# windows\n",
    "os.path.dirname(\"C:\\Windows\\System32\")"
   ]
  },
  {
   "cell_type": "code",
   "execution_count": 5,
   "metadata": {},
   "outputs": [
    {
     "data": {
      "text/plain": [
       "False"
      ]
     },
     "execution_count": 5,
     "metadata": {},
     "output_type": "execute_result"
    }
   ],
   "source": [
    "# 检查文件是否存在\n",
    "# linux/mac\n",
    "os.path.exists(\"/usr/bin/python\")\n",
    "# windows\n",
    "os.path.exists(\"C:\\Windows\\System32\")"
   ]
  },
  {
   "cell_type": "code",
   "execution_count": 6,
   "metadata": {},
   "outputs": [
    {
     "data": {
      "text/plain": [
       "False"
      ]
     },
     "execution_count": 6,
     "metadata": {},
     "output_type": "execute_result"
    }
   ],
   "source": [
    "# 检查路径是否是文件\n",
    "# linux/mac\n",
    "os.path.isfile(\"/usr/bin/python\")\n",
    "# windows\n",
    "os.path.isfile(\"C:\\Windows\\System32\")"
   ]
  },
  {
   "cell_type": "code",
   "execution_count": 7,
   "metadata": {},
   "outputs": [
    {
     "data": {
      "text/plain": [
       "False"
      ]
     },
     "execution_count": 7,
     "metadata": {},
     "output_type": "execute_result"
    }
   ],
   "source": [
    "# 检查路径是否是目录\n",
    "# linux/mac\n",
    "os.path.isdir(\"/usr/bin/python\")\n",
    "# windows\n",
    "os.path.isdir(\"C:\\Windows\\System32\")"
   ]
  },
  {
   "cell_type": "code",
   "execution_count": 8,
   "metadata": {},
   "outputs": [
    {
     "data": {
      "text/plain": [
       "'C:\\\\Windows/System32'"
      ]
     },
     "execution_count": 8,
     "metadata": {},
     "output_type": "execute_result"
    }
   ],
   "source": [
    "# 合并路径\n",
    "# linux/mac\n",
    "os.path.join(\"/usr\", \"bin\", \"python\")\n",
    "# windows\n",
    "os.path.join(\"C:\\Windows\", \"System32\")"
   ]
  },
  {
   "cell_type": "markdown",
   "metadata": {},
   "source": [
    "# math - 数学函数"
   ]
  },
  {
   "cell_type": "code",
   "execution_count": 9,
   "metadata": {},
   "outputs": [
    {
     "data": {
      "text/plain": [
       "3.141592653589793"
      ]
     },
     "execution_count": 9,
     "metadata": {},
     "output_type": "execute_result"
    }
   ],
   "source": [
    "import math\n",
    "math.pi"
   ]
  },
  {
   "cell_type": "code",
   "execution_count": 10,
   "metadata": {},
   "outputs": [
    {
     "data": {
      "text/plain": [
       "6.123233995736766e-17"
      ]
     },
     "execution_count": 10,
     "metadata": {},
     "output_type": "execute_result"
    }
   ],
   "source": [
    "# 计算cosine\n",
    "math.cos(math.pi/2)   "
   ]
  },
  {
   "cell_type": "code",
   "execution_count": 11,
   "metadata": {},
   "outputs": [
    {
     "data": {
      "text/plain": [
       "10.0"
      ]
     },
     "execution_count": 11,
     "metadata": {},
     "output_type": "execute_result"
    }
   ],
   "source": [
    "# 计算对数\n",
    "math.log(1024, 2)"
   ]
  },
  {
   "cell_type": "code",
   "execution_count": 12,
   "metadata": {},
   "outputs": [
    {
     "data": {
      "text/plain": [
       "3"
      ]
     },
     "execution_count": 12,
     "metadata": {},
     "output_type": "execute_result"
    }
   ],
   "source": [
    "# 向下取整\n",
    "math.floor(3.1)"
   ]
  },
  {
   "cell_type": "code",
   "execution_count": 13,
   "metadata": {},
   "outputs": [
    {
     "data": {
      "text/plain": [
       "4"
      ]
     },
     "execution_count": 13,
     "metadata": {},
     "output_type": "execute_result"
    }
   ],
   "source": [
    "# 向上取整\n",
    "math.ceil(3.1)"
   ]
  },
  {
   "cell_type": "code",
   "execution_count": 14,
   "metadata": {},
   "outputs": [
    {
     "data": {
      "text/plain": [
       "1024.0"
      ]
     },
     "execution_count": 14,
     "metadata": {},
     "output_type": "execute_result"
    }
   ],
   "source": [
    "# 指数运算\n",
    "math.pow(2, 10)"
   ]
  },
  {
   "cell_type": "code",
   "execution_count": 15,
   "metadata": {},
   "outputs": [
    {
     "data": {
      "text/plain": [
       "1.4142135623730951"
      ]
     },
     "execution_count": 15,
     "metadata": {},
     "output_type": "execute_result"
    }
   ],
   "source": [
    "# 平方根\n",
    "math.sqrt(2)"
   ]
  },
  {
   "cell_type": "markdown",
   "metadata": {},
   "source": [
    "# 练习一 - 见PPT"
   ]
  },
  {
   "cell_type": "code",
   "execution_count": 16,
   "metadata": {},
   "outputs": [
    {
     "data": {
      "text/plain": [
       "78.53981633974483"
      ]
     },
     "execution_count": 16,
     "metadata": {},
     "output_type": "execute_result"
    }
   ],
   "source": [
    "# 练习一答案\n",
    "import math\n",
    "def circle_area(radius):\n",
    "    return math.pi * radius * radius\n",
    "\n",
    "circle_area(5)\n"
   ]
  },
  {
   "cell_type": "markdown",
   "metadata": {},
   "source": [
    "# random库 - 生成随机数"
   ]
  },
  {
   "cell_type": "code",
   "execution_count": 17,
   "metadata": {},
   "outputs": [
    {
     "data": {
      "text/plain": [
       "'pear'"
      ]
     },
     "execution_count": 17,
     "metadata": {},
     "output_type": "execute_result"
    }
   ],
   "source": [
    "import random\n",
    "# 从非空序列返回一个随机元素\n",
    "random.choice(['apple', 'pear', 'banana'])"
   ]
  },
  {
   "cell_type": "code",
   "execution_count": 18,
   "metadata": {},
   "outputs": [
    {
     "data": {
      "text/plain": [
       "[0, 1, 7, 4, 9]"
      ]
     },
     "execution_count": 18,
     "metadata": {},
     "output_type": "execute_result"
    }
   ],
   "source": [
    "# 无重复的随机抽样\n",
    "# 第一参数指定序列，第二个参数指定长度\n",
    "random.sample(range(10), 5)"
   ]
  },
  {
   "cell_type": "code",
   "execution_count": 19,
   "metadata": {},
   "outputs": [
    {
     "data": {
      "text/plain": [
       "0.16109964571881252"
      ]
     },
     "execution_count": 19,
     "metadata": {},
     "output_type": "execute_result"
    }
   ],
   "source": [
    "# 返回 [0.0, 1.0) 范围内的随机浮点数\n",
    "random.random()"
   ]
  },
  {
   "cell_type": "code",
   "execution_count": 20,
   "metadata": {},
   "outputs": [
    {
     "name": "stdout",
     "output_type": "stream",
     "text": [
      "[5, 7, 1, 6, 2, 0, 3, 9, 8, 4]\n"
     ]
    }
   ],
   "source": [
    "# 将序列随机打乱位置。\n",
    "x = list(range(10))\n",
    "random.shuffle(x)\n",
    "print(x)"
   ]
  },
  {
   "cell_type": "code",
   "execution_count": 21,
   "metadata": {},
   "outputs": [
    {
     "data": {
      "text/plain": [
       "4"
      ]
     },
     "execution_count": 21,
     "metadata": {},
     "output_type": "execute_result"
    }
   ],
   "source": [
    "# 返回随机整数\n",
    "random.randint(1, 10)"
   ]
  },
  {
   "cell_type": "markdown",
   "metadata": {},
   "source": [
    "# 练习二 - 见PPT"
   ]
  },
  {
   "cell_type": "code",
   "execution_count": 22,
   "metadata": {},
   "outputs": [
    {
     "data": {
      "text/plain": [
       "['club 7', 'heart J', 'heart 10', 'diamond 4']"
      ]
     },
     "execution_count": 22,
     "metadata": {},
     "output_type": "execute_result"
    }
   ],
   "source": [
    "# 练习二答案\n",
    "import random\n",
    "numbers = list(range(1, 11))\n",
    "faces = [str(x) for x in numbers]\n",
    "faces += ['J', 'Q', 'K', 'A']\n",
    "suits = ['spade', 'heart', 'club', 'diamond']\n",
    "cards = []\n",
    "for suit in suits:\n",
    "    for face in faces:\n",
    "        card = \"{} {}\".format(suit, face)\n",
    "        cards.append(card)\n",
    "random.sample(cards, 4)\n"
   ]
  },
  {
   "cell_type": "markdown",
   "metadata": {},
   "source": [
    "# time库 - 时间的访问和转换"
   ]
  },
  {
   "cell_type": "code",
   "execution_count": 23,
   "metadata": {},
   "outputs": [],
   "source": [
    "import time\n",
    "# 睡10秒\n",
    "time.sleep(10)"
   ]
  },
  {
   "cell_type": "code",
   "execution_count": 24,
   "metadata": {},
   "outputs": [
    {
     "data": {
      "text/plain": [
       "1584019416.3703134"
      ]
     },
     "execution_count": 24,
     "metadata": {},
     "output_type": "execute_result"
    }
   ],
   "source": [
    "# 返回 seconds since the epoch \n",
    "# 什么是epoch？ epoch是1970年1月1日00:00:00（UTC）\n",
    "time.time()"
   ]
  },
  {
   "cell_type": "code",
   "execution_count": null,
   "metadata": {},
   "outputs": [],
   "source": []
  },
  {
   "cell_type": "markdown",
   "metadata": {},
   "source": [
    "# datetime库 - 日期和时间处理"
   ]
  },
  {
   "cell_type": "code",
   "execution_count": 25,
   "metadata": {},
   "outputs": [
    {
     "name": "stdout",
     "output_type": "stream",
     "text": [
      "2020-01-01\n",
      "2020-03-12\n",
      "3\n"
     ]
    }
   ],
   "source": [
    "import datetime\n",
    "# date类 - 表示日期\n",
    "# 创建date对象\n",
    "d = datetime.date(year=2020, month=1, day=1)\n",
    "print(d)\n",
    "# 获取今天的日期\n",
    "d = datetime.date.today()\n",
    "print(d)\n",
    "# 获取星期几，星期一为0，星期天为6\n",
    "print(d.weekday())"
   ]
  },
  {
   "cell_type": "code",
   "execution_count": 26,
   "metadata": {},
   "outputs": [
    {
     "name": "stdout",
     "output_type": "stream",
     "text": [
      "2020-01-01 09:00:00\n"
     ]
    }
   ],
   "source": [
    "# datetime类\n",
    "# 创建datetime对象\n",
    "dt = datetime.datetime(year=2020, month=1, day=1, hour=9, minute=0, second=0)\n",
    "print(dt)"
   ]
  },
  {
   "cell_type": "code",
   "execution_count": 27,
   "metadata": {},
   "outputs": [
    {
     "name": "stdout",
     "output_type": "stream",
     "text": [
      "2020-03-12 21:23:36.384523\n"
     ]
    }
   ],
   "source": [
    "# 获取当前时间\n",
    "dt = datetime.datetime.now()\n",
    "print(dt)"
   ]
  },
  {
   "cell_type": "code",
   "execution_count": 28,
   "metadata": {},
   "outputs": [
    {
     "name": "stdout",
     "output_type": "stream",
     "text": [
      "5 days, 0:00:00\n"
     ]
    }
   ],
   "source": [
    "# timedelta类 - 表示时间间隔\n",
    "# 创建timedelta对象\n",
    "delta = datetime.timedelta(days=5)\n",
    "print(delta)"
   ]
  },
  {
   "cell_type": "code",
   "execution_count": 29,
   "metadata": {},
   "outputs": [
    {
     "data": {
      "text/plain": [
       "datetime.datetime(2020, 3, 5, 21, 23, 36, 392313)"
      ]
     },
     "execution_count": 29,
     "metadata": {},
     "output_type": "execute_result"
    }
   ],
   "source": [
    "# 时间运算\n",
    "# 计算7天前的时间\n",
    "today = datetime.datetime.now()\n",
    "today - datetime.timedelta(days=7)"
   ]
  },
  {
   "cell_type": "code",
   "execution_count": 30,
   "metadata": {},
   "outputs": [
    {
     "data": {
      "text/plain": [
       "datetime.timedelta(71)"
      ]
     },
     "execution_count": 30,
     "metadata": {},
     "output_type": "execute_result"
    }
   ],
   "source": [
    "# 计算两个日期间隔了多少时间\n",
    "today = datetime.date.today()\n",
    "new_year_day = datetime.date(year=2020, month=1, day=1)\n",
    "today-new_year_day"
   ]
  },
  {
   "cell_type": "code",
   "execution_count": 31,
   "metadata": {},
   "outputs": [
    {
     "data": {
      "text/plain": [
       "'2020-03-12 21:23:36'"
      ]
     },
     "execution_count": 31,
     "metadata": {},
     "output_type": "execute_result"
    }
   ],
   "source": [
    "# 格式化时间\n",
    "today = datetime.datetime.now()\n",
    "today.strftime(\"%Y-%m-%d %H:%M:%S\")"
   ]
  },
  {
   "cell_type": "code",
   "execution_count": 32,
   "metadata": {},
   "outputs": [
    {
     "name": "stdout",
     "output_type": "stream",
     "text": [
      "<class 'datetime.datetime'>\n",
      "2020-01-01 09:00:00\n"
     ]
    }
   ],
   "source": [
    "# 解析时间字符串\n",
    "date_string = \"2020-01-01 09:00:00\"\n",
    "dt = datetime.datetime.strptime(date_string, \"%Y-%m-%d %H:%M:%S\")\n",
    "print(type(dt))\n",
    "print(dt)"
   ]
  },
  {
   "cell_type": "code",
   "execution_count": 33,
   "metadata": {},
   "outputs": [],
   "source": [
    "# 所有日期和时间的格式代码，可参考\n",
    "# https://docs.python.org/zh-cn/3/library/datetime.html#strftime-and-strptime-format-codes"
   ]
  },
  {
   "cell_type": "markdown",
   "metadata": {},
   "source": [
    "# 练习三 - 见PPT"
   ]
  },
  {
   "cell_type": "code",
   "execution_count": 34,
   "metadata": {},
   "outputs": [
    {
     "name": "stdout",
     "output_type": "stream",
     "text": [
      "2020-01-04\n",
      "2020-01-05\n",
      "2020-01-11\n",
      "2020-01-12\n",
      "2020-01-18\n",
      "2020-01-19\n",
      "2020-01-25\n",
      "2020-01-26\n",
      "2020-02-01\n",
      "2020-02-02\n",
      "2020-02-08\n",
      "2020-02-09\n",
      "2020-02-15\n",
      "2020-02-16\n",
      "2020-02-22\n",
      "2020-02-23\n",
      "2020-02-29\n",
      "2020-03-01\n",
      "2020-03-07\n",
      "2020-03-08\n",
      "2020-03-14\n",
      "2020-03-15\n",
      "2020-03-21\n",
      "2020-03-22\n",
      "2020-03-28\n",
      "2020-03-29\n",
      "2020-04-04\n",
      "2020-04-05\n",
      "2020-04-11\n",
      "2020-04-12\n",
      "2020-04-18\n",
      "2020-04-19\n",
      "2020-04-25\n",
      "2020-04-26\n",
      "2020-05-02\n",
      "2020-05-03\n",
      "2020-05-09\n",
      "2020-05-10\n",
      "2020-05-16\n",
      "2020-05-17\n",
      "2020-05-23\n",
      "2020-05-24\n",
      "2020-05-30\n",
      "2020-05-31\n",
      "2020-06-06\n",
      "2020-06-07\n",
      "2020-06-13\n",
      "2020-06-14\n",
      "2020-06-20\n",
      "2020-06-21\n",
      "2020-06-27\n",
      "2020-06-28\n",
      "2020-07-04\n",
      "2020-07-05\n",
      "2020-07-11\n",
      "2020-07-12\n",
      "2020-07-18\n",
      "2020-07-19\n",
      "2020-07-25\n",
      "2020-07-26\n",
      "2020-08-01\n",
      "2020-08-02\n",
      "2020-08-08\n",
      "2020-08-09\n",
      "2020-08-15\n",
      "2020-08-16\n",
      "2020-08-22\n",
      "2020-08-23\n",
      "2020-08-29\n",
      "2020-08-30\n",
      "2020-09-05\n",
      "2020-09-06\n",
      "2020-09-12\n",
      "2020-09-13\n",
      "2020-09-19\n",
      "2020-09-20\n",
      "2020-09-26\n",
      "2020-09-27\n",
      "2020-10-03\n",
      "2020-10-04\n",
      "2020-10-10\n",
      "2020-10-11\n",
      "2020-10-17\n",
      "2020-10-18\n",
      "2020-10-24\n",
      "2020-10-25\n",
      "2020-10-31\n",
      "2020-11-01\n",
      "2020-11-07\n",
      "2020-11-08\n",
      "2020-11-14\n",
      "2020-11-15\n",
      "2020-11-21\n",
      "2020-11-22\n",
      "2020-11-28\n",
      "2020-11-29\n",
      "2020-12-05\n",
      "2020-12-06\n",
      "2020-12-12\n",
      "2020-12-13\n",
      "2020-12-19\n",
      "2020-12-20\n",
      "2020-12-26\n",
      "2020-12-27\n"
     ]
    }
   ],
   "source": [
    "# 练习三答案\n",
    "import datetime\n",
    "date = datetime.date(year=2020, month=1, day=1)\n",
    "while date.year == 2020:\n",
    "    if date.weekday() == 5 or date.weekday() == 6:\n",
    "        date_string = date.strftime(\"%Y-%m-%d\")\n",
    "        print(date_string)\n",
    "    date = date + datetime.timedelta(days=1)\n"
   ]
  },
  {
   "cell_type": "markdown",
   "metadata": {},
   "source": [
    "# 练习四 - 见PPT"
   ]
  },
  {
   "cell_type": "code",
   "execution_count": 35,
   "metadata": {},
   "outputs": [
    {
     "name": "stdout",
     "output_type": "stream",
     "text": [
      "Please input a date: 2020-01-01\n",
      "3\n"
     ]
    }
   ],
   "source": [
    "# 练习四答案\n",
    "import datetime\n",
    "date_string = input(\"Please input a date: \")\n",
    "dt = datetime.datetime.strptime(date_string, \"%Y-%m-%d\")\n",
    "day = dt.weekday() + 1\n",
    "print(day)\n"
   ]
  },
  {
   "cell_type": "code",
   "execution_count": null,
   "metadata": {},
   "outputs": [],
   "source": []
  }
 ],
 "metadata": {
  "kernelspec": {
   "display_name": "Python 3",
   "language": "python",
   "name": "python3"
  },
  "language_info": {
   "codemirror_mode": {
    "name": "ipython",
    "version": 3
   },
   "file_extension": ".py",
   "mimetype": "text/x-python",
   "name": "python",
   "nbconvert_exporter": "python",
   "pygments_lexer": "ipython3",
   "version": "3.6.9"
  }
 },
 "nbformat": 4,
 "nbformat_minor": 2
}
