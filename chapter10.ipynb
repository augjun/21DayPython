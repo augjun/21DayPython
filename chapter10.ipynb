{
 "cells": [
  {
   "cell_type": "markdown",
   "metadata": {},
   "source": [
    "# numpy 介绍\n",
    "高性能科学计算和数据分析的基础包\n",
    "\n",
    "功能：\n",
    "\n",
    "+ 快速且节省空间的多维数组ndarray\n",
    "\n",
    "+ 标准数学函数，对数组作快速的矢量运算\n",
    "\n",
    "+ 线性代数、随机数生成、傅里叶变换等功能\n",
    "\n",
    "+ 提供简单易用的C API\n"
   ]
  },
  {
   "cell_type": "markdown",
   "metadata": {},
   "source": [
    "# ndarray"
   ]
  },
  {
   "cell_type": "code",
   "execution_count": 1,
   "metadata": {},
   "outputs": [],
   "source": [
    "# N维数组\n",
    "# 一系列同类型数据的集合\n",
    "# 每个ndarray都有一个shape和dtype\n"
   ]
  },
  {
   "cell_type": "markdown",
   "metadata": {},
   "source": [
    "# 创建ndarray"
   ]
  },
  {
   "cell_type": "code",
   "execution_count": 1,
   "metadata": {},
   "outputs": [
    {
     "name": "stdout",
     "output_type": "stream",
     "text": [
      "[[1 2]\n",
      " [3 4]]\n"
     ]
    }
   ],
   "source": [
    "# array函数\n",
    "import numpy as np\n",
    "a = np.array([1,2,3])\n",
    "a = np.array([[1,2],[3,4]])\n",
    "print(a)"
   ]
  },
  {
   "cell_type": "code",
   "execution_count": 6,
   "metadata": {},
   "outputs": [
    {
     "name": "stdout",
     "output_type": "stream",
     "text": [
      "[1.+0.j 2.+0.j 3.+0.j]\n"
     ]
    }
   ],
   "source": [
    "# dtype指定元素类型\n",
    "a = np.array([1,2,3], dtype=np.complex64)  \n",
    "print(a)"
   ]
  },
  {
   "cell_type": "code",
   "execution_count": 4,
   "metadata": {},
   "outputs": [
    {
     "data": {
      "text/plain": [
       "array([[0., 0., 0.],\n",
       "       [0., 0., 0.]])"
      ]
     },
     "execution_count": 4,
     "metadata": {},
     "output_type": "execute_result"
    }
   ],
   "source": [
    "# zeros函数生成全为0的ndarray\n",
    "np.zeros((2,3))\n"
   ]
  },
  {
   "cell_type": "code",
   "execution_count": 5,
   "metadata": {},
   "outputs": [
    {
     "data": {
      "text/plain": [
       "array([[1., 1., 1.],\n",
       "       [1., 1., 1.]])"
      ]
     },
     "execution_count": 5,
     "metadata": {},
     "output_type": "execute_result"
    }
   ],
   "source": [
    "# ones函数生成全为1的ndarray\n",
    "np.ones((2,3))\n"
   ]
  },
  {
   "cell_type": "code",
   "execution_count": 6,
   "metadata": {},
   "outputs": [
    {
     "data": {
      "text/plain": [
       "array([[1., 0., 0., 0., 0., 0., 0., 0., 0., 0.],\n",
       "       [0., 1., 0., 0., 0., 0., 0., 0., 0., 0.],\n",
       "       [0., 0., 1., 0., 0., 0., 0., 0., 0., 0.],\n",
       "       [0., 0., 0., 1., 0., 0., 0., 0., 0., 0.],\n",
       "       [0., 0., 0., 0., 1., 0., 0., 0., 0., 0.],\n",
       "       [0., 0., 0., 0., 0., 1., 0., 0., 0., 0.],\n",
       "       [0., 0., 0., 0., 0., 0., 1., 0., 0., 0.],\n",
       "       [0., 0., 0., 0., 0., 0., 0., 1., 0., 0.],\n",
       "       [0., 0., 0., 0., 0., 0., 0., 0., 1., 0.],\n",
       "       [0., 0., 0., 0., 0., 0., 0., 0., 0., 1.]])"
      ]
     },
     "execution_count": 6,
     "metadata": {},
     "output_type": "execute_result"
    }
   ],
   "source": [
    "# eye函数生成单位矩阵\n",
    "np.eye(10)\n"
   ]
  },
  {
   "cell_type": "code",
   "execution_count": 7,
   "metadata": {},
   "outputs": [
    {
     "data": {
      "text/plain": [
       "array([2, 4, 6, 8])"
      ]
     },
     "execution_count": 7,
     "metadata": {},
     "output_type": "execute_result"
    }
   ],
   "source": [
    "# arange函数生成序列\n",
    "# 类似Python里的range，但是结果是ndarray类型\n",
    "# 生成[0, 10)区间内的整数序列\n",
    "np.arange(10)\n",
    "\n",
    "# 生成[5, 10)区间内的整数序列\n",
    "np.arange(5, 10)\n",
    "\n",
    "# 生成[2, 10)区间内的整数序列，步长为2\n",
    "np.arange(2, 10, 2)"
   ]
  },
  {
   "cell_type": "code",
   "execution_count": 8,
   "metadata": {},
   "outputs": [
    {
     "name": "stdout",
     "output_type": "stream",
     "text": [
      "[ 1.  2.  3.  4.  5.  6.  7.  8.  9. 10.]\n"
     ]
    }
   ],
   "source": [
    "# linspace生成一个区间上等间隔划分的数值，即等差数列\n",
    "# 生成[1, 10]区间内的等间隔划分的10个数\n",
    "a = np.linspace(1,10,num=10)\n",
    "print(a)"
   ]
  },
  {
   "cell_type": "code",
   "execution_count": null,
   "metadata": {},
   "outputs": [],
   "source": []
  },
  {
   "cell_type": "markdown",
   "metadata": {},
   "source": [
    "# 思考一下：ndarray和Python列表有什么区别？"
   ]
  },
  {
   "cell_type": "code",
   "execution_count": null,
   "metadata": {},
   "outputs": [],
   "source": []
  },
  {
   "cell_type": "markdown",
   "metadata": {},
   "source": [
    "# 数据类型"
   ]
  },
  {
   "cell_type": "code",
   "execution_count": 8,
   "metadata": {},
   "outputs": [
    {
     "name": "stdout",
     "output_type": "stream",
     "text": [
      "float64\n"
     ]
    }
   ],
   "source": [
    "# numpy数据类型举例，表格见PPT\n",
    "# 浮点数类型的ndarray\n",
    "a = np.array([1,2,3], dtype=np.float64)\n",
    "print(a.dtype)"
   ]
  },
  {
   "cell_type": "code",
   "execution_count": 10,
   "metadata": {},
   "outputs": [],
   "source": [
    "# 整数类型的ndarray\n",
    "a = np.array([1,2,3], dtype=np.int32)"
   ]
  },
  {
   "cell_type": "code",
   "execution_count": 11,
   "metadata": {},
   "outputs": [],
   "source": [
    "# 字符串类型的ndarray\n",
    "a = np.array(['abc', 'defg'], dtype=np.string_)"
   ]
  },
  {
   "cell_type": "markdown",
   "metadata": {},
   "source": [
    "# 矢量运算"
   ]
  },
  {
   "cell_type": "code",
   "execution_count": 12,
   "metadata": {},
   "outputs": [
    {
     "name": "stdout",
     "output_type": "stream",
     "text": [
      "[1 4 9]\n",
      "[2 4 6]\n",
      "[1.         0.5        0.33333333]\n"
     ]
    }
   ],
   "source": [
    "# 对数据进行批量运算，不需要写循环\n",
    "a = np.array([1,2,3])\n",
    "print(a * a)\n",
    "print(a + a)\n",
    "print(1/a)"
   ]
  },
  {
   "cell_type": "code",
   "execution_count": 13,
   "metadata": {},
   "outputs": [
    {
     "name": "stdout",
     "output_type": "stream",
     "text": [
      "[0.         1.         1.41421356 1.73205081 2.         2.23606798\n",
      " 2.44948974 2.64575131 2.82842712 3.        ]\n",
      "[1.00000000e+00 2.71828183e+00 7.38905610e+00 2.00855369e+01\n",
      " 5.45981500e+01 1.48413159e+02 4.03428793e+02 1.09663316e+03\n",
      " 2.98095799e+03 8.10308393e+03]\n"
     ]
    }
   ],
   "source": [
    "a=np.arange(10)\n",
    "# 求平方根\n",
    "print(np.sqrt(a))\n",
    "# 求e的幂次\n",
    "print(np.exp(a))"
   ]
  },
  {
   "cell_type": "code",
   "execution_count": 14,
   "metadata": {},
   "outputs": [],
   "source": [
    "# numpy算术函数\n",
    "a= np.arange(1, 11) * np.arange(1, 11)\n",
    "b= np.arange(1, 11)\n",
    "\n",
    "# 加法运算\n",
    "c = np.add(a, b)\n",
    "\n",
    "# 减法\n",
    "c = np.subtract(a, b)\n",
    "\n",
    "# 乘法\n",
    "c = np.multiply(a, b)\n",
    "\n",
    "# 除法\n",
    "c = np.divide(a,b)\n",
    "# 求最大值\n",
    "c = np.maximum(a, b)\n",
    "\n",
    "# 求倒数\n",
    "c = np.reciprocal(a)\n",
    "\n",
    "# 指数运算\n",
    "c = np.power(b, 2)\n",
    "\n",
    "# 三角函数 - sin\n",
    "a = np.array([0,30,45,60,90])\n",
    "c = np.sin(a*np.pi/180)\n",
    "\n",
    "# 三角函数 - cos\n",
    "c = np.cos(a*np.pi/180)\n",
    "\n"
   ]
  },
  {
   "cell_type": "code",
   "execution_count": 15,
   "metadata": {},
   "outputs": [
    {
     "data": {
      "text/plain": [
       "5"
      ]
     },
     "execution_count": 15,
     "metadata": {},
     "output_type": "execute_result"
    }
   ],
   "source": [
    "# dot函数\n",
    "# 如果两个都是一维数组，做内积，图见PPT\n",
    "a = np.arange(3)\n",
    "b = np.arange(3)\n",
    "np.dot(a, b)"
   ]
  },
  {
   "cell_type": "code",
   "execution_count": 16,
   "metadata": {},
   "outputs": [
    {
     "data": {
      "text/plain": [
       "array([[19, 22],\n",
       "       [43, 50]])"
      ]
     },
     "execution_count": 16,
     "metadata": {},
     "output_type": "execute_result"
    }
   ],
   "source": [
    "# 如果两个都是二维数组，做矩阵积，图见PPT\n",
    "a = np.arange(1, 5).reshape(2, 2)\n",
    "b = np.arange(5, 9).reshape(2, 2)\n",
    "np.dot(a, b)"
   ]
  },
  {
   "cell_type": "markdown",
   "metadata": {},
   "source": [
    "# 索引和切片"
   ]
  },
  {
   "cell_type": "code",
   "execution_count": 17,
   "metadata": {},
   "outputs": [],
   "source": [
    "# 一维数组的索引和切片\n",
    "arr = np.arange(10)\n",
    "\n",
    "# 切片操作\n",
    "arr[5:8] \n",
    "# 赋值操作\n",
    "arr[5:8] = 12 \n"
   ]
  },
  {
   "cell_type": "code",
   "execution_count": 12,
   "metadata": {},
   "outputs": [
    {
     "name": "stdout",
     "output_type": "stream",
     "text": [
      "[[0 1 2]\n",
      " [3 4 5]\n",
      " [6 7 8]]\n"
     ]
    }
   ],
   "source": [
    "# 高维数组的索引和切片\n",
    "# 二维数组的索引方式，见PPT\n",
    "arr2d = np.arange(9).reshape((3,3))\n",
    "print(arr2d)\n"
   ]
  },
  {
   "cell_type": "code",
   "execution_count": 13,
   "metadata": {},
   "outputs": [
    {
     "data": {
      "text/plain": [
       "array([6, 7, 8])"
      ]
     },
     "execution_count": 13,
     "metadata": {},
     "output_type": "execute_result"
    }
   ],
   "source": [
    "# 获取第2行数据，是一个一维数组\n",
    "arr2d[2] "
   ]
  },
  {
   "cell_type": "code",
   "execution_count": 14,
   "metadata": {},
   "outputs": [
    {
     "data": {
      "text/plain": [
       "2"
      ]
     },
     "execution_count": 14,
     "metadata": {},
     "output_type": "execute_result"
    }
   ],
   "source": [
    "# 获取第0行第2列，是一个数值\n",
    "arr2d[0][2]"
   ]
  },
  {
   "cell_type": "code",
   "execution_count": 15,
   "metadata": {},
   "outputs": [
    {
     "data": {
      "text/plain": [
       "2"
      ]
     },
     "execution_count": 15,
     "metadata": {},
     "output_type": "execute_result"
    }
   ],
   "source": [
    "# 另外一种方式获取第0行第2列\n",
    "arr2d[0, 2]\n"
   ]
  },
  {
   "cell_type": "code",
   "execution_count": 16,
   "metadata": {},
   "outputs": [
    {
     "data": {
      "text/plain": [
       "array([1, 5])"
      ]
     },
     "execution_count": 16,
     "metadata": {},
     "output_type": "execute_result"
    }
   ],
   "source": [
    "# 使用数组作用索引，见PPT图\n",
    "arr2d[[0, 1], [1, 2]]\n"
   ]
  },
  {
   "cell_type": "code",
   "execution_count": 17,
   "metadata": {},
   "outputs": [
    {
     "data": {
      "text/plain": [
       "array([[0, 1, 2],\n",
       "       [3, 4, 5]])"
      ]
     },
     "execution_count": 17,
     "metadata": {},
     "output_type": "execute_result"
    }
   ],
   "source": [
    "# 选择前2行数据\n",
    "arr2d[:2]\n"
   ]
  },
  {
   "cell_type": "code",
   "execution_count": 18,
   "metadata": {},
   "outputs": [
    {
     "data": {
      "text/plain": [
       "array([[1, 2],\n",
       "       [4, 5]])"
      ]
     },
     "execution_count": 18,
     "metadata": {},
     "output_type": "execute_result"
    }
   ],
   "source": [
    "# 选择前2行，后2列数据\n",
    "arr2d[:2, 1:]"
   ]
  },
  {
   "cell_type": "code",
   "execution_count": 19,
   "metadata": {},
   "outputs": [
    {
     "data": {
      "text/plain": [
       "array([3, 4])"
      ]
     },
     "execution_count": 19,
     "metadata": {},
     "output_type": "execute_result"
    }
   ],
   "source": [
    "# 选择第1行，前2列的数据\n",
    "arr2d[1, :2]"
   ]
  },
  {
   "cell_type": "code",
   "execution_count": 21,
   "metadata": {},
   "outputs": [
    {
     "data": {
      "text/plain": [
       "array([[0, 1],\n",
       "       [3, 4],\n",
       "       [6, 7]])"
      ]
     },
     "execution_count": 21,
     "metadata": {},
     "output_type": "execute_result"
    }
   ],
   "source": [
    "# 选择所有的行，前2列的数据\n",
    "arr2d[:, :2]"
   ]
  },
  {
   "cell_type": "code",
   "execution_count": 23,
   "metadata": {},
   "outputs": [
    {
     "data": {
      "text/plain": [
       "array([0, 1, 2, 3, 4])"
      ]
     },
     "execution_count": 23,
     "metadata": {},
     "output_type": "execute_result"
    }
   ],
   "source": [
    "# 布尔索引，选择所有小于5的数\n",
    "arr2d[arr2d<5]\n"
   ]
  },
  {
   "cell_type": "markdown",
   "metadata": {},
   "source": [
    "# 练习一 - 见PPT"
   ]
  },
  {
   "cell_type": "code",
   "execution_count": 23,
   "metadata": {},
   "outputs": [
    {
     "name": "stdout",
     "output_type": "stream",
     "text": [
      "[1 3 5 7 9]\n"
     ]
    }
   ],
   "source": [
    "# 练习一答案\n",
    "array=np.array([0, 1, 2, 3, 4, 5, 6, 7, 8, 9])\n",
    "odd_nums=array[array%2!=0]\n",
    "print(odd_nums)"
   ]
  },
  {
   "cell_type": "markdown",
   "metadata": {},
   "source": [
    "# 数据统计"
   ]
  },
  {
   "cell_type": "code",
   "execution_count": 24,
   "metadata": {},
   "outputs": [
    {
     "data": {
      "text/plain": [
       "2.5"
      ]
     },
     "execution_count": 24,
     "metadata": {},
     "output_type": "execute_result"
    }
   ],
   "source": [
    "# 计算平均值\n",
    "arr = np.array([3, 2, 4, 1])\n",
    "arr.mean() "
   ]
  },
  {
   "cell_type": "code",
   "execution_count": 25,
   "metadata": {},
   "outputs": [
    {
     "data": {
      "text/plain": [
       "10"
      ]
     },
     "execution_count": 25,
     "metadata": {},
     "output_type": "execute_result"
    }
   ],
   "source": [
    "# 求和运算\n",
    "arr = np.array([3, 2, 4, 1])\n",
    "arr.sum() "
   ]
  },
  {
   "cell_type": "code",
   "execution_count": 26,
   "metadata": {},
   "outputs": [
    {
     "data": {
      "text/plain": [
       "1.118033988749895"
      ]
     },
     "execution_count": 26,
     "metadata": {},
     "output_type": "execute_result"
    }
   ],
   "source": [
    "# 计算方差\n",
    "arr = np.array([3, 2, 4, 1])\n",
    "arr.std() "
   ]
  },
  {
   "cell_type": "code",
   "execution_count": 27,
   "metadata": {},
   "outputs": [
    {
     "data": {
      "text/plain": [
       "4"
      ]
     },
     "execution_count": 27,
     "metadata": {},
     "output_type": "execute_result"
    }
   ],
   "source": [
    "# 求最大值\n",
    "arr = np.array([3, 2, 4, 1])\n",
    "arr.max()"
   ]
  },
  {
   "cell_type": "code",
   "execution_count": 28,
   "metadata": {},
   "outputs": [
    {
     "data": {
      "text/plain": [
       "1"
      ]
     },
     "execution_count": 28,
     "metadata": {},
     "output_type": "execute_result"
    }
   ],
   "source": [
    "# 求最小值\n",
    "arr = np.array([3, 2, 4, 1])\n",
    "arr.min() "
   ]
  },
  {
   "cell_type": "code",
   "execution_count": 29,
   "metadata": {},
   "outputs": [
    {
     "data": {
      "text/plain": [
       "2"
      ]
     },
     "execution_count": 29,
     "metadata": {},
     "output_type": "execute_result"
    }
   ],
   "source": [
    "# 求最大值的索引\n",
    "arr = np.array([3, 2, 4, 1])\n",
    "arr.argmax()"
   ]
  },
  {
   "cell_type": "code",
   "execution_count": 30,
   "metadata": {},
   "outputs": [
    {
     "data": {
      "text/plain": [
       "3"
      ]
     },
     "execution_count": 30,
     "metadata": {},
     "output_type": "execute_result"
    }
   ],
   "source": [
    "# 求最小值的索引\n",
    "arr = np.array([3, 2, 4, 1])\n",
    "arr.argmin() "
   ]
  },
  {
   "cell_type": "code",
   "execution_count": 31,
   "metadata": {},
   "outputs": [
    {
     "data": {
      "text/plain": [
       "array([ 3,  5,  9, 10])"
      ]
     },
     "execution_count": 31,
     "metadata": {},
     "output_type": "execute_result"
    }
   ],
   "source": [
    "# 累积求和\n",
    "arr = np.array([3, 2, 4, 1])\n",
    "arr.cumsum() "
   ]
  },
  {
   "cell_type": "code",
   "execution_count": 32,
   "metadata": {},
   "outputs": [
    {
     "data": {
      "text/plain": [
       "array([ 3,  5,  9, 10])"
      ]
     },
     "execution_count": 32,
     "metadata": {},
     "output_type": "execute_result"
    }
   ],
   "source": [
    "# 使用accumulate函数实现累计运算\n",
    "# 运算步骤见PPT\n",
    "arr = np.array([3, 2, 4, 1])\n",
    "np.add.accumulate(arr)"
   ]
  },
  {
   "cell_type": "code",
   "execution_count": 24,
   "metadata": {},
   "outputs": [
    {
     "name": "stdout",
     "output_type": "stream",
     "text": [
      "[ True  True  True False]\n"
     ]
    },
    {
     "data": {
      "text/plain": [
       "3"
      ]
     },
     "execution_count": 24,
     "metadata": {},
     "output_type": "execute_result"
    }
   ],
   "source": [
    "# 计算大于1的个数\n",
    "arr = np.array([3, 2, 4, 1])\n",
    "print(arr>1)\n",
    "(arr>1).sum() "
   ]
  },
  {
   "cell_type": "code",
   "execution_count": 34,
   "metadata": {},
   "outputs": [
    {
     "data": {
      "text/plain": [
       "True"
      ]
     },
     "execution_count": 34,
     "metadata": {},
     "output_type": "execute_result"
    }
   ],
   "source": [
    "# 是否存在大于1的元素\n",
    "arr = np.array([3, 2, 4, 1])\n",
    "(arr>1).any() "
   ]
  },
  {
   "cell_type": "code",
   "execution_count": 35,
   "metadata": {},
   "outputs": [
    {
     "data": {
      "text/plain": [
       "False"
      ]
     },
     "execution_count": 35,
     "metadata": {},
     "output_type": "execute_result"
    }
   ],
   "source": [
    "# 是否所有元素都大于1\n",
    "arr = np.array([3, 2, 4, 1])\n",
    "(arr>1).all() "
   ]
  },
  {
   "cell_type": "markdown",
   "metadata": {},
   "source": [
    "# 练习二 - 见PPT"
   ]
  },
  {
   "cell_type": "code",
   "execution_count": 25,
   "metadata": {},
   "outputs": [
    {
     "name": "stdout",
     "output_type": "stream",
     "text": [
      "12.529964086141668\n"
     ]
    }
   ],
   "source": [
    "# 练习二答案\n",
    "a = np.array([1,2,3,2,3,4,3,4,5,6])\n",
    "b = np.array([7,2,10,2,7,4,9,4,9,8])\n",
    "distance=np.sqrt(np.sum((a-b)**2))\n",
    "print(distance)"
   ]
  },
  {
   "cell_type": "markdown",
   "metadata": {},
   "source": [
    "# 随机数生成"
   ]
  },
  {
   "cell_type": "code",
   "execution_count": 26,
   "metadata": {},
   "outputs": [
    {
     "name": "stdout",
     "output_type": "stream",
     "text": [
      "[[ 0.0527407  -0.09818601  0.61058982 -0.28138994]\n",
      " [-0.5528871   1.56385588 -1.44310094  0.96077574]\n",
      " [-0.12630643  0.44518352  2.06614543  0.43180421]]\n"
     ]
    }
   ],
   "source": [
    "# 生成满足标准正态分布的随机数\n",
    "a = np.random.randn(3, 4) \n",
    "print(a)"
   ]
  },
  {
   "cell_type": "code",
   "execution_count": 37,
   "metadata": {},
   "outputs": [
    {
     "name": "stdout",
     "output_type": "stream",
     "text": [
      "[1 7 2 5 7]\n",
      "[9 9 8 8 8]\n"
     ]
    }
   ],
   "source": [
    "# 生成[0, 10)区间内的随机整数，size指定生成几个数\n",
    "a = np.random.randint(low=10, size=5)\n",
    "print(a)\n",
    "# 生成[7, 10)区间内的随机数\n",
    "a = np.random.randint(low=7, high=10, size=5)\n",
    "print(a)"
   ]
  },
  {
   "cell_type": "code",
   "execution_count": null,
   "metadata": {},
   "outputs": [],
   "source": []
  },
  {
   "cell_type": "code",
   "execution_count": 28,
   "metadata": {},
   "outputs": [
    {
     "name": "stdout",
     "output_type": "stream",
     "text": [
      "1000\n"
     ]
    }
   ],
   "source": [
    "# 生成满足泊松分布的随机数，第一个参数lambda，第二个参数size指定生成几个数\n",
    "a = np.random.poisson(5, size=1000)\n",
    "print(len(a))"
   ]
  },
  {
   "cell_type": "code",
   "execution_count": 32,
   "metadata": {},
   "outputs": [
    {
     "name": "stdout",
     "output_type": "stream",
     "text": [
      "['d' 'd' 'd']\n",
      "['c' 'a' 'd']\n"
     ]
    }
   ],
   "source": [
    "# 生成随机样本\n",
    "arr = ['a', 'b', 'c', 'd', 'e']\n",
    "# 默认采样可重新放回\n",
    "# size指定生成几个数，p指定arr中每个数出现的概率\n",
    "a = np.random.choice(arr, size=3, p=(0.1, 0, 0.3, 0.6, 0))\n",
    "print(a)\n",
    "\n",
    "# 不可重新放回可指定replace=False\n",
    "a = np.random.choice(arr, size=3, replace=False, p=(0.1, 0, 0.3, 0.6, 0))\n",
    "print(a)"
   ]
  },
  {
   "cell_type": "markdown",
   "metadata": {},
   "source": [
    "# 练习三 - 见PPT"
   ]
  },
  {
   "cell_type": "code",
   "execution_count": 33,
   "metadata": {},
   "outputs": [
    {
     "name": "stdout",
     "output_type": "stream",
     "text": [
      "[6 0 0 8 7 5 0 7 4 5]\n",
      "[6 0 0 0 7 5 0 7 4 5]\n"
     ]
    }
   ],
   "source": [
    "# 练习三答案\n",
    "a = np.random.randint(0, 10, size=10)\n",
    "print(a)\n",
    "a[np.argmax(a)] = 0\n",
    "print(a)\n"
   ]
  },
  {
   "cell_type": "markdown",
   "metadata": {},
   "source": [
    "# 练习四 - 见PPT"
   ]
  },
  {
   "cell_type": "code",
   "execution_count": 37,
   "metadata": {},
   "outputs": [
    {
     "name": "stdout",
     "output_type": "stream",
     "text": [
      "[ 1.53208889 -0.12598626 -0.88069584 -0.36305775  0.62721032 -0.94881119\n",
      " -1.05333965 -1.77267945 -0.91551215 -2.66475156 -1.48918106 -3.48157046\n",
      " -1.68398236  0.31601764 -0.41533607  1.5479183   3.37500922  2.69301086\n",
      "  4.58404801  4.5491432   3.57952395  4.38854095  4.70140988  3.74014818\n",
      "  4.70607401  5.3353944   6.1925617   7.50467976  6.52305258  8.25510338\n",
      "  9.10033991  9.03054091 10.668845   11.576826   12.56451434 13.56451434\n",
      " 15.45555149 15.83716948 14.17909434 14.99256763 15.71190743 17.62451694\n",
      " 18.51552346 19.03316155 17.22054598 15.60251199 15.24414404 14.82832066\n",
      " 14.00916861 12.43314711 11.2575766  12.09624717 11.12595144 12.89184663\n",
      " 12.20780634 12.58241294 13.92067415 14.39014571 14.35524621 16.16786179\n",
      " 16.37691872 16.60186977 17.07134133 17.82055452 19.78380889 18.78928699\n",
      " 19.40732098 17.87523209 16.89360491 18.74797262 18.97292367 17.99855361\n",
      " 17.34249458 16.37219885 15.39782879 16.39402349 16.06845533 16.62764824\n",
      " 17.58395299 16.86461319 17.30298434 19.21559385 18.48424015 19.60262596\n",
      " 20.59714785 22.23545194 22.61005853 21.57998238 22.19564386 21.46429016\n",
      " 23.46429016 24.46368098 25.44848874 23.45336064 21.99065323 22.02555805\n",
      " 24.02555805 22.03316865 22.71720894 21.18512005 21.08044814 19.59415849\n",
      " 21.3433979  19.56138485 18.6050801  17.85586691 18.35586691 18.71423486\n",
      " 20.54132577 20.15059465 20.39433333 21.13747816 20.37143372 19.38980653\n",
      " 18.05154532 17.05535062 16.1164075  15.18922364 14.63003074 14.14522112\n",
      " 12.21336946 13.211999   13.79674241 12.82237234 11.82298152 12.7292893\n",
      " 11.75967006 11.01652524 12.81411333 12.13211497 11.10203882 11.79669719\n",
      "  9.96960628  9.12436975  8.1268057   8.21396144 10.02657702  9.88740392\n",
      " 10.46098035 12.45002414 13.22717011 13.31432585 15.30945395 14.951086\n",
      " 15.10752047 14.51973521 14.62440713 14.7980553  13.90704878 14.83423263\n",
      " 13.25821113 12.64017714 13.72945521 12.95230925 12.01336612 11.32932583\n",
      "  9.3805857  10.33164222 10.38397818  9.12533739  9.07300144  7.11670624\n",
      "  6.11685854  5.17791542  6.05253512  5.0531443   4.23967101  4.32682675\n",
      "  5.32545629  3.32667463  1.3461385  -0.41975669 -1.23890873  0.37912525\n",
      " -1.44796566 -1.37820919 -1.44796566 -2.16470156 -1.99039007 -0.67827202\n",
      " -0.50396053 -0.85125689  0.680832    0.10725556 -0.51077842 -1.50697312\n",
      " -0.65892503  0.82736462  1.47850093  1.51340043  1.92922381  1.24722545\n",
      "  2.92456659  3.89893665  5.80104968  5.80104968  6.27052125  7.00187495\n",
      "  7.31474388  7.12393488  5.20141149  5.34058459  5.69895254  5.9745899\n",
      "  4.85620409  5.7222295   5.94718055  7.91043492  6.92880773  7.58486676\n",
      "  6.95554637  8.8576594   7.07564636  8.38776441  7.90392062  8.47749706\n",
      "  7.89275365  8.36222521 10.25326236 12.03527541 14.01581155 14.99395915\n",
      " 15.82299672 14.9777602  15.39358358 15.06801543 15.81116025 16.35579929\n",
      " 15.04368123 16.21925173 15.40009969 16.06923029 16.15638604 15.74964939\n",
      " 14.19535747 16.19413913 14.46208832 13.46269749 12.76803912 10.78294682\n",
      "  9.94427625 10.22262245 12.22231784 12.60393583 14.22196982 14.39628131\n",
      " 15.38882746 15.09645575 15.9156078  17.11923784 18.50855458 17.55749807\n",
      " 15.70313036 17.60524339 18.48198569 17.27835564 18.00970934 19.87687019\n",
      " 19.87687019 18.88918185 20.80179137 22.08736658 22.17452233 22.54912892\n",
      " 22.24011193 23.14809293 22.16646574 21.52367813 23.5209372  22.73947495\n",
      " 23.6957797  23.52213152 23.90374951 23.49701287 24.49457692 23.58826913\n",
      " 22.83905595 22.30913668 20.30944129 19.38225744 17.42596224 16.53495571\n",
      " 16.81330191 15.63773141 13.87183622 14.47365125 14.91202239 16.57009754\n",
      " 18.55518984 17.70995332 19.70721239 20.55244891 21.40049701 22.37011625\n",
      " 21.88627246 22.91634861 23.27471656 24.36399463 24.12025594 22.16396074\n",
      " 22.76577576 23.64251806 22.64312723 21.92378743 22.92317826 23.16510015\n",
      " 23.85975852 25.71412623 27.42846083 28.17160566 27.18997847 28.95587366\n",
      " 28.51750251 29.4991297  30.3651551  28.48576986 26.99948021 27.61514168\n",
      " 26.58506553 26.0114891  26.66262541 28.48971632 28.41995985 27.84638341\n",
      " 28.15540041 27.21570778 26.85733983 28.60657925 28.65891521 27.42759225\n",
      " 28.27282878 28.66355991 29.41826949 28.88835022 29.20121915 29.44495784\n",
      " 31.24254593 30.28624118 31.029386   32.00375607 33.20738611 32.89836912\n",
      " 34.23663033 32.35724509 31.36955675 31.09391939 30.19512535 29.32050564\n",
      " 30.55182859 28.97580708 30.50789597 29.50789597 30.03781523 30.1942497\n",
      " 30.90135648 32.85009661 32.29090371 31.4922682  31.3530951  31.62873245\n",
      " 32.50335216 30.63619131 28.64714751 27.49999464 28.43893777 29.06825816\n",
      " 29.0159222  29.2942684  29.61983656 31.60888035 32.57917608 30.59408377\n",
      " 32.27142491 34.22016504 33.60213105 35.22016504 36.20497279 35.65369808\n",
      " 37.31177322 35.97351201 37.12066488 39.09604157 39.43806171 40.49790024\n",
      " 40.12329364 39.57865461 40.96797135 41.43744291 43.15177751 42.26882992\n",
      " 43.26882992 43.91161753 42.94199829 42.7340866  43.66127045 43.16127045\n",
      " 45.14636276 46.84245895 47.1897553  47.3805643  48.25730659 47.27249884\n",
      " 45.29712216 47.26673767 48.47036771 50.34975295 52.29034441 53.24664916\n",
      " 54.73293881 53.79935839 51.85061826 49.85822886 49.34319079 51.12520383\n",
      " 53.10573997 53.03594098 52.62920434 53.48637164 55.04066356 54.19261546\n",
      " 54.24495142 54.03589449 53.82683757 54.44249904 54.45995145 55.39353187\n",
      " 53.75522779 53.68547131 52.71517559 53.53432763 52.12011407 51.66612357\n",
      " 51.87518049 50.43650089 50.38416494 48.80814343 49.26213393 48.44866064\n",
      " 49.62423115 48.62970925 47.83107374 48.48221005 49.29122705 47.38911401\n",
      " 48.3707412  49.32179771 50.10980847 52.05039992 51.42107953 53.37737473\n",
      " 51.51021388 52.43071873 51.4971383  51.96660987 52.68594967 51.9912913\n",
      " 51.29663293 49.67859894 49.52216447 51.11943549 50.86061645 48.95850341\n",
      " 48.95850341 50.13407392 50.32488291 52.32214198 50.50952641 49.04681901\n",
      " 47.40851492 45.42342261 47.25051353 47.67313179 46.67556774 48.56660489\n",
      " 47.57041019 47.51807424 48.30608499 48.37584147 47.82456675 47.82456675\n",
      " 46.43525001 47.1844632  47.11466421 46.15340251 47.41204329 46.86740426\n",
      " 46.62366557 47.46890209 48.46890209 50.44427878 51.9985707  52.95487545\n",
      " 54.26699351 53.468358   52.56205022 53.55824491 55.04453456 55.66019604\n",
      " 56.17783413 56.05596479] [  1.28557522   2.40396103   1.747902     3.67975365   3.54058055\n",
      "   2.3092576    1.3147357    0.62007733   1.13511541   2.10473465\n",
      "   3.72276864   3.54845715   4.42519944   4.42519944   5.1071978\n",
      "   4.72557981   3.91210653   3.18075283   3.83188914   1.83219374\n",
      "   3.58143316   4.16921841   6.14459509   6.42023245   6.1614134\n",
      "   6.93855936   6.42352129   4.91410213   4.72329313   3.72329313\n",
      "   1.91067756  -0.08810409   1.05904878   2.84106183   2.99749629\n",
      "   2.99749629   3.6486326    1.68537823   2.80376404   4.63085496\n",
      "   3.93619659   3.35145318   3.80544368   5.73729533   4.89205881\n",
      "   3.7164883    2.78290787   4.73920308   5.31277951   4.08145656\n",
      "   5.69949055   5.15485152   5.39677341   6.33571654   4.45633129\n",
      "   5.38351515   6.8698048    5.98685721   6.98624803   6.14101151\n",
      "   8.1300553    9.10442537   9.98737296  11.84174067  11.46012268\n",
      "  11.56465114  13.46676417  12.18118895  12.37199795  11.62278476\n",
      "  12.59715483  12.37220377  11.61749419  11.85941609  12.08436714\n",
      "  12.17152289  13.11704146  12.28800389  11.99563218  11.30097381\n",
      "  10.40217977  10.98692318  10.30492482  11.96299996  12.06752842\n",
      "  10.92037555   9.9931917    8.2788571    7.49084634   6.80884798\n",
      "   6.80884798   6.77394849   6.94759666   6.80808372   5.444087\n",
      "   7.44378239   7.44378239   7.61809387   5.73870863   4.45313341\n",
      "   2.45587434   1.11761313   0.14799389  -0.75998711  -1.05235882\n",
      "   0.80200889  -0.06401651  -0.99759694  -1.81107022  -0.89056537\n",
      "  -2.87565767  -2.20652707  -1.56373946  -1.75454845  -3.2408381\n",
      "  -3.15368236  -4.91957755  -5.29418414  -4.46514657  -3.59052686\n",
      "  -4.10816495  -4.05582899  -5.96843851  -5.74348745  -5.77838695\n",
      "  -6.20100521  -7.95024462  -8.61937523  -7.74263294  -7.01127924\n",
      "  -8.72561384  -8.00627404  -8.81974732 -10.6323629  -10.56260642\n",
      "  -9.56641173  -8.7211752   -9.71144327  -8.89229123  -8.6832343\n",
      "  -9.31255469  -8.31635999  -8.45587294  -7.52229251  -6.53460417\n",
      "  -5.72558718  -7.72284625  -8.707654    -8.2536635   -8.62827009\n",
      "  -9.85959305  -7.95748001  -6.28013888  -6.90945927  -8.67535445\n",
      " -10.5547397  -11.0046418  -11.3136588  -12.31228833 -10.75799641\n",
      " -11.75662594 -11.34080256 -11.35825497  -9.59235978 -10.0771694\n",
      " -10.1120689   -8.28497799  -7.28878329  -7.23644733  -7.30624632\n",
      "  -7.58459253  -8.52353565  -9.09711209 -10.27268259 -11.08615588\n",
      " -12.08371993 -11.08615588 -12.95331673 -14.94570613 -13.43628697\n",
      " -11.44389757 -13.41351308 -12.12793786 -12.9470899  -14.84920294\n",
      " -14.93635868 -15.46627794 -16.80453916 -14.913502   -13.91411118\n",
      " -11.95781598 -12.68916968 -11.59989161 -11.82484266 -11.20680867\n",
      " -13.20680867 -12.32386108 -13.00585944 -11.03048276 -10.04885558\n",
      "  -9.49758086  -8.50731279  -9.44089322  -8.47963153  -6.82155638\n",
      "  -7.32155638  -8.29592645  -7.91430845  -8.10511745  -8.85982703\n",
      "  -8.08268107  -7.46464708  -8.37262808  -9.88204724 -11.82263869\n",
      " -11.00348665  -9.09087714  -8.20792954  -7.55679323  -8.46477423\n",
      "  -8.74312044  -8.95103213  -8.39183922 -10.2044548  -12.16075\n",
      " -13.10626857 -12.43713797 -13.27580854 -11.76638938 -10.14835539\n",
      "  -9.57477895 -10.31792378 -11.31411847 -12.22766393 -13.48630471\n",
      " -13.55610371 -12.55610371 -12.5910032  -13.310343   -13.55408169\n",
      " -13.00944266 -14.98997879 -15.02488361 -16.98813797 -15.81256747\n",
      " -13.82017807 -13.94204742 -12.98574266 -13.5593191  -11.96204808\n",
      " -13.40072768 -13.70974467 -14.45895786 -13.84092387 -15.63851196\n",
      " -17.23578298 -17.91778134 -18.63451724 -19.63451724 -19.47808278\n",
      " -18.89333937 -17.36125048 -16.36505578 -15.43787193 -16.38892844\n",
      " -14.6069154  -14.79772439 -14.03167995 -13.92700804 -15.76801774\n",
      " -16.06038945 -17.0451972  -15.08194283 -15.99548829 -15.92573182\n",
      " -16.34835008 -18.20271779 -19.05076588 -19.0856707  -19.46027729\n",
      " -19.87610067 -19.42211017 -17.44157403 -19.05960802 -18.1206649\n",
      " -17.32202939 -18.22082343 -19.33920924 -19.09547055 -20.90808613\n",
      " -21.01275804 -22.82537361 -22.29545435 -24.04469376 -22.10410231\n",
      " -23.81843691 -22.88485649 -21.20751535 -19.22242305 -19.63824643\n",
      " -20.43688194 -18.63929385 -18.67419334 -17.97953497 -17.94463548\n",
      " -16.97433975 -17.69367955 -18.44289274 -19.47296889 -20.14209949\n",
      " -19.9512905  -19.01234737 -18.11355333 -17.92274433 -17.42274433\n",
      " -16.73870404 -15.40044283 -14.61243208 -12.89809748 -12.07894543\n",
      " -10.18790828 -11.00138157 -11.99894562 -11.17979357 -12.13085009\n",
      " -12.47287023 -13.40645066 -14.3760699  -15.37469943 -13.79867793\n",
      " -11.98606235 -12.90656721 -13.56262624 -14.41067433 -12.43529765\n",
      " -14.42038995 -15.29713225 -15.00476054 -14.33562994 -14.56058099\n",
      " -16.15785201 -15.20679549 -16.69308515 -16.00904486 -15.85261039\n",
      " -14.8913487  -15.32971984 -14.84491022 -13.26888872 -14.50021167\n",
      " -15.78578689 -14.05373608 -14.90178418 -15.88947252 -16.5965793\n",
      " -16.14667719 -15.31763962 -14.71582459 -15.70609266 -16.66735436\n",
      " -16.18254474 -15.46580884 -15.67486577 -14.03656168 -15.80245686\n",
      " -15.0253109  -14.02668137 -12.04614523 -12.9916638  -12.78260688\n",
      " -13.02452877 -12.78079009 -11.69151202 -12.14141413 -14.04352716\n",
      " -12.86795665 -13.04160483 -14.96412822 -16.08251403 -14.59622438\n",
      " -16.23452847 -16.5473974  -15.60770478 -17.30380097 -16.37661711\n",
      " -15.53794655 -16.97662615 -16.09367855 -17.1237547  -16.65428314\n",
      " -16.65428314 -15.8882387  -14.13899928 -15.11714688 -15.49175348\n",
      " -16.35777888 -16.11404019 -15.05420167 -13.08458616 -12.10295898\n",
      " -10.30537088 -10.47901906 -10.16615013 -10.51344649 -12.11071751\n",
      " -12.79475779 -13.27860159 -13.57097329 -14.9092345  -15.26760245\n",
      " -14.81770034 -14.64338886 -13.78622156 -14.69420256 -14.41585635\n",
      " -12.4170747  -11.50352924 -10.98849117  -9.72985039 -10.25976965\n",
      "  -9.26114012 -11.25018391 -13.2392277  -12.45121694 -13.45106464\n",
      " -13.09269669 -11.94554382 -12.94310787 -12.70118597 -13.27476241\n",
      " -11.86054885 -12.75155537 -10.76251158 -12.15182832 -11.15319878\n",
      "  -9.92187583 -10.81288236  -8.98579144  -7.36775745  -7.47228592\n",
      "  -6.87047089  -8.76150805  -8.17372279  -8.79175678  -8.98256578\n",
      "  -9.29158277  -8.6759213   -8.19207751  -8.96922347  -8.55340009\n",
      "  -9.27013598  -8.87940486  -9.23777281 -10.1207204   -9.42606203\n",
      " -10.14540183  -9.42606203 -10.60163253 -11.58932087 -10.38569083\n",
      " -11.35161665 -10.73358266  -9.73358266 -11.35161665 -12.33324384\n",
      " -12.43791575 -11.59267923 -10.22868251  -9.08152963  -8.83779095\n",
      "  -9.65126423  -8.74495644  -8.81471292  -9.46584923  -9.37869348\n",
      "  -8.38006395  -8.99572543  -9.99328948 -11.91581287 -10.91581287\n",
      "  -9.47713327  -7.62276556  -5.6239839   -5.89962126  -7.45391318\n",
      "  -8.29258375 -10.27767605  -8.46506048  -6.73300967  -6.42014074\n",
      "  -7.67878152  -7.38640982  -8.89582898  -8.29401396  -7.87139569\n",
      "  -7.95855144  -6.62029022  -5.83227947  -3.90042782  -2.90788167]\n"
     ]
    },
    {
     "data": {
      "image/png": "[encoded data removed]",
      "text/plain": [
       "<Figure size 432x288 with 1 Axes>"
      ]
     },
     "metadata": {
      "needs_background": "light"
     },
     "output_type": "display_data"
    }
   ],
   "source": [
    "# 练习四答案\n",
    "N = 500 # steps\n",
    "\n",
    "r = np.random.randint(1,3,N) # move 1 or 2 units of distance each step\n",
    "theta = np.radians(np.random.randint(0,361,N))\n",
    "\n",
    "# np.cumsum Return the cumulative sum of the elements along a given axis.\n",
    "x = np.cumsum(r*np.cos(theta))\n",
    "y = np.cumsum(r*np.sin(theta))\n",
    "print(x, y)\n",
    "import matplotlib.pyplot as plt\n",
    "plt.plot(x, y)\n",
    "plt.show()\n"
   ]
  },
  {
   "cell_type": "markdown",
   "metadata": {},
   "source": [
    "# 实战项目 - 见PPT"
   ]
  },
  {
   "cell_type": "code",
   "execution_count": null,
   "metadata": {},
   "outputs": [],
   "source": []
  },
  {
   "cell_type": "code",
   "execution_count": null,
   "metadata": {},
   "outputs": [],
   "source": []
  },
  {
   "cell_type": "code",
   "execution_count": null,
   "metadata": {},
   "outputs": [],
   "source": []
  },
  {
   "cell_type": "markdown",
   "metadata": {},
   "source": [
    "# 实战项目答案"
   ]
  },
  {
   "cell_type": "code",
   "execution_count": 39,
   "metadata": {},
   "outputs": [],
   "source": [
    "# 实战数据\n",
    "np.random.seed(1)\n",
    "values = np.random.randn(1000).cumsum()"
   ]
  },
  {
   "cell_type": "code",
   "execution_count": 41,
   "metadata": {},
   "outputs": [
    {
     "name": "stdout",
     "output_type": "stream",
     "text": [
      "17.008446252634755\n"
     ]
    }
   ],
   "source": [
    "# 实现\n",
    "max_drawdown = np.max(np.maximum.accumulate(values) - values)\n",
    "print(max_drawdown)"
   ]
  },
  {
   "cell_type": "code",
   "execution_count": null,
   "metadata": {},
   "outputs": [],
   "source": []
  },
  {
   "cell_type": "code",
   "execution_count": null,
   "metadata": {},
   "outputs": [],
   "source": []
  }
 ],
 "metadata": {
  "kernelspec": {
   "display_name": "Python 3",
   "language": "python",
   "name": "python3"
  },
  "language_info": {
   "codemirror_mode": {
    "name": "ipython",
    "version": 3
   },
   "file_extension": ".py",
   "mimetype": "text/x-python",
   "name": "python",
   "nbconvert_exporter": "python",
   "pygments_lexer": "ipython3",
   "version": "3.7.4"
  }
 },
 "nbformat": 4,
 "nbformat_minor": 2
}
