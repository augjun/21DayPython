{
 "cells": [
  {
   "cell_type": "markdown",
   "metadata": {},
   "source": [
    "# 更高级的print用法"
   ]
  },
  {
   "cell_type": "code",
   "execution_count": 1,
   "metadata": {},
   "outputs": [
    {
     "name": "stdout",
     "output_type": "stream",
     "text": [
      "Hello world\n"
     ]
    }
   ],
   "source": [
    "# 打印多个参数\n",
    "print(\"Hello\", \"world\")"
   ]
  },
  {
   "cell_type": "code",
   "execution_count": 2,
   "metadata": {},
   "outputs": [
    {
     "name": "stdout",
     "output_type": "stream",
     "text": [
      "Hello, John\n"
     ]
    }
   ],
   "source": [
    "print(\"Hello\" + \", \" + \"John\")"
   ]
  },
  {
   "cell_type": "code",
   "execution_count": 3,
   "metadata": {},
   "outputs": [
    {
     "name": "stdout",
     "output_type": "stream",
     "text": [
      "Hello \n",
      "World\n",
      "Hello World\n"
     ]
    }
   ],
   "source": [
    "# print默认使用换行作为结束符，看下面的例子\n",
    "print(\"Hello \")\n",
    "print(\"World\")\n",
    "# 自定义结束字符串\n",
    "print(\"Hello \", end=\"\")\n",
    "print(\"World\")"
   ]
  },
  {
   "cell_type": "markdown",
   "metadata": {},
   "source": [
    "# 更高级的import"
   ]
  },
  {
   "cell_type": "code",
   "execution_count": 4,
   "metadata": {},
   "outputs": [
    {
     "data": {
      "text/plain": [
       "1.4142135623730951"
      ]
     },
     "execution_count": 4,
     "metadata": {},
     "output_type": "execute_result"
    }
   ],
   "source": [
    "# 导入时重命名模块\n",
    "import math as m\n",
    "m.sqrt(2)"
   ]
  },
  {
   "cell_type": "code",
   "execution_count": 5,
   "metadata": {},
   "outputs": [
    {
     "data": {
      "text/plain": [
       "1.4142135623730951"
      ]
     },
     "execution_count": 5,
     "metadata": {},
     "output_type": "execute_result"
    }
   ],
   "source": [
    "# 导入模块中的指定函数\n",
    "from math import sqrt\n",
    "sqrt(2)"
   ]
  },
  {
   "cell_type": "code",
   "execution_count": 6,
   "metadata": {},
   "outputs": [
    {
     "data": {
      "text/plain": [
       "2"
      ]
     },
     "execution_count": 6,
     "metadata": {},
     "output_type": "execute_result"
    }
   ],
   "source": [
    "# 导入模块中的所有函数\n",
    "from math import *\n",
    "sqrt(2)\n",
    "floor(2.1)"
   ]
  },
  {
   "cell_type": "code",
   "execution_count": null,
   "metadata": {},
   "outputs": [],
   "source": []
  },
  {
   "cell_type": "markdown",
   "metadata": {},
   "source": [
    "# 更高级的赋值"
   ]
  },
  {
   "cell_type": "code",
   "execution_count": 7,
   "metadata": {},
   "outputs": [
    {
     "name": "stdout",
     "output_type": "stream",
     "text": [
      "1\n",
      "2\n"
     ]
    }
   ],
   "source": [
    "# 同时给多个变量赋值\n",
    "x, y = (1, 2)\n",
    "print(x)\n",
    "print(y)"
   ]
  },
  {
   "cell_type": "code",
   "execution_count": 8,
   "metadata": {},
   "outputs": [
    {
     "name": "stdout",
     "output_type": "stream",
     "text": [
      "2\n",
      "1\n"
     ]
    }
   ],
   "source": [
    "# 交换变量值\n",
    "x, y = y, x\n",
    "print(x)\n",
    "print(y)"
   ]
  },
  {
   "cell_type": "code",
   "execution_count": 9,
   "metadata": {},
   "outputs": [
    {
     "name": "stdout",
     "output_type": "stream",
     "text": [
      "1 2\n",
      "[3, 4, 5]\n"
     ]
    }
   ],
   "source": [
    "# 用星号（*）收集多余的值\n",
    "x, y, *rest = (1, 2, 3, 4, 5)\n",
    "print(x, y)\n",
    "print(rest)"
   ]
  },
  {
   "cell_type": "code",
   "execution_count": 10,
   "metadata": {},
   "outputs": [
    {
     "name": "stdout",
     "output_type": "stream",
     "text": [
      "1 1 1\n"
     ]
    }
   ],
   "source": [
    "# 链式赋值\n",
    "x = y = z = 1\n",
    "print(x, y, z)"
   ]
  },
  {
   "cell_type": "code",
   "execution_count": 11,
   "metadata": {},
   "outputs": [
    {
     "name": "stdout",
     "output_type": "stream",
     "text": [
      "6\n",
      "8\n"
     ]
    }
   ],
   "source": [
    "# 增强赋值\n",
    "x = 5\n",
    "x += 1 # x = x+1\n",
    "print(x)\n",
    "x += 2 # x = x+2\n",
    "print(x)"
   ]
  },
  {
   "cell_type": "markdown",
   "metadata": {},
   "source": [
    "# 缩进"
   ]
  },
  {
   "cell_type": "code",
   "execution_count": 12,
   "metadata": {},
   "outputs": [
    {
     "name": "stdout",
     "output_type": "stream",
     "text": [
      "5\n"
     ]
    }
   ],
   "source": [
    "# Python中通过缩进来创建代码块，代码块是一组语句\n",
    "# 下面是一个例子\n",
    "a = 5\n",
    "for i in range(10):\n",
    "    if i == a:\n",
    "        print(i)\n",
    "        break"
   ]
  },
  {
   "cell_type": "code",
   "execution_count": 13,
   "metadata": {},
   "outputs": [],
   "source": [
    "# 我们的课程中全部使用4个空格作为缩进\n"
   ]
  },
  {
   "cell_type": "code",
   "execution_count": null,
   "metadata": {},
   "outputs": [],
   "source": []
  },
  {
   "cell_type": "markdown",
   "metadata": {},
   "source": [
    "# 条件语句"
   ]
  },
  {
   "cell_type": "code",
   "execution_count": 14,
   "metadata": {},
   "outputs": [
    {
     "name": "stdout",
     "output_type": "stream",
     "text": [
      "False\n",
      "True\n",
      "False\n"
     ]
    }
   ],
   "source": [
    "# 条件测试\n",
    "a = 5\n",
    "print(a == 10)\n",
    "print(a > 1)\n",
    "\n",
    "cellphone = \"iphone\"\n",
    "print(cellphone == \"xiaomi\")"
   ]
  },
  {
   "cell_type": "code",
   "execution_count": 15,
   "metadata": {},
   "outputs": [
    {
     "name": "stdout",
     "output_type": "stream",
     "text": [
      "True\n",
      "False\n"
     ]
    },
    {
     "data": {
      "text/plain": [
       "True"
      ]
     },
     "execution_count": 15,
     "metadata": {},
     "output_type": "execute_result"
    }
   ],
   "source": [
    "# 常见的比较运算\n",
    "a = 5\n",
    "a == 5\n",
    "a > 5\n",
    "a < 5\n",
    "a >= 5\n",
    "a <= 5\n",
    "a != 5\n",
    "not a == 5\n",
    "\n",
    "# is检查两个对象是否相同\n",
    "b = [1, 2, 3]\n",
    "c = b\n",
    "print(b is c)\n",
    "b is not c\n",
    "\n",
    "d = [1, 2, 3]\n",
    "print(b is d)\n",
    "\n",
    "# 检查列表中是否包含值\n",
    "d = [1, 2, 3]\n",
    "1 in d\n",
    "\n",
    "# 检查字典中是否包含key\n",
    "person = {\"name\": \"john\", \"age\": 27}\n",
    "\"name\" in person\n",
    "\n"
   ]
  },
  {
   "cell_type": "code",
   "execution_count": 16,
   "metadata": {},
   "outputs": [
    {
     "name": "stdout",
     "output_type": "stream",
     "text": [
      "[5, 2, 3]\n",
      "[5, 2, 3]\n",
      "[5, 2, 3]\n",
      "[1, 2, 3]\n"
     ]
    }
   ],
   "source": [
    "# is检查两个对象是否相同，而==检查两个对象是否相等\n",
    "# 什么是同一个对象？\n",
    "# 下面的x和y是同一个对象\n",
    "x = [1, 2, 3]\n",
    "y = x\n",
    "x[0] = 5\n",
    "print(x)\n",
    "print(y)\n",
    "\n",
    "# 下面的x和y不是同一个对象\n",
    "x = [1, 2, 3]\n",
    "y = [1, 2, 3]\n",
    "x[0] = 5\n",
    "print(x)\n",
    "print(y)"
   ]
  },
  {
   "cell_type": "code",
   "execution_count": 17,
   "metadata": {},
   "outputs": [
    {
     "data": {
      "text/plain": [
       "True"
      ]
     },
     "execution_count": 17,
     "metadata": {},
     "output_type": "execute_result"
    }
   ],
   "source": [
    "# 字符串的比较，根据字母排列顺序做比较\n",
    "a = \"apple\"\n",
    "b = \"orange\"\n",
    "a < b"
   ]
  },
  {
   "cell_type": "code",
   "execution_count": 18,
   "metadata": {},
   "outputs": [
    {
     "data": {
      "text/plain": [
       "False"
      ]
     },
     "execution_count": 18,
     "metadata": {},
     "output_type": "execute_result"
    }
   ],
   "source": [
    "# 使用and检查多个条件\n",
    "age1 = 20\n",
    "age2 = 16\n",
    "age1 < 18 and age2 < 18\n"
   ]
  },
  {
   "cell_type": "code",
   "execution_count": 19,
   "metadata": {},
   "outputs": [
    {
     "data": {
      "text/plain": [
       "True"
      ]
     },
     "execution_count": 19,
     "metadata": {},
     "output_type": "execute_result"
    }
   ],
   "source": [
    "# 使用or检查多个条件\n",
    "age1 = 20\n",
    "age2 = 16\n",
    "age1 < 18 or age2 < 18\n"
   ]
  },
  {
   "cell_type": "code",
   "execution_count": 20,
   "metadata": {},
   "outputs": [
    {
     "name": "stdout",
     "output_type": "stream",
     "text": [
      "a is zero\n"
     ]
    }
   ],
   "source": [
    "# if, elif, else语句\n",
    "a = 0\n",
    "if a > 0:\n",
    "    print(\"a is positive\")\n",
    "elif a == 0:\n",
    "    print(\"a is zero\")\n",
    "else:\n",
    "    print(\"a is negative\")"
   ]
  },
  {
   "cell_type": "markdown",
   "metadata": {},
   "source": [
    "# 练习一 - 见PPT"
   ]
  },
  {
   "cell_type": "code",
   "execution_count": 21,
   "metadata": {},
   "outputs": [
    {
     "name": "stdout",
     "output_type": "stream",
     "text": [
      "Please input your age: 20\n",
      "adult\n"
     ]
    }
   ],
   "source": [
    "# 练习一答案\n",
    "age = input(\"Please input your age: \")\n",
    "age = int(age)\n",
    "if age >= 18:\n",
    "    print(\"adult\")\n",
    "else:\n",
    "    print(\"not an adult\")"
   ]
  },
  {
   "cell_type": "markdown",
   "metadata": {},
   "source": [
    "# 练习二 - 见PPT"
   ]
  },
  {
   "cell_type": "code",
   "execution_count": 22,
   "metadata": {},
   "outputs": [
    {
     "name": "stdout",
     "output_type": "stream",
     "text": [
      "Please input your salary: 1000\n",
      "0\n"
     ]
    }
   ],
   "source": [
    "# 练习二答案\n",
    "salary = float(input(\"Please input your salary: \"))\n",
    "taxable = salary - 5000*12\n",
    "tax = 0\n",
    "if taxable < 0:\n",
    "    tax = 0\n",
    "elif taxable <= 36000:\n",
    "    tax = taxable * 0.03\n",
    "elif taxable <= 144000:\n",
    "    tax = taxable * 0.10 - 2520\n",
    "elif taxable <= 300000:\n",
    "    tax = taxable * 0.20 - 16920\n",
    "elif taxable <= 420000:\n",
    "    tax = taxable * 0.25 - 31920\n",
    "elif taxable <= 660000:\n",
    "    tax = taxable * 0.30 - 52920\n",
    "elif taxable <= 960000:\n",
    "    tax = taxable * 0.35 - 85920\n",
    "else:\n",
    "    tax = taxable * 0.45 - 181920\n",
    "print(tax)\n"
   ]
  },
  {
   "cell_type": "markdown",
   "metadata": {},
   "source": [
    "# 循环"
   ]
  },
  {
   "cell_type": "code",
   "execution_count": 23,
   "metadata": {},
   "outputs": [
    {
     "name": "stdout",
     "output_type": "stream",
     "text": [
      "1\n",
      "2\n",
      "3\n",
      "4\n",
      "5\n",
      "6\n",
      "7\n",
      "8\n",
      "9\n",
      "10\n"
     ]
    }
   ],
   "source": [
    "# while循环\n",
    "x = 1\n",
    "while x <= 10:\n",
    "    print(x)\n",
    "    x += 1\n"
   ]
  },
  {
   "cell_type": "markdown",
   "metadata": {},
   "source": [
    "# 练习三 - 见PPT"
   ]
  },
  {
   "cell_type": "code",
   "execution_count": 24,
   "metadata": {},
   "outputs": [
    {
     "name": "stdout",
     "output_type": "stream",
     "text": [
      "Please input your guess: 500\n",
      "your guess is larger than the number\n",
      "Please input your guess: 200\n",
      "your guess is smaller than the number\n",
      "Please input your guess: 300\n",
      "your guess is smaller than the number\n",
      "Please input your guess: 400\n",
      "your guess is smaller than the number\n",
      "Please input your guess: 450\n",
      "your guess is larger than the number\n",
      "Please input your guess: 480\n",
      "your guess is larger than the number\n",
      "Please input your guess: 420\n",
      "your guess is larger than the number\n",
      "Please input your guess: 410\n",
      "your guess is smaller than the number\n",
      "Please input your guess: 415\n",
      "your guess is larger than the number\n",
      "Please input your guess: 412\n",
      "you guess is right. you win.\n"
     ]
    },
    {
     "ename": "SystemExit",
     "evalue": "0",
     "output_type": "error",
     "traceback": [
      "An exception has occurred, use %tb to see the full traceback.\n",
      "\u001b[0;31mSystemExit\u001b[0m\u001b[0;31m:\u001b[0m 0\n"
     ]
    },
    {
     "name": "stderr",
     "output_type": "stream",
     "text": [
      "/usr/lib/python3/dist-packages/IPython/core/interactiveshell.py:2890: UserWarning: To exit: use 'exit', 'quit', or Ctrl-D.\n",
      "  warn(\"To exit: use 'exit', 'quit', or Ctrl-D.\", stacklevel=1)\n"
     ]
    }
   ],
   "source": [
    "# 练习三答案\n",
    "import random\n",
    "import sys\n",
    "num = random.randint(1, 1000)\n",
    "while True:\n",
    "    guess = int(input(\"Please input your guess: \"))\n",
    "    if guess > num:\n",
    "        print(\"your guess is larger than the number\")\n",
    "    elif guess < num:\n",
    "        print(\"your guess is smaller than the number\")\n",
    "    else:\n",
    "        print(\"you guess is right. you win.\")\n",
    "        sys.exit(0)\n"
   ]
  },
  {
   "cell_type": "code",
   "execution_count": 25,
   "metadata": {},
   "outputs": [
    {
     "name": "stdout",
     "output_type": "stream",
     "text": [
      "John\n",
      "is\n",
      "an\n",
      "analyst\n"
     ]
    }
   ],
   "source": [
    "# for循环\n",
    "# 遍历列表\n",
    "text = [\"John\", \"is\", \"an\", \"analyst\"]\n",
    "for word in text:\n",
    "    print(word)"
   ]
  },
  {
   "cell_type": "code",
   "execution_count": 26,
   "metadata": {},
   "outputs": [
    {
     "name": "stdout",
     "output_type": "stream",
     "text": [
      "name John\n",
      "age 27\n"
     ]
    }
   ],
   "source": [
    "# 遍历字典\n",
    "person = {\"name\": \"John\", \"age\": 27}\n",
    "for key, value in person.items():\n",
    "    print(key, value)"
   ]
  },
  {
   "cell_type": "code",
   "execution_count": 27,
   "metadata": {},
   "outputs": [
    {
     "data": {
      "text/plain": [
       "[1, 3, 5, 7, 9]"
      ]
     },
     "execution_count": 27,
     "metadata": {},
     "output_type": "execute_result"
    }
   ],
   "source": [
    "# range函数，创建一个范围\n",
    "range(10)\n",
    "range(5, 10)\n",
    "list(range(1, 10, 2))"
   ]
  },
  {
   "cell_type": "markdown",
   "metadata": {},
   "source": [
    "# 练习四 - 见PPT"
   ]
  },
  {
   "cell_type": "code",
   "execution_count": 28,
   "metadata": {},
   "outputs": [
    {
     "name": "stdout",
     "output_type": "stream",
     "text": [
      "5050\n"
     ]
    }
   ],
   "source": [
    "# 练习四答案\n",
    "result = 0\n",
    "for i in range(1, 101):\n",
    "    result += i\n",
    "print(result)\n"
   ]
  },
  {
   "cell_type": "markdown",
   "metadata": {},
   "source": [
    "# 练习五 - 见PPT"
   ]
  },
  {
   "cell_type": "code",
   "execution_count": 29,
   "metadata": {},
   "outputs": [
    {
     "name": "stdout",
     "output_type": "stream",
     "text": [
      "12000\n"
     ]
    }
   ],
   "source": [
    "# 练习五答案\n",
    "sales = {\"john\": 2500, \"jack\": 2000, \"henry\": 500, \"lisa\": 7000}\n",
    "\n",
    "total = 0\n",
    "for name, amount in sales.items():\n",
    "    total += amount\n",
    "print(total)\n"
   ]
  },
  {
   "cell_type": "markdown",
   "metadata": {},
   "source": [
    "# 跳出循环"
   ]
  },
  {
   "cell_type": "code",
   "execution_count": 30,
   "metadata": {
    "scrolled": true
   },
   "outputs": [
    {
     "name": "stdout",
     "output_type": "stream",
     "text": [
      "0\n",
      "1\n",
      "2\n",
      "3\n",
      "4\n",
      "5\n"
     ]
    }
   ],
   "source": [
    "# break用于跳出循环\n",
    "for i in range(10):\n",
    "    print(i)\n",
    "    if i == 5:\n",
    "        break\n"
   ]
  },
  {
   "cell_type": "markdown",
   "metadata": {},
   "source": [
    "# 强制进入下一次循环"
   ]
  },
  {
   "cell_type": "code",
   "execution_count": 31,
   "metadata": {},
   "outputs": [
    {
     "name": "stdout",
     "output_type": "stream",
     "text": [
      "5\n",
      "hello\n",
      "blabla\n",
      "6\n",
      "hello\n",
      "blabla\n",
      "7\n",
      "hello\n",
      "blabla\n",
      "8\n",
      "hello\n",
      "blabla\n",
      "9\n",
      "hello\n",
      "blabla\n"
     ]
    }
   ],
   "source": [
    "# continue用于强制进入下一次循环\n",
    "for i in range(10):\n",
    "    if i < 5:\n",
    "        continue\n",
    "    print(i)\n",
    "    print(\"hello\")\n",
    "    print(\"blabla\")"
   ]
  },
  {
   "cell_type": "markdown",
   "metadata": {},
   "source": [
    "# 练习六 - 见PPT"
   ]
  },
  {
   "cell_type": "code",
   "execution_count": 32,
   "metadata": {},
   "outputs": [
    {
     "name": "stdout",
     "output_type": "stream",
     "text": [
      "True\n"
     ]
    }
   ],
   "source": [
    "# 练习六答案\n",
    "import math\n",
    "num = 101\n",
    "not_prime = False\n",
    "end = int(math.sqrt(num))\n",
    "for i in range(2, end+1):\n",
    "    if num % i == 0:\n",
    "        not_prime = True\n",
    "        break\n",
    "is_prime = not not_prime\n",
    "print(is_prime)\n"
   ]
  },
  {
   "cell_type": "markdown",
   "metadata": {},
   "source": [
    "# 重温列表推导式"
   ]
  },
  {
   "cell_type": "code",
   "execution_count": 33,
   "metadata": {},
   "outputs": [
    {
     "data": {
      "text/plain": [
       "[0, 1, 2, 3, 4, 5, 6, 7, 8, 9]"
      ]
     },
     "execution_count": 33,
     "metadata": {},
     "output_type": "execute_result"
    }
   ],
   "source": [
    "[x for x in range(10)]"
   ]
  },
  {
   "cell_type": "code",
   "execution_count": 34,
   "metadata": {},
   "outputs": [
    {
     "data": {
      "text/plain": [
       "[0, 1, 4, 9, 16, 25, 36, 49, 64, 81]"
      ]
     },
     "execution_count": 34,
     "metadata": {},
     "output_type": "execute_result"
    }
   ],
   "source": [
    "[x**2 for x in range(10)]"
   ]
  },
  {
   "cell_type": "code",
   "execution_count": 35,
   "metadata": {},
   "outputs": [
    {
     "data": {
      "text/plain": [
       "[0, 4, 16, 36, 64]"
      ]
     },
     "execution_count": 35,
     "metadata": {},
     "output_type": "execute_result"
    }
   ],
   "source": [
    "# 添加if语句\n",
    "[x**2 for x in range(10) if x % 2 == 0]"
   ]
  },
  {
   "cell_type": "code",
   "execution_count": 36,
   "metadata": {},
   "outputs": [
    {
     "data": {
      "text/plain": [
       "[(0, 0), (0, 1), (0, 2), (1, 0), (1, 1), (1, 2), (2, 0), (2, 1), (2, 2)]"
      ]
     },
     "execution_count": 36,
     "metadata": {},
     "output_type": "execute_result"
    }
   ],
   "source": [
    "# 添加更多的for\n",
    "[(x, y) for x in range(3) for y in range(3)]"
   ]
  },
  {
   "cell_type": "markdown",
   "metadata": {},
   "source": [
    "# 练习七 - 见PPT"
   ]
  },
  {
   "cell_type": "code",
   "execution_count": 37,
   "metadata": {},
   "outputs": [
    {
     "name": "stdout",
     "output_type": "stream",
     "text": [
      "[(0, True), (1, False), (2, True), (3, False), (4, False)]\n"
     ]
    },
    {
     "data": {
      "text/plain": [
       "[1, 3, 4]"
      ]
     },
     "execution_count": 37,
     "metadata": {},
     "output_type": "execute_result"
    }
   ],
   "source": [
    "# 练习七答案\n",
    "a = [True, False, True, False, False]\n",
    "print(list(enumerate(a)))\n",
    "[i for i, e in enumerate(a) if e == False]\n"
   ]
  },
  {
   "cell_type": "markdown",
   "metadata": {},
   "source": [
    "# 实战项目 - 见PPT"
   ]
  },
  {
   "cell_type": "markdown",
   "metadata": {},
   "source": [
    "# 实战答案"
   ]
  },
  {
   "cell_type": "code",
   "execution_count": 38,
   "metadata": {
    "scrolled": false
   },
   "outputs": [
    {
     "name": "stdout",
     "output_type": "stream",
     "text": [
      "                                                            \n",
      "                                                            \n",
      "                                                            \n",
      "                                                            \n",
      "                                                            \n",
      "                                                            \n",
      "                                                            \n",
      "                                                            \n",
      "                                                            \n",
      "                                                            \n",
      "                                                            \n",
      "                                                            \n",
      "                                                            \n",
      "                                                            \n",
      "                                                            \n",
      "                                                            \n",
      "                                                            \n",
      "                                                            \n",
      "            veLoveLoveL               LoveLoveLov           \n",
      "        eLoveLoveLoveLoveLov     LoveLoveLoveLoveLove       \n",
      "     oveLoveLoveLoveLoveLoveLoveLoveLoveLoveLoveLoveLove    \n",
      "    oveLoveLoveLoveLoveLoveLoveLoveLoveLoveLoveLoveLoveLo   \n",
      "   oveLoveLoveLoveLoveLoveLoveLoveLoveLoveLoveLoveLoveLove  \n",
      "  oveLoveLoveLoveLoveLoveLoveLoveLoveLoveLoveLoveLoveLoveLo \n",
      "  veLoveLoveLoveLoveLoveLoveLoveLoveLoveLoveLoveLoveLoveLov \n",
      "  eLoveLoveLoveLoveLoveLoveLoveLoveLoveLoveLoveLoveLoveLove \n",
      "  LoveLoveLoveLoveLoveLoveLoveLoveLoveLoveLoveLoveLoveLoveL \n",
      "   veLoveLoveLoveLoveLoveLoveLoveLoveLoveLoveLoveLoveLoveL  \n",
      "   eLoveLoveLoveLoveLoveLoveLoveLoveLoveLoveLoveLoveLoveLo  \n",
      "    oveLoveLoveLoveLoveLoveLoveLoveLoveLoveLoveLoveLoveLo   \n",
      "     eLoveLoveLoveLoveLoveLoveLoveLoveLoveLoveLoveLoveLo    \n",
      "       veLoveLoveLoveLoveLoveLoveLoveLoveLoveLoveLoveL      \n",
      "        LoveLoveLoveLoveLoveLoveLoveLoveLoveLoveLoveL       \n",
      "          eLoveLoveLoveLoveLoveLoveLoveLoveLoveLove         \n",
      "            veLoveLoveLoveLoveLoveLoveLoveLoveLov           \n",
      "               veLoveLoveLoveLoveLoveLoveLoveL              \n",
      "                  veLoveLoveLoveLoveLoveLov                 \n",
      "                     veLoveLoveLoveLoveL                    \n",
      "                         eLoveLoveLo                        \n",
      "                            eLove                           \n",
      "                              v                             \n",
      "                                                            \n",
      "                                                            \n",
      "                                                            \n",
      "                                                            \n",
      "                                                            \n",
      "                                                            \n",
      "                                                            \n",
      "                                                            \n",
      "                                                            \n",
      "                                                            \n",
      "                                                            \n",
      "                                                            \n",
      "                                                            \n",
      "                                                            \n",
      "                                                            \n",
      "                                                            \n",
      "                                                            \n",
      "                                                            \n",
      "                                                            \n"
     ]
    }
   ],
   "source": [
    "for y in range(30, -30, -1):\n",
    "    for x in range(-30, 30):\n",
    "        if ((x*0.04)**2+(y*0.1)**2-1)**3-(x*0.04)**2*(y*0.1)**3 <= 0:\n",
    "            #print('#', end='')\n",
    "            print('Love'[(x-y) % len('Love')], end='')\n",
    "        else:\n",
    "            print(' ', end='')\n",
    "    print('')\n"
   ]
  },
  {
   "cell_type": "code",
   "execution_count": 39,
   "metadata": {},
   "outputs": [
    {
     "name": "stdout",
     "output_type": "stream",
     "text": [
      "                                                            \n",
      "                                                            \n",
      "                                                            \n",
      "                                                            \n",
      "                                                            \n",
      "                                                            \n",
      "                                                            \n",
      "                                                            \n",
      "                                                            \n",
      "                                                            \n",
      "                                                            \n",
      "                                                            \n",
      "                                                            \n",
      "                                                            \n",
      "                                                            \n",
      "                                                            \n",
      "                                                            \n",
      "                                                            \n",
      "            veLoveLoveL               LoveLoveLov           \n",
      "        eLoveLoveLoveLoveLov     LoveLoveLoveLoveLove       \n",
      "     oveLoveLoveLoveLoveLoveLoveLoveLoveLoveLoveLoveLove    \n",
      "    oveLoveLoveLoveLoveLoveLoveLoveLoveLoveLoveLoveLoveLo   \n",
      "   oveLoveLoveLoveLoveLoveLoveLoveLoveLoveLoveLoveLoveLove  \n",
      "  oveLoveLoveLoveLoveLoveLoveLoveLoveLoveLoveLoveLoveLoveLo \n",
      "  veLoveLoveLoveLoveLoveLoveLoveLoveLoveLoveLoveLoveLoveLov \n",
      "  eLoveLoveLoveLoveLoveLoveLoveLoveLoveLoveLoveLoveLoveLove \n",
      "  LoveLoveLoveLoveLoveLoveLoveLoveLoveLoveLoveLoveLoveLoveL \n",
      "   veLoveLoveLoveLoveLoveLoveLoveLoveLoveLoveLoveLoveLoveL  \n",
      "   eLoveLoveLoveLoveLoveLoveLoveLoveLoveLoveLoveLoveLoveLo  \n",
      "    oveLoveLoveLoveLoveLoveLoveLoveLoveLoveLoveLoveLoveLo   \n",
      "     eLoveLoveLoveLoveLoveLoveLoveLoveLoveLoveLoveLoveLo    \n",
      "       veLoveLoveLoveLoveLoveLoveLoveLoveLoveLoveLoveL      \n",
      "        LoveLoveLoveLoveLoveLoveLoveLoveLoveLoveLoveL       \n",
      "          eLoveLoveLoveLoveLoveLoveLoveLoveLoveLove         \n",
      "            veLoveLoveLoveLoveLoveLoveLoveLoveLov           \n",
      "               veLoveLoveLoveLoveLoveLoveLoveL              \n",
      "                  veLoveLoveLoveLoveLoveLov                 \n",
      "                     veLoveLoveLoveLoveL                    \n",
      "                         eLoveLoveLo                        \n",
      "                            eLove                           \n",
      "                              v                             \n",
      "                                                            \n",
      "                                                            \n",
      "                                                            \n",
      "                                                            \n",
      "                                                            \n",
      "                                                            \n",
      "                                                            \n",
      "                                                            \n",
      "                                                            \n",
      "                                                            \n",
      "                                                            \n",
      "                                                            \n",
      "                                                            \n",
      "                                                            \n",
      "                                                            \n",
      "                                                            \n",
      "                                                            \n",
      "                                                            \n",
      "                                                            \n"
     ]
    }
   ],
   "source": [
    "print('\\n'.join([''.join([('Love'[(x-y) % len('Love')] if ((x*0.04)**2+(y*0.1)**2-1)**3-(x*0.04)**2*(y*0.1)**3 <= 0 else ' ') for x in range(-30, 30)]) for y in range(30, -30, -1)]))\n"
   ]
  },
  {
   "cell_type": "code",
   "execution_count": null,
   "metadata": {},
   "outputs": [],
   "source": []
  }
 ],
 "metadata": {
  "kernelspec": {
   "display_name": "Python 3",
   "language": "python",
   "name": "python3"
  },
  "language_info": {
   "codemirror_mode": {
    "name": "ipython",
    "version": 3
   },
   "file_extension": ".py",
   "mimetype": "text/x-python",
   "name": "python",
   "nbconvert_exporter": "python",
   "pygments_lexer": "ipython3",
   "version": "3.6.9"
  }
 },
 "nbformat": 4,
 "nbformat_minor": 2
}
