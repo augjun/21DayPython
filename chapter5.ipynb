{
 "cells": [
  {
   "cell_type": "markdown",
   "metadata": {},
   "source": [
    "# 什么是类"
   ]
  },
  {
   "cell_type": "code",
   "execution_count": 2,
   "metadata": {},
   "outputs": [],
   "source": [
    "# Python是一门面向对象的编程语言\n",
    "# 而类是面向对象语言的核心概念\n",
    "# 类是对于现实世界中的事物和情景的抽象\n",
    "# 编写类时，你定义一大类对象都有的通用行为\n",
    "# 基于类创建对象 时，每个对象都自动具备这种通用行为，然后可根据需要赋予每个对象独特的个性\n"
   ]
  },
  {
   "cell_type": "markdown",
   "metadata": {},
   "source": [
    "# 类、实例、子类"
   ]
  },
  {
   "cell_type": "code",
   "execution_count": 6,
   "metadata": {},
   "outputs": [],
   "source": [
    "# 类 - 现实世界中某一种事物或情景的抽象\n",
    "# 实例 - 每个对象都属于特定的类，称为该类的实例\n",
    "# 子类 - 子类是一个类的子集。一个类的对象是另一个类的对象的子集时，前者就是后者的子类，后者称为前者的超类\n",
    "# 举例 - 在窗外看到一只鸟，这只鸟就是鸟类的一个实例，鸟类就是一个类。鸟类有多个子类，比如麻雀、白头翁、鸽子等等"
   ]
  },
  {
   "cell_type": "markdown",
   "metadata": {},
   "source": [
    "# 创建自定义类"
   ]
  },
  {
   "cell_type": "code",
   "execution_count": 19,
   "metadata": {},
   "outputs": [],
   "source": [
    "class Person:\n",
    "    # __init__是一个特殊的方法，每次创建新实例，Python都会自动运行它\n",
    "    # 注意，开头和末尾都有两个下划线\n",
    "    # 参数self代表实例本身，实例化的时候会自动传递\n",
    "    def __init__(self, name, age):\n",
    "        self.name = name\n",
    "        self.age = age\n",
    "        \n",
    "    def get_name(self):\n",
    "        return self.name\n",
    "    \n",
    "    def set_age(self, age):\n",
    "        self.age = age\n",
    "        \n",
    "    def increment_age(self, delta):\n",
    "        self.age += delta\n",
    "        \n",
    "    def greet(self):\n",
    "        print(\"Hello, I'm {}. I am {} year-old\".format(self.name, self.age))"
   ]
  },
  {
   "cell_type": "markdown",
   "metadata": {},
   "source": [
    "# 类的实例化"
   ]
  },
  {
   "cell_type": "code",
   "execution_count": 20,
   "metadata": {},
   "outputs": [],
   "source": [
    "# 实例化\n",
    "person = Person(\"john\", 25)"
   ]
  },
  {
   "cell_type": "code",
   "execution_count": 21,
   "metadata": {},
   "outputs": [
    {
     "name": "stdout",
     "output_type": "stream",
     "text": [
      "john 25\n"
     ]
    }
   ],
   "source": [
    "# 访问属性\n",
    "print(person.name, person.age)"
   ]
  },
  {
   "cell_type": "code",
   "execution_count": 22,
   "metadata": {},
   "outputs": [
    {
     "name": "stdout",
     "output_type": "stream",
     "text": [
      "Hello, I'm john. I am 25 year-old\n"
     ]
    }
   ],
   "source": [
    "# 调用方法\n",
    "person.greet()"
   ]
  },
  {
   "cell_type": "code",
   "execution_count": 23,
   "metadata": {},
   "outputs": [
    {
     "name": "stdout",
     "output_type": "stream",
     "text": [
      "30\n"
     ]
    }
   ],
   "source": [
    "# 通过调用方法设置属性值\n",
    "person.set_age(30)\n",
    "print(person.age)"
   ]
  },
  {
   "cell_type": "code",
   "execution_count": 67,
   "metadata": {},
   "outputs": [
    {
     "name": "stdout",
     "output_type": "stream",
     "text": [
      "30\n",
      "20\n"
     ]
    }
   ],
   "source": [
    "# 通过调用方法对属性值进行增减\n",
    "person.set_age(25)\n",
    "person.increment_age(5)\n",
    "print(person.age)\n",
    "person.set_age(25)\n",
    "person.increment_age(-5)\n",
    "print(person.age)"
   ]
  },
  {
   "cell_type": "code",
   "execution_count": null,
   "metadata": {},
   "outputs": [],
   "source": [
    "# 在类的方法中调用其他类方法\n",
    "class Person:\n",
    "    def __init__(self, name, age):\n",
    "        self.name = name\n",
    "        self.age = age\n",
    "\n",
    "    def set_age(self, age):\n",
    "        self.age = age\n",
    "        \n",
    "    def increment_age(self, delta):\n",
    "        age = self.age + delta\n",
    "        self.set_age(age)"
   ]
  },
  {
   "cell_type": "markdown",
   "metadata": {},
   "source": [
    "# 练习一 - 见PPT"
   ]
  },
  {
   "cell_type": "code",
   "execution_count": null,
   "metadata": {},
   "outputs": [],
   "source": []
  },
  {
   "cell_type": "markdown",
   "metadata": {},
   "source": [
    "# 类的继承"
   ]
  },
  {
   "cell_type": "code",
   "execution_count": 32,
   "metadata": {},
   "outputs": [],
   "source": [
    "# 目的：重用类的属性和方法\n",
    "# 子类继承父类，自动获得父类的所有属性和方法\n",
    "# 子类也可以定义自己的属性和方法，甚至重新实现父类的方法"
   ]
  },
  {
   "cell_type": "code",
   "execution_count": 45,
   "metadata": {},
   "outputs": [],
   "source": [
    "# 定义子类\n",
    "# 定义子类时，在括号内指定父类的名称\n",
    "class Person:\n",
    "    def __init__(self, name, age):\n",
    "        self.name = name\n",
    "        self.age = age\n",
    "        \n",
    "    def get_name(self):\n",
    "        return self.name\n",
    "    \n",
    "    def get_age(self):\n",
    "        return self.age\n",
    "    \n",
    "    def print_info(self):\n",
    "        print(\"{} is {} year-old\".format(self.name, self.age))\n",
    "        \n",
    "class Employee(Person):\n",
    "    def __init__(self, name, age, industry):\n",
    "        # 调用父类的__init__函数\n",
    "        # super是一个特殊函数，将父类和子类关联起来\n",
    "        super().__init__(name, age)\n",
    "        # industry是属于子类的新属性\n",
    "        self.industry = industry\n",
    "    \n",
    "    # 属于子类的新方法\n",
    "    def get_industry(self):\n",
    "        return self.industry"
   ]
  },
  {
   "cell_type": "code",
   "execution_count": 46,
   "metadata": {},
   "outputs": [
    {
     "name": "stdout",
     "output_type": "stream",
     "text": [
      "john\n",
      "25\n",
      "finance\n",
      "john is 25 year-old\n"
     ]
    }
   ],
   "source": [
    "employee = Employee(\"john\", 25, \"finance\")\n",
    "# get_name和get_age在父类中定义\n",
    "print(employee.get_name())\n",
    "print(employee.get_age())\n",
    "# get_industry在子类中定义\n",
    "print(employee.get_industry())\n",
    "# print_info在父类中定义\n",
    "employee.print_info()"
   ]
  },
  {
   "cell_type": "code",
   "execution_count": 47,
   "metadata": {},
   "outputs": [],
   "source": [
    "# 重写父类中的方法\n",
    "class Employee(Person):\n",
    "    def __init__(self, name, age, industry):\n",
    "        # 调用父类的__init__函数\n",
    "        # super是一个特殊函数，将父类和子类关联起来\n",
    "        super().__init__(name, age)\n",
    "        # industry是属于子类的新属性\n",
    "        self.industry = industry\n",
    "    \n",
    "    # 属于子类的新方法\n",
    "    def get_industry(self):\n",
    "        return self.industry\n",
    "    \n",
    "    def print_info(self):\n",
    "        print(\"{}: {} year-old, working in {}\".format(self.name, self.age, self.industry))"
   ]
  },
  {
   "cell_type": "code",
   "execution_count": 48,
   "metadata": {},
   "outputs": [
    {
     "name": "stdout",
     "output_type": "stream",
     "text": [
      "john: 25 year-old, working in finance\n"
     ]
    }
   ],
   "source": [
    "employee = Employee(\"john\", 25, \"finance\")\n",
    "employee.print_info()"
   ]
  },
  {
   "cell_type": "markdown",
   "metadata": {},
   "source": [
    "# 练习二 - 见PPT"
   ]
  },
  {
   "cell_type": "code",
   "execution_count": null,
   "metadata": {},
   "outputs": [],
   "source": []
  },
  {
   "cell_type": "code",
   "execution_count": null,
   "metadata": {},
   "outputs": [],
   "source": []
  },
  {
   "cell_type": "code",
   "execution_count": 53,
   "metadata": {},
   "outputs": [
    {
     "name": "stdout",
     "output_type": "stream",
     "text": [
      "marketing\n"
     ]
    }
   ],
   "source": [
    "# 将别的类的实例作为自己的属性\n",
    "# 定义一个部门类\n",
    "class Org:\n",
    "    def __init__(self, name):\n",
    "        self.name = name\n",
    "    \n",
    "# 定义一个员工类\n",
    "class Employee:\n",
    "    def __init__(self, name, age, org):\n",
    "        self.name = name\n",
    "        self.age = age\n",
    "        self.org = org\n",
    "\n",
    "    def get_org(self):\n",
    "        return self.org.name\n",
    "    \n",
    "org = Org(\"marketing\")\n",
    "employee = Employee(\"john\", 25, org)\n",
    "org = employee.get_org()\n",
    "print(org)"
   ]
  },
  {
   "cell_type": "markdown",
   "metadata": {},
   "source": [
    "# 练习三 - 见PPT"
   ]
  },
  {
   "cell_type": "markdown",
   "metadata": {},
   "source": [
    "# 使用模块中的类"
   ]
  },
  {
   "cell_type": "code",
   "execution_count": 65,
   "metadata": {},
   "outputs": [
    {
     "name": "stdout",
     "output_type": "stream",
     "text": [
      "<class 'datetime.timedelta'>\n",
      "5 days, 0:00:00\n"
     ]
    }
   ],
   "source": [
    "# 模块包含定义好的函数、变量和类，可以把模块当成工具包\n",
    "# 可以在模块中导入类\n",
    "# 使用import导入\n",
    "from datetime import timedelta\n",
    "print(timedelta)\n",
    "d = timedelta(days=5)\n",
    "print(d)"
   ]
  },
  {
   "cell_type": "code",
   "execution_count": 66,
   "metadata": {},
   "outputs": [
    {
     "name": "stdout",
     "output_type": "stream",
     "text": [
      "<class 'datetime.timedelta'>\n",
      "<class 'datetime.timedelta'>\n"
     ]
    }
   ],
   "source": [
    "# 两种导入方法\n",
    "from datetime import timedelta\n",
    "print(timedelta)\n",
    "\n",
    "import datetime\n",
    "print(datetime.timedelta)"
   ]
  },
  {
   "cell_type": "code",
   "execution_count": null,
   "metadata": {},
   "outputs": [],
   "source": []
  },
  {
   "cell_type": "markdown",
   "metadata": {},
   "source": [
    "# 实战 - 见PPT"
   ]
  },
  {
   "cell_type": "code",
   "execution_count": null,
   "metadata": {},
   "outputs": [],
   "source": []
  },
  {
   "cell_type": "code",
   "execution_count": null,
   "metadata": {},
   "outputs": [],
   "source": []
  },
  {
   "cell_type": "markdown",
   "metadata": {},
   "source": [
    "# 实战答案"
   ]
  },
  {
   "cell_type": "code",
   "execution_count": 95,
   "metadata": {},
   "outputs": [
    {
     "name": "stdout",
     "output_type": "stream",
     "text": [
      "john's shopping list\n",
      "\n",
      "Product                  Price       Qty            Subtotal\n",
      "------------------------------------------------------------\n",
      "iphone                    5000         1                5000\n",
      "screen protector            20         2                  40\n",
      "case                        50         3                 150\n",
      "------------------------------------------------------------\n",
      "                                                 Total: 5190\n"
     ]
    }
   ],
   "source": [
    "class User:\n",
    "    def __init__(self, name, address):\n",
    "        self.name = name\n",
    "        self.address = address\n",
    "\n",
    "class Product:\n",
    "    def __init__(self, name, price):\n",
    "        self.name = name\n",
    "        self.price = price\n",
    "\n",
    "class ShoppingCart:\n",
    "    def __init__(self, user):\n",
    "        self.shopping_list = []\n",
    "        self.user = user\n",
    "    \n",
    "    def add_item(self, product, num):\n",
    "        self.shopping_list.append((product, num))\n",
    "        \n",
    "    def empty_cart(self):\n",
    "        self.shopping_list = []\n",
    "        \n",
    "    def calc_total_price(self):\n",
    "        total_price = 0\n",
    "        for product, num in self.shopping_list:\n",
    "            total_price += product.price * num\n",
    "        return total_price\n",
    "    \n",
    "    def print_shopping_list(self):\n",
    "        total_price = self.calc_total_price()\n",
    "        print(\"{}'s shopping list\\n\".format(self.user.name))\n",
    "        print(\"{:20}{:>10}{:>10}{:>20}\".format(\"Product\", \"Price\", \"Qty\", \"Subtotal\"))\n",
    "        print('-' * 60)\n",
    "        for product, num in self.shopping_list:\n",
    "            print(\"{:20}{:>10}{:>10}{:>20}\".format(product.name,\n",
    "                                         product.price,\n",
    "                                         num,\n",
    "                                         product.price*num))\n",
    "        print('-' * 60)\n",
    "        print(\"{:>60}\".format(\"Total: \" + str(total_price)))\n",
    "              \n",
    "user = User(\"john\", \"shanghai\")\n",
    "cart = ShoppingCart(user)\n",
    "product1 = Product(\"iphone\", 5000)\n",
    "product2 = Product(\"screen protector\", 20)\n",
    "product3 = Product(\"case\", 50)\n",
    "cart.add_item(product1, 1)\n",
    "cart.add_item(product2, 2)\n",
    "cart.add_item(product3, 3)\n",
    "cart.print_shopping_list()"
   ]
  },
  {
   "cell_type": "code",
   "execution_count": null,
   "metadata": {},
   "outputs": [],
   "source": []
  }
 ],
 "metadata": {
  "kernelspec": {
   "display_name": "Python 3",
   "language": "python",
   "name": "python3"
  },
  "language_info": {
   "codemirror_mode": {
    "name": "ipython",
    "version": 3
   },
   "file_extension": ".py",
   "mimetype": "text/x-python",
   "name": "python",
   "nbconvert_exporter": "python",
   "pygments_lexer": "ipython3",
   "version": "3.7.5"
  }
 },
 "nbformat": 4,
 "nbformat_minor": 2
}
